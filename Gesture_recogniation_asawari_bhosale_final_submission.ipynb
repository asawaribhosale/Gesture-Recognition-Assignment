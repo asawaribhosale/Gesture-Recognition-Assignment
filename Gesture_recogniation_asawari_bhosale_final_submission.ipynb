{
 "cells": [
  {
   "cell_type": "markdown",
   "metadata": {},
   "source": [
    "# Gesture Recognization"
   ]
  },
  {
   "cell_type": "markdown",
   "metadata": {},
   "source": [
    "### Problem Statement\n",
    "\n",
    "As a data scientist at a home electronics company which manufactures state of the art smart televisions. You want to develop a cool feature in the smart-TV that can recognize five different gestures performed by the user which will help users control the TV without using a remote.\n",
    "\n",
    "The gestures are continuously monitored by the webcam mounted on the TV. Each gesture corresponds to a specific command:\n",
    "\n",
    "•\tThumbs up:  Increase the volume\n",
    "\n",
    "•\tThumbs down: Decrease the volume\n",
    "\n",
    "•\tLeft swipe: 'Jump' backwards 10 seconds\n",
    "\n",
    "•\tRight swipe: 'Jump' forward 10 seconds  \n",
    "\n",
    "•\tStop: Pause the movie\n",
    "\n",
    "Each video is a sequence of 30 frames (or images).\n"
   ]
  },
  {
   "cell_type": "markdown",
   "metadata": {},
   "source": [
    "##### Importing Libraries"
   ]
  },
  {
   "cell_type": "code",
   "execution_count": 74,
   "metadata": {
    "id": "pvj44WpH5P7o"
   },
   "outputs": [],
   "source": [
    "import numpy as np\n",
    "import os\n",
    "import imageio\n",
    "from imageio import imread\n",
    "from skimage.transform import resize\n",
    "import datetime\n",
    "import cv2\n",
    "from PIL import Image\n",
    "import matplotlib.pyplot as plt "
   ]
  },
  {
   "cell_type": "markdown",
   "metadata": {},
   "source": [
    "We set the random seed so that the results don't vary drastically."
   ]
  },
  {
   "cell_type": "code",
   "execution_count": 2,
   "metadata": {
    "id": "xdbk2s655XI6"
   },
   "outputs": [],
   "source": [
    "np.random.seed(30)\n",
    "import random as rn\n",
    "rn.seed(30)\n",
    "from keras import backend as K\n",
    "import tensorflow as tf\n",
    "tf.random.set_seed(30)"
   ]
  },
  {
   "cell_type": "markdown",
   "metadata": {},
   "source": [
    "#### Mounting drive and unzip the project sample data"
   ]
  },
  {
   "cell_type": "code",
   "execution_count": 3,
   "metadata": {
    "colab": {
     "base_uri": "https://localhost:8080/"
    },
    "id": "yEfVA3oy5fIM",
    "outputId": "63730126-0157-4451-c328-fc1806cdcef4"
   },
   "outputs": [
    {
     "name": "stdout",
     "output_type": "stream",
     "text": [
      "Mounted at /content/gdrive\n"
     ]
    }
   ],
   "source": [
    "from google.colab import drive\n",
    "drive.mount('/content/gdrive')"
   ]
  },
  {
   "cell_type": "code",
   "execution_count": 4,
   "metadata": {
    "id": "7mTBU_Yo5ofb"
   },
   "outputs": [],
   "source": [
    "!unzip /content/gdrive/MyDrive/Gesture_recognization/Project_data.zip  >/dev/null."
   ]
  },
  {
   "cell_type": "markdown",
   "metadata": {},
   "source": [
    "Reading the folder names for training and validation. \n",
    "\n",
    "Setting up the batch size"
   ]
  },
  {
   "cell_type": "code",
   "execution_count": 75,
   "metadata": {
    "id": "GIjgPOWV6MH_"
   },
   "outputs": [],
   "source": [
    "train_doc = np.random.permutation(open('/content/Project_data/train.csv').readlines())\n",
    "val_doc = np.random.permutation(open('/content/Project_data/val.csv').readlines())\n",
    "batch_size = 25"
   ]
  },
  {
   "cell_type": "code",
   "execution_count": 76,
   "metadata": {
    "id": "SRDQcKG06MnV"
   },
   "outputs": [],
   "source": [
    "# Custom function to crop image :\n",
    "\n",
    "def crop_img(img, scale=1.0):\n",
    "    center_x, center_y = img.shape[1] / 2, img.shape[0] / 2\n",
    "    width_scaled, height_scaled = img.shape[1] * scale, img.shape[0] * scale\n",
    "    left_x, right_x = center_x - width_scaled / 2, center_x + width_scaled / 2\n",
    "    top_y, bottom_y = center_y - height_scaled / 2, center_y + height_scaled / 2\n",
    "    img_cropped = img[int(top_y):int(bottom_y), int(left_x):int(right_x)]\n",
    "    return img_cropped"
   ]
  },
  {
   "cell_type": "markdown",
   "metadata": {},
   "source": [
    "### Generator"
   ]
  },
  {
   "cell_type": "code",
   "execution_count": 77,
   "metadata": {
    "id": "4if8qt2V6MrM"
   },
   "outputs": [],
   "source": [
    "def generator(source_path, folder_list, batch_size):\n",
    "    print( 'Source path = ', source_path, '; batch size =', batch_size)\n",
    "    \n",
    "    #create a list of image numbers you want to use for a particular video\n",
    "    img_idx = [0,1,2,4,6,8,10,12,14,16,18,20,22,24,26,27,28,29]\n",
    "    #list(range(0,29,2))\n",
    "    \n",
    "    while True:\n",
    "        t = np.random.permutation(folder_list)\n",
    "        \n",
    "# calculate the number of batches\n",
    "        num_batches = int(len(t)/batch_size)\n",
    "        \n",
    "# we iterate over the number of batches\n",
    "        for batch in range(num_batches): \n",
    "            \n",
    "# x is the number of images you use for each video, (y,z) is the final size of the input images and 3 is the number of channels RGB          \n",
    "            batch_data = np.zeros((batch_size,18,64,64,3))\n",
    "# batch_labels is the one hot representation of the output\n",
    "            batch_labels = np.zeros((batch_size,5))\n",
    "\n",
    "# iterate over the batch_size    \n",
    "            for folder in range(batch_size): \n",
    "# read all the images in the folder        \n",
    "                imgs = os.listdir(source_path+'/'+ t[folder + (batch*batch_size)].split(';')[0]) \n",
    "#  Iterate over the frames/images of a folder to read them in    \n",
    "                for idx,item in enumerate(img_idx):\n",
    "                    image = cv2.imread(source_path+'/'+ t[folder + (batch*batch_size)].strip().split(';')[0]+'/'+imgs[item],cv2.IMREAD_UNCHANGED).astype(np.float32)\n",
    "                    \n",
    "#crop the images and resize them. Note that the images are of 2 different shape \n",
    "#and the conv3D will throw error if the inputs in a batch have different shapes\n",
    "\n",
    "# Cropping image by 10 % of original size :\n",
    "                    image = crop_img(image, 0.10)\n",
    "    \n",
    "# Resizing the image :    \n",
    "                    if image.shape[1] == 160:\n",
    "                        image = cv2.resize(image[:,20:140,:],(64,64),interpolation = cv2.INTER_AREA).astype(np.float32)\n",
    "                    else:\n",
    "                        image = cv2.resize(image,(64,64),interpolation = cv2.INTER_AREA).astype(np.float32)                    \n",
    "                        \n",
    "#normalise and feed in the image\n",
    "\n",
    "                    batch_data[folder,idx,:,:,0] = (image[:,:,0])/255\n",
    "                    batch_data[folder,idx,:,:,1] = (image[:,:,1])/255\n",
    "                    batch_data[folder,idx,:,:,2] = (image[:,:,2])/255\n",
    "                    \n",
    "                batch_labels[folder, int(t[folder + (batch*batch_size)].strip().split(';')[2])] = 1\n",
    "#you yield the batch_data and the batch_labels, remember what does yield do                \n",
    "            yield batch_data, batch_labels \n",
    "\n",
    "        \n",
    "# write the code for the remaining data points which are left after full batches\n",
    "        if (len(t)%batch_size) != 0:\n",
    "            batch_data = np.zeros((len(t)%batch_size,18,64,64,3))\n",
    "            batch_labels = np.zeros((len(t)%batch_size,5))\n",
    "            for folder in range(len(t)%batch_size):\n",
    "                imgs = os.listdir(source_path+'/'+ t[folder + (num_batches*batch_size)].split(';')[0])\n",
    "                for idx,item in enumerate(img_idx):\n",
    "                    image = cv2.imread(source_path+'/'+ t[folder + (num_batches*batch_size)].strip().split(';')[0]+'/'+imgs[item],cv2.IMREAD_UNCHANGED).astype(np.float32)\n",
    "                    \n",
    "# Cropping image by 10 % of original size :\n",
    "                    image = crop_img(image, 0.10)\n",
    "\n",
    "# Resizing the image :\n",
    "                    if image.shape[1] == 160:\n",
    "                        image = cv2.resize(image[:,20:140,:],(64,64),interpolation = cv2.INTER_AREA).astype(np.float32)\n",
    "                    else:\n",
    "                        image = cv2.resize(image,(64,64),interpolation = cv2.INTER_AREA).astype(np.float32)\n",
    "\n",
    "# Perform normalization on images\n",
    "                    batch_data[folder,idx,:,:,0] = (image[:,:,0])/255\n",
    "                    batch_data[folder,idx,:,:,1] = (image[:,:,1])/255\n",
    "                    batch_data[folder,idx,:,:,2] = (image[:,:,2])/255\n",
    "\n",
    "                batch_labels[folder, int(t[folder + (num_batches*batch_size)].strip().split(';')[2])] = 1\n",
    "\n",
    "            yield batch_data, batch_labels"
   ]
  },
  {
   "cell_type": "code",
   "execution_count": 78,
   "metadata": {
    "colab": {
     "base_uri": "https://localhost:8080/"
    },
    "id": "ELcmr1O_6Mwx",
    "outputId": "33d1a48a-b9ba-4535-fa98-0d0e11891034"
   },
   "outputs": [
    {
     "name": "stdout",
     "output_type": "stream",
     "text": [
      "# training sequences = 663\n",
      "# validation sequences = 100\n"
     ]
    }
   ],
   "source": [
    "curr_dt_time = datetime.datetime.now()\n",
    "train_path = '/content/Project_data/train'\n",
    "val_path = '/content/Project_data/val'\n",
    "num_train_sequences = len(train_doc)\n",
    "print('# training sequences =', num_train_sequences)\n",
    "num_val_sequences = len(val_doc)\n",
    "print('# validation sequences =', num_val_sequences)\n"
   ]
  },
  {
   "cell_type": "code",
   "execution_count": 79,
   "metadata": {
    "colab": {
     "base_uri": "https://localhost:8080/"
    },
    "id": "-HKcQ_7B6M2R",
    "outputId": "4a187a85-33aa-4bb9-a20e-3510deee59ff"
   },
   "outputs": [
    {
     "name": "stdout",
     "output_type": "stream",
     "text": [
      "# epochs = 5\n"
     ]
    }
   ],
   "source": [
    "# choose the number of epochs\n",
    "num_epochs = 5\n",
    "print ('# epochs =', num_epochs)"
   ]
  },
  {
   "cell_type": "code",
   "execution_count": 80,
   "metadata": {
    "id": "ES0JSLaa6M7e"
   },
   "outputs": [],
   "source": [
    "from tensorflow.keras.models import Sequential\n",
    "from tensorflow.keras.layers import Dense, GRU, Dropout, Flatten, BatchNormalization, Activation, Conv3D, MaxPooling3D\n",
    "from tensorflow.keras.callbacks import ModelCheckpoint, ReduceLROnPlateau\n",
    "from tensorflow.keras import optimizers"
   ]
  },
  {
   "cell_type": "markdown",
   "metadata": {
    "id": "9UJSQAAc8NVe"
   },
   "source": [
    "# Model 1"
   ]
  },
  {
   "cell_type": "code",
   "execution_count": 81,
   "metadata": {
    "id": "LTuFQCrm6M_X"
   },
   "outputs": [],
   "source": [
    "# Building the first model which is 3D Conv model:\n",
    "\n",
    "modelConv3D_1 = Sequential()\n",
    "\n",
    "modelConv3D_1.add(Conv3D(8, (3,3,3), padding='same', input_shape=(18,64,64,3)))\n",
    "modelConv3D_1.add(Activation('relu'))\n",
    "modelConv3D_1.add(BatchNormalization())\n",
    "modelConv3D_1.add(MaxPooling3D(pool_size=(2,2,2)))\n",
    "\n",
    "#modelConv3D_1.add(Dropout(0.25))\n",
    "\n",
    "modelConv3D_1.add(Conv3D(16, (3,3,3), padding='same'))\n",
    "modelConv3D_1.add(Activation('relu'))\n",
    "modelConv3D_1.add(BatchNormalization())\n",
    "modelConv3D_1.add(MaxPooling3D(pool_size=(2,2,2)))\n",
    "\n",
    "#modelConv3D_1.add(Dropout(0.25))\n",
    "\n",
    "modelConv3D_1.add(Conv3D(32, (3,3,3), padding='same'))\n",
    "modelConv3D_1.add(BatchNormalization())\n",
    "modelConv3D_1.add(Activation('relu'))\n",
    "modelConv3D_1.add(MaxPooling3D(pool_size=(2,2,2)))\n",
    "\n",
    "#modelConv3D_1.add(Dropout(0.25))\n",
    "\n",
    "modelConv3D_1.add(Conv3D(64, (3,3,3), padding='same'))\n",
    "modelConv3D_1.add(Activation('relu'))\n",
    "modelConv3D_1.add(BatchNormalization())\n",
    "modelConv3D_1.add(MaxPooling3D(pool_size=(2,2,2)))\n",
    "\n",
    "#modelConv3D_1.add(Dropout(0.25))\n",
    "\n",
    "modelConv3D_1.add(Flatten())\n",
    "modelConv3D_1.add(Dense(64, activation='relu'))\n",
    "modelConv3D_1.add(BatchNormalization())\n",
    "modelConv3D_1.add(Dropout(0.25))\n",
    "\n",
    "modelConv3D_1.add(Dense(64, activation='relu'))\n",
    "modelConv3D_1.add(BatchNormalization())\n",
    "modelConv3D_1.add(Dropout(0.25))\n",
    "\n",
    "modelConv3D_1.add(Dense(5, activation='softmax'))\n"
   ]
  },
  {
   "cell_type": "code",
   "execution_count": 82,
   "metadata": {
    "colab": {
     "base_uri": "https://localhost:8080/"
    },
    "id": "tcVPmc7Z6NDo",
    "outputId": "5b6b95ec-8caa-445c-c716-4febcb51307e"
   },
   "outputs": [
    {
     "name": "stdout",
     "output_type": "stream",
     "text": [
      "Model: \"sequential_11\"\n",
      "_________________________________________________________________\n",
      " Layer (type)                Output Shape              Param #   \n",
      "=================================================================\n",
      " conv3d_32 (Conv3D)          (None, 18, 64, 64, 8)     656       \n",
      "                                                                 \n",
      " activation_32 (Activation)  (None, 18, 64, 64, 8)     0         \n",
      "                                                                 \n",
      " batch_normalization_60 (Bat  (None, 18, 64, 64, 8)    32        \n",
      " chNormalization)                                                \n",
      "                                                                 \n",
      " max_pooling3d_24 (MaxPoolin  (None, 9, 32, 32, 8)     0         \n",
      " g3D)                                                            \n",
      "                                                                 \n",
      " conv3d_33 (Conv3D)          (None, 9, 32, 32, 16)     3472      \n",
      "                                                                 \n",
      " activation_33 (Activation)  (None, 9, 32, 32, 16)     0         \n",
      "                                                                 \n",
      " batch_normalization_61 (Bat  (None, 9, 32, 32, 16)    64        \n",
      " chNormalization)                                                \n",
      "                                                                 \n",
      " max_pooling3d_25 (MaxPoolin  (None, 4, 16, 16, 16)    0         \n",
      " g3D)                                                            \n",
      "                                                                 \n",
      " conv3d_34 (Conv3D)          (None, 4, 16, 16, 32)     13856     \n",
      "                                                                 \n",
      " batch_normalization_62 (Bat  (None, 4, 16, 16, 32)    128       \n",
      " chNormalization)                                                \n",
      "                                                                 \n",
      " activation_34 (Activation)  (None, 4, 16, 16, 32)     0         \n",
      "                                                                 \n",
      " max_pooling3d_26 (MaxPoolin  (None, 2, 8, 8, 32)      0         \n",
      " g3D)                                                            \n",
      "                                                                 \n",
      " conv3d_35 (Conv3D)          (None, 2, 8, 8, 64)       55360     \n",
      "                                                                 \n",
      " activation_35 (Activation)  (None, 2, 8, 8, 64)       0         \n",
      "                                                                 \n",
      " batch_normalization_63 (Bat  (None, 2, 8, 8, 64)      256       \n",
      " chNormalization)                                                \n",
      "                                                                 \n",
      " max_pooling3d_27 (MaxPoolin  (None, 1, 4, 4, 64)      0         \n",
      " g3D)                                                            \n",
      "                                                                 \n",
      " flatten_11 (Flatten)        (None, 1024)              0         \n",
      "                                                                 \n",
      " dense_28 (Dense)            (None, 64)                65600     \n",
      "                                                                 \n",
      " batch_normalization_64 (Bat  (None, 64)               256       \n",
      " chNormalization)                                                \n",
      "                                                                 \n",
      " dropout_22 (Dropout)        (None, 64)                0         \n",
      "                                                                 \n",
      " dense_29 (Dense)            (None, 64)                4160      \n",
      "                                                                 \n",
      " batch_normalization_65 (Bat  (None, 64)               256       \n",
      " chNormalization)                                                \n",
      "                                                                 \n",
      " dropout_23 (Dropout)        (None, 64)                0         \n",
      "                                                                 \n",
      " dense_30 (Dense)            (None, 5)                 325       \n",
      "                                                                 \n",
      "=================================================================\n",
      "Total params: 144,421\n",
      "Trainable params: 143,925\n",
      "Non-trainable params: 496\n",
      "_________________________________________________________________\n",
      "None\n"
     ]
    },
    {
     "name": "stderr",
     "output_type": "stream",
     "text": [
      "/usr/local/lib/python3.7/dist-packages/keras/optimizer_v2/adam.py:105: UserWarning: The `lr` argument is deprecated, use `learning_rate` instead.\n",
      "  super(Adam, self).__init__(name, **kwargs)\n"
     ]
    }
   ],
   "source": [
    "#write your optimizer\n",
    "optimiser = optimizers.Adam(lr=0.0002, decay=1e-6)\n",
    "\n",
    "# compile model :\n",
    "modelConv3D_1.compile(optimizer=optimiser, loss='categorical_crossentropy', metrics=['categorical_accuracy'])\n",
    "\n",
    "# Print the model summary :\n",
    "print (modelConv3D_1.summary())"
   ]
  },
  {
   "cell_type": "code",
   "execution_count": 83,
   "metadata": {
    "id": "uSzLaTK46NIC"
   },
   "outputs": [],
   "source": [
    "train_generator = generator(train_path, train_doc, batch_size)\n",
    "val_generator = generator(val_path, val_doc, batch_size)"
   ]
  },
  {
   "cell_type": "code",
   "execution_count": 84,
   "metadata": {
    "colab": {
     "base_uri": "https://localhost:8080/"
    },
    "id": "xfWx6HID6NLh",
    "outputId": "96d650dc-b2d5-4550-8515-8b3c495f291d"
   },
   "outputs": [
    {
     "name": "stdout",
     "output_type": "stream",
     "text": [
      "WARNING:tensorflow:`period` argument is deprecated. Please use `save_freq` to specify the frequency in number of batches seen.\n"
     ]
    }
   ],
   "source": [
    "model_name = 'model_init' + '_' + str(curr_dt_time).replace(' ','').replace(':','_') + '/'\n",
    "    \n",
    "if not os.path.exists(model_name):\n",
    "    os.mkdir(model_name)\n",
    "        \n",
    "filepath = model_name + 'model-{epoch:05d}-{loss:.5f}-{categorical_accuracy:.5f}-{val_loss:.5f}-{val_categorical_accuracy:.5f}.h5'\n",
    "\n",
    "checkpoint = ModelCheckpoint(filepath, monitor='val_loss', verbose=1, save_best_only=False, save_weights_only=False, mode='auto', period=1)\n",
    "\n",
    "# write the REducelronplateau code here\n",
    "LR = ReduceLROnPlateau(monitor='val_loss', factor=0.2, patience=3, verbose=1)\n",
    "\n",
    "callbacks_list = [checkpoint, LR]"
   ]
  },
  {
   "cell_type": "code",
   "execution_count": 85,
   "metadata": {
    "id": "mguJdeLP_Ly3"
   },
   "outputs": [],
   "source": [
    "if (num_train_sequences%batch_size) == 0:\n",
    "    steps_per_epoch = int(num_train_sequences/batch_size)\n",
    "else:\n",
    "    steps_per_epoch = (num_train_sequences//batch_size) + 1\n",
    "\n",
    "if (num_val_sequences%batch_size) == 0:\n",
    "    validation_steps = int(num_val_sequences/batch_size)\n",
    "else:\n",
    "    validation_steps = (num_val_sequences//batch_size) + 1"
   ]
  },
  {
   "cell_type": "code",
   "execution_count": null,
   "metadata": {
    "colab": {
     "base_uri": "https://localhost:8080/"
    },
    "id": "QJOsu9dZ_NXN",
    "outputId": "58b897d1-73ca-47d5-c1aa-90ff8b4c4bc8"
   },
   "outputs": [
    {
     "name": "stdout",
     "output_type": "stream",
     "text": [
      "Source path =  /content/Project_data/train ; batch size = 25\n",
      "Epoch 1/5\n",
      "27/27 [==============================] - ETA: 0s - loss: 2.0805 - categorical_accuracy: 0.2640Source path =  /content/Project_data/val ; batch size = 25\n",
      "\n",
      "Epoch 1: saving model to model_init_2022-07-1205_38_11.756993/model-00001-2.08053-0.26395-1.61548-0.23000.h5\n",
      "27/27 [==============================] - 47s 1s/step - loss: 2.0805 - categorical_accuracy: 0.2640 - val_loss: 1.6155 - val_categorical_accuracy: 0.2300 - lr: 2.0000e-04\n",
      "Epoch 2/5\n",
      "27/27 [==============================] - ETA: 0s - loss: 1.8216 - categorical_accuracy: 0.3167\n",
      "Epoch 2: saving model to model_init_2022-07-1205_38_11.756993/model-00002-1.82159-0.31674-1.66370-0.23000.h5\n",
      "27/27 [==============================] - 26s 1s/step - loss: 1.8216 - categorical_accuracy: 0.3167 - val_loss: 1.6637 - val_categorical_accuracy: 0.2300 - lr: 2.0000e-04\n",
      "Epoch 3/5\n",
      "27/27 [==============================] - ETA: 0s - loss: 1.6988 - categorical_accuracy: 0.3952\n",
      "Epoch 3: saving model to model_init_2022-07-1205_38_11.756993/model-00003-1.69879-0.39517-1.68601-0.22000.h5\n",
      "27/27 [==============================] - 25s 959ms/step - loss: 1.6988 - categorical_accuracy: 0.3952 - val_loss: 1.6860 - val_categorical_accuracy: 0.2200 - lr: 2.0000e-04\n",
      "Epoch 4/5\n",
      "27/27 [==============================] - ETA: 0s - loss: 1.6068 - categorical_accuracy: 0.3786\n",
      "Epoch 4: saving model to model_init_2022-07-1205_38_11.756993/model-00004-1.60678-0.37858-1.70476-0.23000.h5\n",
      "\n",
      "Epoch 4: ReduceLROnPlateau reducing learning rate to 3.9999998989515007e-05.\n",
      "27/27 [==============================] - 26s 981ms/step - loss: 1.6068 - categorical_accuracy: 0.3786 - val_loss: 1.7048 - val_categorical_accuracy: 0.2300 - lr: 2.0000e-04\n",
      "Epoch 5/5\n",
      "27/27 [==============================] - ETA: 0s - loss: 1.5686 - categorical_accuracy: 0.4133\n",
      "Epoch 5: saving model to model_init_2022-07-1205_38_11.756993/model-00005-1.56857-0.41327-1.71360-0.21000.h5\n",
      "27/27 [==============================] - 26s 1s/step - loss: 1.5686 - categorical_accuracy: 0.4133 - val_loss: 1.7136 - val_categorical_accuracy: 0.2100 - lr: 4.0000e-05\n"
     ]
    }
   ],
   "source": [
    "# This is for first model 3D Conv model: (modelConv3D_1)\n",
    "\n",
    "history = modelConv3D_1.fit(train_generator, steps_per_epoch=steps_per_epoch, epochs=num_epochs, verbose=1, \n",
    "                    callbacks=callbacks_list, validation_data=val_generator, \n",
    "                    validation_steps=validation_steps, class_weight=None, workers=1, initial_epoch=0)"
   ]
  },
  {
   "cell_type": "code",
   "execution_count": null,
   "metadata": {
    "colab": {
     "base_uri": "https://localhost:8080/",
     "height": 421
    },
    "id": "kj5UtHfT_P_p",
    "outputId": "fc38bc4b-2e7a-41d1-8aec-9c11d369bab8"
   },
   "outputs": [
    {
     "data": {
      "text/plain": [
       "<matplotlib.legend.Legend at 0x7f9742faba10>"
      ]
     },
     "execution_count": 18,
     "metadata": {},
     "output_type": "execute_result"
    },
    {
     "data": {
      "image/png": "[encoded data removed]",
      "text/plain": [
       "<Figure size 1440x432 with 2 Axes>"
      ]
     },
     "metadata": {
      "needs_background": "light"
     },
     "output_type": "display_data"
    }
   ],
   "source": [
    "# Plotting the result of Model 1 :\n",
    "\n",
    "# summarize history for accuracy\n",
    "\n",
    "\n",
    "plt.figure(figsize=(20,6))\n",
    "ax1 = plt.subplot(121)\n",
    "ax1 = plt.plot(history.history['loss'])\n",
    "ax1 = plt.plot(history.history['val_loss'])\n",
    "plt.title('model loss')\n",
    "plt.ylabel('loss')\n",
    "plt.xlabel('epoch')\n",
    "plt.legend(['train', 'validation'], loc='lower left')\n",
    "ax2 = plt.subplot(122)\n",
    "ax2 = plt.plot(history.history['categorical_accuracy'])\n",
    "ax2 = plt.plot(history.history['val_categorical_accuracy'])\n",
    "plt.title('model accuracy')\n",
    "plt.ylabel('categorical_accuracy')\n",
    "plt.xlabel('epoch')\n",
    "plt.legend(['train', 'validation'], loc='lower left')"
   ]
  },
  {
   "cell_type": "markdown",
   "metadata": {
    "id": "jqmWDoLC_WxQ"
   },
   "source": [
    "# Model 2"
   ]
  },
  {
   "cell_type": "code",
   "execution_count": 86,
   "metadata": {
    "id": "UtwRWRDO_S5C"
   },
   "outputs": [],
   "source": [
    "batch_size = 30\n",
    "num_epochs = 20"
   ]
  },
  {
   "cell_type": "code",
   "execution_count": 87,
   "metadata": {
    "id": "vNXjVxOp_ZiY"
   },
   "outputs": [],
   "source": [
    "# Building the second model which is 3D Conv model:\n",
    "\n",
    "modelConv3D_2 = Sequential()\n",
    "\n",
    "modelConv3D_2.add(Conv3D(8, (3,3,3), padding='same', input_shape=(18,64,64,3)))\n",
    "modelConv3D_2.add(Activation('relu'))\n",
    "modelConv3D_2.add(BatchNormalization())\n",
    "modelConv3D_2.add(MaxPooling3D(pool_size=(2,2,2)))\n",
    "\n",
    "#modelConv3D_2.add(Dropout(0.25))\n",
    "\n",
    "modelConv3D_2.add(Conv3D(16, (3,3,3), padding='same'))\n",
    "modelConv3D_2.add(Activation('relu'))\n",
    "modelConv3D_2.add(BatchNormalization())\n",
    "modelConv3D_2.add(MaxPooling3D(pool_size=(2,2,2)))\n",
    "\n",
    "#modelConv3D_2.add(Dropout(0.25))\n",
    "\n",
    "modelConv3D_2.add(Conv3D(32, (3,3,3), padding='same'))\n",
    "modelConv3D_2.add(BatchNormalization())\n",
    "modelConv3D_2.add(Activation('relu'))\n",
    "modelConv3D_2.add(MaxPooling3D(pool_size=(2,2,2)))\n",
    "\n",
    "#modelConv3D_2.add(Dropout(0.25))\n",
    "\n",
    "modelConv3D_2.add(Conv3D(64, (3,3,3), padding='same'))\n",
    "modelConv3D_2.add(Activation('relu'))\n",
    "modelConv3D_2.add(BatchNormalization())\n",
    "modelConv3D_2.add(MaxPooling3D(pool_size=(2,2,2)))\n",
    "\n",
    "#modelConv3D_2.add(Dropout(0.25))\n",
    "\n",
    "modelConv3D_2.add(Flatten())\n",
    "modelConv3D_2.add(Dense(64, activation='relu'))\n",
    "modelConv3D_2.add(BatchNormalization())\n",
    "modelConv3D_2.add(Dropout(0.50))\n",
    "\n",
    "modelConv3D_2.add(Dense(64, activation='relu'))\n",
    "modelConv3D_2.add(BatchNormalization())\n",
    "modelConv3D_2.add(Dropout(0.25))\n",
    "\n",
    "modelConv3D_2.add(Dense(5, activation='softmax'))"
   ]
  },
  {
   "cell_type": "code",
   "execution_count": 88,
   "metadata": {
    "colab": {
     "base_uri": "https://localhost:8080/"
    },
    "id": "FEVHf_By_d5L",
    "outputId": "ca322c38-6c8c-48dc-845a-60d319a3aef8"
   },
   "outputs": [
    {
     "name": "stdout",
     "output_type": "stream",
     "text": [
      "Model: \"sequential_12\"\n",
      "_________________________________________________________________\n",
      " Layer (type)                Output Shape              Param #   \n",
      "=================================================================\n",
      " conv3d_36 (Conv3D)          (None, 18, 64, 64, 8)     656       \n",
      "                                                                 \n",
      " activation_36 (Activation)  (None, 18, 64, 64, 8)     0         \n",
      "                                                                 \n",
      " batch_normalization_66 (Bat  (None, 18, 64, 64, 8)    32        \n",
      " chNormalization)                                                \n",
      "                                                                 \n",
      " max_pooling3d_28 (MaxPoolin  (None, 9, 32, 32, 8)     0         \n",
      " g3D)                                                            \n",
      "                                                                 \n",
      " conv3d_37 (Conv3D)          (None, 9, 32, 32, 16)     3472      \n",
      "                                                                 \n",
      " activation_37 (Activation)  (None, 9, 32, 32, 16)     0         \n",
      "                                                                 \n",
      " batch_normalization_67 (Bat  (None, 9, 32, 32, 16)    64        \n",
      " chNormalization)                                                \n",
      "                                                                 \n",
      " max_pooling3d_29 (MaxPoolin  (None, 4, 16, 16, 16)    0         \n",
      " g3D)                                                            \n",
      "                                                                 \n",
      " conv3d_38 (Conv3D)          (None, 4, 16, 16, 32)     13856     \n",
      "                                                                 \n",
      " batch_normalization_68 (Bat  (None, 4, 16, 16, 32)    128       \n",
      " chNormalization)                                                \n",
      "                                                                 \n",
      " activation_38 (Activation)  (None, 4, 16, 16, 32)     0         \n",
      "                                                                 \n",
      " max_pooling3d_30 (MaxPoolin  (None, 2, 8, 8, 32)      0         \n",
      " g3D)                                                            \n",
      "                                                                 \n",
      " conv3d_39 (Conv3D)          (None, 2, 8, 8, 64)       55360     \n",
      "                                                                 \n",
      " activation_39 (Activation)  (None, 2, 8, 8, 64)       0         \n",
      "                                                                 \n",
      " batch_normalization_69 (Bat  (None, 2, 8, 8, 64)      256       \n",
      " chNormalization)                                                \n",
      "                                                                 \n",
      " max_pooling3d_31 (MaxPoolin  (None, 1, 4, 4, 64)      0         \n",
      " g3D)                                                            \n",
      "                                                                 \n",
      " flatten_12 (Flatten)        (None, 1024)              0         \n",
      "                                                                 \n",
      " dense_31 (Dense)            (None, 64)                65600     \n",
      "                                                                 \n",
      " batch_normalization_70 (Bat  (None, 64)               256       \n",
      " chNormalization)                                                \n",
      "                                                                 \n",
      " dropout_24 (Dropout)        (None, 64)                0         \n",
      "                                                                 \n",
      " dense_32 (Dense)            (None, 64)                4160      \n",
      "                                                                 \n",
      " batch_normalization_71 (Bat  (None, 64)               256       \n",
      " chNormalization)                                                \n",
      "                                                                 \n",
      " dropout_25 (Dropout)        (None, 64)                0         \n",
      "                                                                 \n",
      " dense_33 (Dense)            (None, 5)                 325       \n",
      "                                                                 \n",
      "=================================================================\n",
      "Total params: 144,421\n",
      "Trainable params: 143,925\n",
      "Non-trainable params: 496\n",
      "_________________________________________________________________\n",
      "None\n"
     ]
    },
    {
     "name": "stderr",
     "output_type": "stream",
     "text": [
      "/usr/local/lib/python3.7/dist-packages/keras/optimizer_v2/adam.py:105: UserWarning: The `lr` argument is deprecated, use `learning_rate` instead.\n",
      "  super(Adam, self).__init__(name, **kwargs)\n"
     ]
    }
   ],
   "source": [
    "#write your optimizer\n",
    "optimiser = optimizers.Adam(lr=0.0002)\n",
    "\n",
    "# compile model :\n",
    "modelConv3D_2.compile(optimizer=optimiser, loss='categorical_crossentropy', metrics=['categorical_accuracy'])\n",
    "\n",
    "# Print the model summary :\n",
    "print (modelConv3D_2.summary())"
   ]
  },
  {
   "cell_type": "code",
   "execution_count": 89,
   "metadata": {
    "id": "SNOLg0gu_f3O"
   },
   "outputs": [],
   "source": [
    "train_generator = generator(train_path, train_doc, batch_size)\n",
    "val_generator = generator(val_path, val_doc, batch_size)"
   ]
  },
  {
   "cell_type": "code",
   "execution_count": 90,
   "metadata": {
    "colab": {
     "base_uri": "https://localhost:8080/"
    },
    "id": "ryzzRdag_f8P",
    "outputId": "ed7978b3-5f60-448f-ae39-503f78203d8a"
   },
   "outputs": [
    {
     "name": "stdout",
     "output_type": "stream",
     "text": [
      "WARNING:tensorflow:`period` argument is deprecated. Please use `save_freq` to specify the frequency in number of batches seen.\n"
     ]
    }
   ],
   "source": [
    "model_name = 'model_init' + '_' + str(curr_dt_time).replace(' ','').replace(':','_') + '/'\n",
    "    \n",
    "if not os.path.exists(model_name):\n",
    "    os.mkdir(model_name)\n",
    "        \n",
    "filepath = model_name + 'model-{epoch:05d}-{loss:.5f}-{categorical_accuracy:.5f}-{val_loss:.5f}-{val_categorical_accuracy:.5f}.h5'\n",
    "\n",
    "checkpoint = ModelCheckpoint(filepath, monitor='val_loss', verbose=1, save_best_only=False, save_weights_only=False, mode='auto', period=1)\n",
    "\n",
    "# write the REducelronplateau code here\n",
    "LR = ReduceLROnPlateau(monitor='val_loss', factor=0.2, patience=4, verbose =1 )\n",
    "\n",
    "callbacks_list = [checkpoint, LR]"
   ]
  },
  {
   "cell_type": "code",
   "execution_count": 91,
   "metadata": {
    "id": "2Y5X-d7S_gAV"
   },
   "outputs": [],
   "source": [
    "if (num_train_sequences%batch_size) == 0:\n",
    "    steps_per_epoch = int(num_train_sequences/batch_size)\n",
    "else:\n",
    "    steps_per_epoch = (num_train_sequences//batch_size) + 1\n",
    "\n",
    "if (num_val_sequences%batch_size) == 0:\n",
    "    validation_steps = int(num_val_sequences/batch_size)\n",
    "else:\n",
    "    validation_steps = (num_val_sequences//batch_size) + 1"
   ]
  },
  {
   "cell_type": "code",
   "execution_count": 92,
   "metadata": {
    "colab": {
     "base_uri": "https://localhost:8080/"
    },
    "id": "muy3GhFb_gDW",
    "outputId": "987ad5cc-304d-49af-bdec-071fd7eee386"
   },
   "outputs": [
    {
     "name": "stdout",
     "output_type": "stream",
     "text": [
      "Source path =  /content/Project_data/train ; batch size = 30\n",
      "Epoch 1/20\n",
      "23/23 [==============================] - ETA: 0s - loss: 2.2486 - categorical_accuracy: 0.2262Source path =  /content/Project_data/val ; batch size = 30\n",
      "\n",
      "Epoch 1: saving model to model_init_2022-07-1306_31_06.274588/model-00001-2.24857-0.22624-1.62773-0.16000.h5\n",
      "23/23 [==============================] - 26s 1s/step - loss: 2.2486 - categorical_accuracy: 0.2262 - val_loss: 1.6277 - val_categorical_accuracy: 0.1600 - lr: 2.0000e-04\n",
      "Epoch 2/20\n",
      "23/23 [==============================] - ETA: 0s - loss: 1.9605 - categorical_accuracy: 0.2821\n",
      "Epoch 2: saving model to model_init_2022-07-1306_31_06.274588/model-00002-1.96055-0.28205-1.68766-0.18000.h5\n",
      "23/23 [==============================] - 23s 1s/step - loss: 1.9605 - categorical_accuracy: 0.2821 - val_loss: 1.6877 - val_categorical_accuracy: 0.1800 - lr: 2.0000e-04\n",
      "Epoch 3/20\n",
      "23/23 [==============================] - ETA: 0s - loss: 1.8852 - categorical_accuracy: 0.2790\n",
      "Epoch 3: saving model to model_init_2022-07-1306_31_06.274588/model-00003-1.88524-0.27903-1.70421-0.21000.h5\n",
      "23/23 [==============================] - 23s 1s/step - loss: 1.8852 - categorical_accuracy: 0.2790 - val_loss: 1.7042 - val_categorical_accuracy: 0.2100 - lr: 2.0000e-04\n",
      "Epoch 4/20\n",
      "23/23 [==============================] - ETA: 0s - loss: 1.8264 - categorical_accuracy: 0.3258\n",
      "Epoch 4: saving model to model_init_2022-07-1306_31_06.274588/model-00004-1.82636-0.32579-1.80978-0.17000.h5\n",
      "23/23 [==============================] - 24s 1s/step - loss: 1.8264 - categorical_accuracy: 0.3258 - val_loss: 1.8098 - val_categorical_accuracy: 0.1700 - lr: 2.0000e-04\n",
      "Epoch 5/20\n",
      "22/23 [===========================>..] - ETA: 0s - loss: 1.7212 - categorical_accuracy: 0.3500\n",
      "Epoch 5: saving model to model_init_2022-07-1306_31_06.274588/model-00005-1.72414-0.34992-1.85464-0.21000.h5\n",
      "\n",
      "Epoch 5: ReduceLROnPlateau reducing learning rate to 3.9999998989515007e-05.\n",
      "23/23 [==============================] - 24s 1s/step - loss: 1.7241 - categorical_accuracy: 0.3499 - val_loss: 1.8546 - val_categorical_accuracy: 0.2100 - lr: 2.0000e-04\n",
      "Epoch 6/20\n",
      "22/23 [===========================>..] - ETA: 0s - loss: 1.7039 - categorical_accuracy: 0.3424\n",
      "Epoch 6: saving model to model_init_2022-07-1306_31_06.274588/model-00006-1.70976-0.34238-1.85908-0.22000.h5\n",
      "23/23 [==============================] - 23s 1s/step - loss: 1.7098 - categorical_accuracy: 0.3424 - val_loss: 1.8591 - val_categorical_accuracy: 0.2200 - lr: 4.0000e-05\n",
      "Epoch 7/20\n",
      "22/23 [===========================>..] - ETA: 0s - loss: 1.6615 - categorical_accuracy: 0.3773\n",
      "Epoch 7: saving model to model_init_2022-07-1306_31_06.274588/model-00007-1.65738-0.37858-2.01530-0.18000.h5\n",
      "23/23 [==============================] - 23s 1s/step - loss: 1.6574 - categorical_accuracy: 0.3786 - val_loss: 2.0153 - val_categorical_accuracy: 0.1800 - lr: 4.0000e-05\n",
      "Epoch 8/20\n",
      "22/23 [===========================>..] - ETA: 0s - loss: 1.6615 - categorical_accuracy: 0.3545\n",
      "Epoch 8: saving model to model_init_2022-07-1306_31_06.274588/model-00008-1.66487-0.35445-1.93392-0.27000.h5\n",
      "23/23 [==============================] - 23s 1s/step - loss: 1.6649 - categorical_accuracy: 0.3544 - val_loss: 1.9339 - val_categorical_accuracy: 0.2700 - lr: 4.0000e-05\n",
      "Epoch 9/20\n",
      "22/23 [===========================>..] - ETA: 0s - loss: 1.5781 - categorical_accuracy: 0.3788\n",
      "Epoch 9: saving model to model_init_2022-07-1306_31_06.274588/model-00009-1.57654-0.37858-2.01436-0.20000.h5\n",
      "\n",
      "Epoch 9: ReduceLROnPlateau reducing learning rate to 7.999999797903002e-06.\n",
      "23/23 [==============================] - 23s 1s/step - loss: 1.5765 - categorical_accuracy: 0.3786 - val_loss: 2.0144 - val_categorical_accuracy: 0.2000 - lr: 4.0000e-05\n",
      "Epoch 10/20\n",
      "22/23 [===========================>..] - ETA: 0s - loss: 1.5811 - categorical_accuracy: 0.3803\n",
      "Epoch 10: saving model to model_init_2022-07-1306_31_06.274588/model-00010-1.58379-0.38009-2.11286-0.14000.h5\n",
      "23/23 [==============================] - 24s 1s/step - loss: 1.5838 - categorical_accuracy: 0.3801 - val_loss: 2.1129 - val_categorical_accuracy: 0.1400 - lr: 8.0000e-06\n",
      "Epoch 11/20\n",
      "23/23 [==============================] - ETA: 0s - loss: 1.6196 - categorical_accuracy: 0.3650\n",
      "Epoch 11: saving model to model_init_2022-07-1306_31_06.274588/model-00011-1.61963-0.36501-2.00509-0.26000.h5\n",
      "23/23 [==============================] - 23s 1s/step - loss: 1.6196 - categorical_accuracy: 0.3650 - val_loss: 2.0051 - val_categorical_accuracy: 0.2600 - lr: 8.0000e-06\n",
      "Epoch 12/20\n",
      "23/23 [==============================] - ETA: 0s - loss: 1.5753 - categorical_accuracy: 0.4072\n",
      "Epoch 12: saving model to model_init_2022-07-1306_31_06.274588/model-00012-1.57527-0.40724-2.10877-0.17000.h5\n",
      "23/23 [==============================] - 22s 1s/step - loss: 1.5753 - categorical_accuracy: 0.4072 - val_loss: 2.1088 - val_categorical_accuracy: 0.1700 - lr: 8.0000e-06\n",
      "Epoch 13/20\n",
      "23/23 [==============================] - ETA: 0s - loss: 1.6061 - categorical_accuracy: 0.3665\n",
      "Epoch 13: saving model to model_init_2022-07-1306_31_06.274588/model-00013-1.60608-0.36652-2.08469-0.21000.h5\n",
      "\n",
      "Epoch 13: ReduceLROnPlateau reducing learning rate to 1.5999999959603884e-06.\n",
      "23/23 [==============================] - 23s 1s/step - loss: 1.6061 - categorical_accuracy: 0.3665 - val_loss: 2.0847 - val_categorical_accuracy: 0.2100 - lr: 8.0000e-06\n",
      "Epoch 14/20\n",
      "22/23 [===========================>..] - ETA: 0s - loss: 1.6970 - categorical_accuracy: 0.3758\n",
      "Epoch 14: saving model to model_init_2022-07-1306_31_06.274588/model-00014-1.69597-0.37557-2.09825-0.16000.h5\n",
      "23/23 [==============================] - 23s 1s/step - loss: 1.6960 - categorical_accuracy: 0.3756 - val_loss: 2.0983 - val_categorical_accuracy: 0.1600 - lr: 1.6000e-06\n",
      "Epoch 15/20\n",
      "23/23 [==============================] - ETA: 0s - loss: 1.5621 - categorical_accuracy: 0.3952\n",
      "Epoch 15: saving model to model_init_2022-07-1306_31_06.274588/model-00015-1.56212-0.39517-2.01263-0.23000.h5\n",
      "23/23 [==============================] - 23s 1s/step - loss: 1.5621 - categorical_accuracy: 0.3952 - val_loss: 2.0126 - val_categorical_accuracy: 0.2300 - lr: 1.6000e-06\n",
      "Epoch 16/20\n",
      "22/23 [===========================>..] - ETA: 0s - loss: 1.6905 - categorical_accuracy: 0.3636\n",
      "Epoch 16: saving model to model_init_2022-07-1306_31_06.274588/model-00016-1.70287-0.36199-2.04871-0.19000.h5\n",
      "23/23 [==============================] - 24s 1s/step - loss: 1.7029 - categorical_accuracy: 0.3620 - val_loss: 2.0487 - val_categorical_accuracy: 0.1900 - lr: 1.6000e-06\n",
      "Epoch 17/20\n",
      "23/23 [==============================] - ETA: 0s - loss: 1.6397 - categorical_accuracy: 0.3605\n",
      "Epoch 17: saving model to model_init_2022-07-1306_31_06.274588/model-00017-1.63968-0.36048-2.01192-0.17000.h5\n",
      "\n",
      "Epoch 17: ReduceLROnPlateau reducing learning rate to 3.200000037395512e-07.\n",
      "23/23 [==============================] - 23s 1s/step - loss: 1.6397 - categorical_accuracy: 0.3605 - val_loss: 2.0119 - val_categorical_accuracy: 0.1700 - lr: 1.6000e-06\n",
      "Epoch 18/20\n",
      "22/23 [===========================>..] - ETA: 0s - loss: 1.5669 - categorical_accuracy: 0.3682\n",
      "Epoch 18: saving model to model_init_2022-07-1306_31_06.274588/model-00018-1.57231-0.36802-1.98442-0.20000.h5\n",
      "23/23 [==============================] - 23s 1s/step - loss: 1.5723 - categorical_accuracy: 0.3680 - val_loss: 1.9844 - val_categorical_accuracy: 0.2000 - lr: 3.2000e-07\n",
      "Epoch 19/20\n",
      "22/23 [===========================>..] - ETA: 0s - loss: 1.5885 - categorical_accuracy: 0.4030\n",
      "Epoch 19: saving model to model_init_2022-07-1306_31_06.274588/model-00019-1.58619-0.40422-1.84525-0.13000.h5\n",
      "23/23 [==============================] - 24s 1s/step - loss: 1.5862 - categorical_accuracy: 0.4042 - val_loss: 1.8453 - val_categorical_accuracy: 0.1300 - lr: 3.2000e-07\n",
      "Epoch 20/20\n",
      "23/23 [==============================] - ETA: 0s - loss: 1.6311 - categorical_accuracy: 0.3695\n",
      "Epoch 20: saving model to model_init_2022-07-1306_31_06.274588/model-00020-1.63108-0.36953-1.85367-0.21000.h5\n",
      "23/23 [==============================] - 22s 1s/step - loss: 1.6311 - categorical_accuracy: 0.3695 - val_loss: 1.8537 - val_categorical_accuracy: 0.2100 - lr: 3.2000e-07\n"
     ]
    }
   ],
   "source": [
    "history = modelConv3D_2.fit(train_generator, steps_per_epoch=steps_per_epoch, epochs=num_epochs, verbose=1, \n",
    "                    callbacks=callbacks_list, validation_data=val_generator, \n",
    "                    validation_steps=validation_steps, class_weight=None, workers=1, initial_epoch=0)"
   ]
  },
  {
   "cell_type": "code",
   "execution_count": 93,
   "metadata": {
    "colab": {
     "base_uri": "https://localhost:8080/",
     "height": 399
    },
    "id": "k6v2G8gt_gGx",
    "outputId": "de53dc85-df88-47ea-9cff-bbebe83be6f9"
   },
   "outputs": [
    {
     "data": {
      "text/plain": [
       "<matplotlib.legend.Legend at 0x7fdd7b5c09d0>"
      ]
     },
     "execution_count": 93,
     "metadata": {},
     "output_type": "execute_result"
    },
    {
     "data": {
      "image/png": "[encoded data removed]",
      "text/plain": [
       "<Figure size 1440x432 with 2 Axes>"
      ]
     },
     "metadata": {
      "needs_background": "light"
     },
     "output_type": "display_data"
    }
   ],
   "source": [
    "# Plotting the result of Model 2 :\n",
    "\n",
    "# summarize history for accuracy\n",
    "\n",
    "\n",
    "plt.figure(figsize=(20,6))\n",
    "ax1 = plt.subplot(121)\n",
    "ax1 = plt.plot(history.history['loss'])\n",
    "ax1 = plt.plot(history.history['val_loss'])\n",
    "plt.title('model loss')\n",
    "plt.ylabel('loss')\n",
    "plt.xlabel('epoch')\n",
    "plt.legend(['train', 'validation'], loc='lower left')\n",
    "ax2 = plt.subplot(122)\n",
    "ax2 = plt.plot(history.history['categorical_accuracy'])\n",
    "ax2 = plt.plot(history.history['val_categorical_accuracy'])\n",
    "plt.title('model accuracy')\n",
    "plt.ylabel('categorical_accuracy')\n",
    "plt.xlabel('epoch')\n",
    "plt.legend(['train', 'validation'], loc='lower left')"
   ]
  },
  {
   "cell_type": "markdown",
   "metadata": {
    "id": "SK0hvw6C_qnQ"
   },
   "source": [
    "# Model 3"
   ]
  },
  {
   "cell_type": "code",
   "execution_count": 94,
   "metadata": {
    "id": "kTNUoYk5_gJ-"
   },
   "outputs": [],
   "source": [
    "# Modified generator function :\n",
    "\n",
    "def generator_modified(source_path, folder_list, batch_size):\n",
    "    print( 'Source path = ', source_path, '; batch size =', batch_size)\n",
    "    \n",
    "    #create a list of image numbers you want to use for a particular video\n",
    "    img_idx = [1,2,4,6,7,8,10,12,14,16,18,20,21,22,24,26,27,29]\n",
    "    #list(range(0,29,2))\n",
    "    \n",
    "    while True:\n",
    "        t = np.random.permutation(folder_list)\n",
    "        \n",
    "# calculate the number of batches\n",
    "        num_batches = int(len(t)/batch_size)\n",
    "        \n",
    "# we iterate over the number of batches\n",
    "        for batch in range(num_batches): \n",
    "            \n",
    "# x is the number of images you use for each video, (y,z) is the final size of the input images and 3 is the number of channels RGB          \n",
    "            batch_data = np.zeros((batch_size,18,84,84,3))\n",
    "# batch_labels is the one hot representation of the output\n",
    "            batch_labels = np.zeros((batch_size,5))\n",
    "\n",
    "# iterate over the batch_size    \n",
    "            for folder in range(batch_size): \n",
    "# read all the images in the folder        \n",
    "                imgs = os.listdir(source_path+'/'+ t[folder + (batch*batch_size)].split(';')[0]) \n",
    "#  Iterate over the frames/images of a folder to read them in    \n",
    "                for idx,item in enumerate(img_idx):\n",
    "                    image = cv2.imread(source_path+'/'+ t[folder + (batch*batch_size)].strip().split(';')[0]+'/'+imgs[item],cv2.IMREAD_UNCHANGED).astype(np.float32)\n",
    "                    \n",
    "#crop the images and resize them. Note that the images are of 2 different shape \n",
    "#and the conv3D will throw error if the inputs in a batch have different shapes\n",
    "\n",
    "# Cropping image by 3 % of original size :\n",
    "                    image = crop_img(image, 0.03)\n",
    "    \n",
    "# Resizing the image :    \n",
    "                    if image.shape[1] == 160:\n",
    "                        image = cv2.resize(image[:,20:140,:],(84,84),interpolation = cv2.INTER_AREA).astype(np.float32)\n",
    "                    else:\n",
    "                        image = cv2.resize(image,(84,84),interpolation = cv2.INTER_AREA).astype(np.float32)                    \n",
    "                        \n",
    "#normalise and feed in the image\n",
    "\n",
    "                    batch_data[folder,idx,:,:,0] = (image[:,:,0])/255\n",
    "                    batch_data[folder,idx,:,:,1] = (image[:,:,1])/255\n",
    "                    batch_data[folder,idx,:,:,2] = (image[:,:,2])/255\n",
    "                    \n",
    "                batch_labels[folder, int(t[folder + (batch*batch_size)].strip().split(';')[2])] = 1\n",
    "#you yield the batch_data and the batch_labels, remember what does yield do                \n",
    "            yield batch_data, batch_labels \n",
    "\n",
    "        \n",
    "# write the code for the remaining data points which are left after full batches\n",
    "        if (len(t)%batch_size) != 0:\n",
    "            batch_data = np.zeros((len(t)%batch_size,18,84,84,3))\n",
    "            batch_labels = np.zeros((len(t)%batch_size,5))\n",
    "            for folder in range(len(t)%batch_size):\n",
    "                imgs = os.listdir(source_path+'/'+ t[folder + (num_batches*batch_size)].split(';')[0])\n",
    "                for idx,item in enumerate(img_idx):\n",
    "                    image = cv2.imread(source_path+'/'+ t[folder + (num_batches*batch_size)].strip().split(';')[0]+'/'+imgs[item],cv2.IMREAD_UNCHANGED).astype(np.float32)\n",
    "                    \n",
    "# Cropping image by 3 % of original size :\n",
    "                    image = crop_img(image, 0.03)\n",
    "\n",
    "# Resizing the image :\n",
    "                    if image.shape[1] == 160:\n",
    "                        image = cv2.resize(image[:,20:140,:],(84,84),interpolation = cv2.INTER_AREA).astype(np.float32)\n",
    "                    else:\n",
    "                        image = cv2.resize(image,(84,84),interpolation = cv2.INTER_AREA).astype(np.float32)\n",
    "\n",
    "# Perform normalization on images\n",
    "                    batch_data[folder,idx,:,:,0] = (image[:,:,0])/255\n",
    "                    batch_data[folder,idx,:,:,1] = (image[:,:,1])/255\n",
    "                    batch_data[folder,idx,:,:,2] = (image[:,:,2])/255\n",
    "\n",
    "                batch_labels[folder, int(t[folder + (num_batches*batch_size)].strip().split(';')[2])] = 1\n",
    "\n",
    "            yield batch_data, batch_labels"
   ]
  },
  {
   "cell_type": "code",
   "execution_count": 95,
   "metadata": {
    "colab": {
     "base_uri": "https://localhost:8080/"
    },
    "id": "X_atrV3B_gNQ",
    "outputId": "eefb6668-47c2-4c1b-d027-382c72c25e34"
   },
   "outputs": [
    {
     "name": "stdout",
     "output_type": "stream",
     "text": [
      "# training sequences = 663\n",
      "# validation sequences = 100\n",
      "# epochs = 20\n",
      "# batch_size = 30\n"
     ]
    }
   ],
   "source": [
    "curr_dt_time = datetime.datetime.now()\n",
    "train_doc = np.random.permutation(open('/content/Project_data/train.csv').readlines())\n",
    "val_doc = np.random.permutation(open('/content/Project_data/val.csv').readlines())\n",
    "num_train_sequences = len(train_doc)\n",
    "print('# training sequences =', num_train_sequences)\n",
    "num_val_sequences = len(val_doc)\n",
    "print('# validation sequences =', num_val_sequences)\n",
    "# choose the number of epochs\n",
    "num_epochs = 20\n",
    "print ('# epochs =', num_epochs)\n",
    "\n",
    "batch_size = 30\n",
    "print ('# batch_size =', batch_size)"
   ]
  },
  {
   "cell_type": "code",
   "execution_count": 96,
   "metadata": {
    "id": "j8unectb_4e6"
   },
   "outputs": [],
   "source": [
    "# Building the  model which is 3D Conv model:\n",
    "\n",
    "modelConv3D_3 = Sequential()\n",
    "\n",
    "modelConv3D_3.add(Conv3D(8, (3,3,3), padding='same', input_shape=(18,84,84,3)))\n",
    "modelConv3D_3.add(Activation('relu'))\n",
    "modelConv3D_3.add(BatchNormalization())\n",
    "modelConv3D_3.add(MaxPooling3D(pool_size=(2,2,2)))\n",
    "\n",
    "#modelConv3D_3.add(Dropout(0.25))\n",
    "\n",
    "modelConv3D_3.add(Conv3D(16, (3,3,3), padding='same'))\n",
    "modelConv3D_3.add(Activation('relu'))\n",
    "modelConv3D_3.add(BatchNormalization())\n",
    "modelConv3D_3.add(MaxPooling3D(pool_size=(2,2,2)))\n",
    "\n",
    "#modelConv3D_3.add(Dropout(0.25))\n",
    "\n",
    "modelConv3D_3.add(Conv3D(32, (3,3,3), padding='same'))\n",
    "modelConv3D_3.add(BatchNormalization())\n",
    "modelConv3D_3.add(Activation('relu'))\n",
    "modelConv3D_3.add(MaxPooling3D(pool_size=(2,2,2)))\n",
    "\n",
    "#modelConv3D_3.add(Dropout(0.25))\n",
    "\n",
    "modelConv3D_3.add(Conv3D(64, (3,3,3), padding='same'))\n",
    "modelConv3D_3.add(Activation('relu'))\n",
    "modelConv3D_3.add(BatchNormalization())\n",
    "modelConv3D_3.add(MaxPooling3D(pool_size=(2,2,2)))\n",
    "\n",
    "#modelConv3D_3.add(Dropout(0.25))\n",
    "\n",
    "modelConv3D_3.add(Flatten())\n",
    "\n",
    "modelConv3D_3.add(Dense(128, activation='relu'))\n",
    "modelConv3D_3.add(BatchNormalization())\n",
    "modelConv3D_3.add(Dropout(0.25))\n",
    "\n",
    "modelConv3D_3.add(Dense(64, activation='relu'))\n",
    "modelConv3D_3.add(BatchNormalization())\n",
    "modelConv3D_3.add(Dropout(0.25))\n",
    "\n",
    "modelConv3D_3.add(Dense(5, activation='softmax'))"
   ]
  },
  {
   "cell_type": "code",
   "execution_count": 97,
   "metadata": {
    "colab": {
     "base_uri": "https://localhost:8080/"
    },
    "id": "7tIYk8bJ_83U",
    "outputId": "a613450b-7edf-42a3-dea3-d37c9893085b"
   },
   "outputs": [
    {
     "name": "stdout",
     "output_type": "stream",
     "text": [
      "Model: \"sequential_13\"\n",
      "_________________________________________________________________\n",
      " Layer (type)                Output Shape              Param #   \n",
      "=================================================================\n",
      " conv3d_40 (Conv3D)          (None, 18, 84, 84, 8)     656       \n",
      "                                                                 \n",
      " activation_40 (Activation)  (None, 18, 84, 84, 8)     0         \n",
      "                                                                 \n",
      " batch_normalization_72 (Bat  (None, 18, 84, 84, 8)    32        \n",
      " chNormalization)                                                \n",
      "                                                                 \n",
      " max_pooling3d_32 (MaxPoolin  (None, 9, 42, 42, 8)     0         \n",
      " g3D)                                                            \n",
      "                                                                 \n",
      " conv3d_41 (Conv3D)          (None, 9, 42, 42, 16)     3472      \n",
      "                                                                 \n",
      " activation_41 (Activation)  (None, 9, 42, 42, 16)     0         \n",
      "                                                                 \n",
      " batch_normalization_73 (Bat  (None, 9, 42, 42, 16)    64        \n",
      " chNormalization)                                                \n",
      "                                                                 \n",
      " max_pooling3d_33 (MaxPoolin  (None, 4, 21, 21, 16)    0         \n",
      " g3D)                                                            \n",
      "                                                                 \n",
      " conv3d_42 (Conv3D)          (None, 4, 21, 21, 32)     13856     \n",
      "                                                                 \n",
      " batch_normalization_74 (Bat  (None, 4, 21, 21, 32)    128       \n",
      " chNormalization)                                                \n",
      "                                                                 \n",
      " activation_42 (Activation)  (None, 4, 21, 21, 32)     0         \n",
      "                                                                 \n",
      " max_pooling3d_34 (MaxPoolin  (None, 2, 10, 10, 32)    0         \n",
      " g3D)                                                            \n",
      "                                                                 \n",
      " conv3d_43 (Conv3D)          (None, 2, 10, 10, 64)     55360     \n",
      "                                                                 \n",
      " activation_43 (Activation)  (None, 2, 10, 10, 64)     0         \n",
      "                                                                 \n",
      " batch_normalization_75 (Bat  (None, 2, 10, 10, 64)    256       \n",
      " chNormalization)                                                \n",
      "                                                                 \n",
      " max_pooling3d_35 (MaxPoolin  (None, 1, 5, 5, 64)      0         \n",
      " g3D)                                                            \n",
      "                                                                 \n",
      " flatten_13 (Flatten)        (None, 1600)              0         \n",
      "                                                                 \n",
      " dense_34 (Dense)            (None, 128)               204928    \n",
      "                                                                 \n",
      " batch_normalization_76 (Bat  (None, 128)              512       \n",
      " chNormalization)                                                \n",
      "                                                                 \n",
      " dropout_26 (Dropout)        (None, 128)               0         \n",
      "                                                                 \n",
      " dense_35 (Dense)            (None, 64)                8256      \n",
      "                                                                 \n",
      " batch_normalization_77 (Bat  (None, 64)               256       \n",
      " chNormalization)                                                \n",
      "                                                                 \n",
      " dropout_27 (Dropout)        (None, 64)                0         \n",
      "                                                                 \n",
      " dense_36 (Dense)            (None, 5)                 325       \n",
      "                                                                 \n",
      "=================================================================\n",
      "Total params: 288,101\n",
      "Trainable params: 287,477\n",
      "Non-trainable params: 624\n",
      "_________________________________________________________________\n",
      "None\n"
     ]
    },
    {
     "name": "stderr",
     "output_type": "stream",
     "text": [
      "/usr/local/lib/python3.7/dist-packages/keras/optimizer_v2/adam.py:105: UserWarning: The `lr` argument is deprecated, use `learning_rate` instead.\n",
      "  super(Adam, self).__init__(name, **kwargs)\n"
     ]
    }
   ],
   "source": [
    "#write your optimizer\n",
    "optimiser = optimizers.Adam(lr=0.0002)\n",
    "\n",
    "# compile model :\n",
    "modelConv3D_3.compile(optimizer=optimiser, loss='categorical_crossentropy', metrics=['categorical_accuracy'])\n",
    "\n",
    "# Print the model summary :\n",
    "print (modelConv3D_3.summary())"
   ]
  },
  {
   "cell_type": "code",
   "execution_count": 98,
   "metadata": {
    "id": "SozW-WJo_9ST"
   },
   "outputs": [],
   "source": [
    "train_generator = generator_modified(train_path, train_doc, batch_size)\n",
    "val_generator = generator_modified(val_path, val_doc, batch_size)"
   ]
  },
  {
   "cell_type": "code",
   "execution_count": 99,
   "metadata": {
    "colab": {
     "base_uri": "https://localhost:8080/"
    },
    "id": "kae6jp_5__Xq",
    "outputId": "ad540317-b868-4de3-ee89-1ce2761a377f"
   },
   "outputs": [
    {
     "name": "stdout",
     "output_type": "stream",
     "text": [
      "WARNING:tensorflow:`period` argument is deprecated. Please use `save_freq` to specify the frequency in number of batches seen.\n"
     ]
    }
   ],
   "source": [
    "model_name = 'model_init' + '_' + str(curr_dt_time).replace(' ','').replace(':','_') + '/'\n",
    "    \n",
    "if not os.path.exists(model_name):\n",
    "    os.mkdir(model_name)\n",
    "        \n",
    "filepath = model_name + 'model-{epoch:05d}-{loss:.5f}-{categorical_accuracy:.5f}-{val_loss:.5f}-{val_categorical_accuracy:.5f}.h5'\n",
    "\n",
    "checkpoint = ModelCheckpoint(filepath, monitor='val_loss', verbose=1, save_best_only=False, save_weights_only=False, mode='auto', period=1)\n",
    "\n",
    "# write the REducelronplateau code here\n",
    "LR = ReduceLROnPlateau(monitor='val_loss', factor=0.2, patience=3, verbose=1)\n",
    "\n",
    "callbacks_list = [checkpoint, LR]"
   ]
  },
  {
   "cell_type": "code",
   "execution_count": 100,
   "metadata": {
    "id": "q8F9dsWU__bG"
   },
   "outputs": [],
   "source": [
    "\n",
    "\n",
    "if (num_train_sequences%batch_size) == 0:\n",
    "    steps_per_epoch = int(num_train_sequences/batch_size)\n",
    "else:\n",
    "    steps_per_epoch = (num_train_sequences//batch_size) + 1\n",
    "\n",
    "if (num_val_sequences%batch_size) == 0:\n",
    "    validation_steps = int(num_val_sequences/batch_size)\n",
    "else:\n",
    "    validation_steps = (num_val_sequences//batch_size) + 1"
   ]
  },
  {
   "cell_type": "code",
   "execution_count": null,
   "metadata": {
    "colab": {
     "base_uri": "https://localhost:8080/"
    },
    "id": "fOOEqZJb__ep",
    "outputId": "253f0445-b01f-4a7b-e8f3-70afcad4c017"
   },
   "outputs": [
    {
     "name": "stderr",
     "output_type": "stream",
     "text": [
      "/usr/local/lib/python3.7/dist-packages/ipykernel_launcher.py:4: UserWarning: `Model.fit_generator` is deprecated and will be removed in a future version. Please use `Model.fit`, which supports generators.\n",
      "  after removing the cwd from sys.path.\n"
     ]
    },
    {
     "name": "stdout",
     "output_type": "stream",
     "text": [
      "Source path =  /content/Project_data/train ; batch size = 30\n",
      "Epoch 1/20\n",
      "23/23 [==============================] - ETA: 0s - loss: 2.0918 - categorical_accuracy: 0.2187Source path =  /content/Project_data/val ; batch size = 30\n",
      "\n",
      "Epoch 1: saving model to model_init_2022-07-1206_13_14.476565/model-00001-2.09177-0.21870-1.64088-0.18000.h5\n",
      "23/23 [==============================] - 27s 1s/step - loss: 2.0918 - categorical_accuracy: 0.2187 - val_loss: 1.6409 - val_categorical_accuracy: 0.1800 - lr: 2.0000e-04\n",
      "Epoch 2/20\n",
      "22/23 [===========================>..] - ETA: 0s - loss: 1.7987 - categorical_accuracy: 0.3121\n",
      "Epoch 2: saving model to model_init_2022-07-1206_13_14.476565/model-00002-1.80237-0.31071-1.70612-0.21000.h5\n",
      "23/23 [==============================] - 25s 1s/step - loss: 1.8024 - categorical_accuracy: 0.3107 - val_loss: 1.7061 - val_categorical_accuracy: 0.2100 - lr: 2.0000e-04\n",
      "Epoch 3/20\n",
      "22/23 [===========================>..] - ETA: 0s - loss: 1.6661 - categorical_accuracy: 0.3545\n",
      "Epoch 3: saving model to model_init_2022-07-1206_13_14.476565/model-00003-1.67116-0.35294-1.78498-0.18000.h5\n",
      "23/23 [==============================] - 24s 1s/step - loss: 1.6712 - categorical_accuracy: 0.3529 - val_loss: 1.7850 - val_categorical_accuracy: 0.1800 - lr: 2.0000e-04\n",
      "Epoch 4/20\n",
      "22/23 [===========================>..] - ETA: 0s - loss: 1.6262 - categorical_accuracy: 0.3576\n",
      "Epoch 4: saving model to model_init_2022-07-1206_13_14.476565/model-00004-1.62662-0.35747-1.78703-0.18000.h5\n",
      "\n",
      "Epoch 4: ReduceLROnPlateau reducing learning rate to 3.9999998989515007e-05.\n",
      "23/23 [==============================] - 24s 1s/step - loss: 1.6266 - categorical_accuracy: 0.3575 - val_loss: 1.7870 - val_categorical_accuracy: 0.1800 - lr: 2.0000e-04\n",
      "Epoch 5/20\n",
      "22/23 [===========================>..] - ETA: 0s - loss: 1.5353 - categorical_accuracy: 0.3985\n",
      "Epoch 5: saving model to model_init_2022-07-1206_13_14.476565/model-00005-1.53438-0.39970-1.85043-0.16000.h5\n",
      "23/23 [==============================] - 25s 1s/step - loss: 1.5344 - categorical_accuracy: 0.3997 - val_loss: 1.8504 - val_categorical_accuracy: 0.1600 - lr: 4.0000e-05\n",
      "Epoch 6/20\n",
      "23/23 [==============================] - ETA: 0s - loss: 1.4946 - categorical_accuracy: 0.4042\n",
      "Epoch 6: saving model to model_init_2022-07-1206_13_14.476565/model-00006-1.49456-0.40422-1.91367-0.17000.h5\n",
      "23/23 [==============================] - 24s 1s/step - loss: 1.4946 - categorical_accuracy: 0.4042 - val_loss: 1.9137 - val_categorical_accuracy: 0.1700 - lr: 4.0000e-05\n",
      "Epoch 7/20\n",
      "23/23 [==============================] - ETA: 0s - loss: 1.5071 - categorical_accuracy: 0.4178\n",
      "Epoch 7: saving model to model_init_2022-07-1206_13_14.476565/model-00007-1.50706-0.41780-1.90653-0.15000.h5\n",
      "\n",
      "Epoch 7: ReduceLROnPlateau reducing learning rate to 7.999999797903002e-06.\n",
      "23/23 [==============================] - 25s 1s/step - loss: 1.5071 - categorical_accuracy: 0.4178 - val_loss: 1.9065 - val_categorical_accuracy: 0.1500 - lr: 4.0000e-05\n",
      "Epoch 8/20\n",
      "23/23 [==============================] - ETA: 0s - loss: 1.4749 - categorical_accuracy: 0.4329\n",
      "Epoch 8: saving model to model_init_2022-07-1206_13_14.476565/model-00008-1.47490-0.43288-1.95153-0.16000.h5\n",
      "23/23 [==============================] - 24s 1s/step - loss: 1.4749 - categorical_accuracy: 0.4329 - val_loss: 1.9515 - val_categorical_accuracy: 0.1600 - lr: 8.0000e-06\n",
      "Epoch 9/20\n",
      "23/23 [==============================] - ETA: 0s - loss: 1.4938 - categorical_accuracy: 0.4057\n",
      "Epoch 9: saving model to model_init_2022-07-1206_13_14.476565/model-00009-1.49379-0.40573-1.97091-0.16000.h5\n",
      "23/23 [==============================] - 24s 1s/step - loss: 1.4938 - categorical_accuracy: 0.4057 - val_loss: 1.9709 - val_categorical_accuracy: 0.1600 - lr: 8.0000e-06\n",
      "Epoch 10/20\n",
      "23/23 [==============================] - ETA: 0s - loss: 1.4604 - categorical_accuracy: 0.4344\n",
      "Epoch 10: saving model to model_init_2022-07-1206_13_14.476565/model-00010-1.46042-0.43439-1.95608-0.14000.h5\n",
      "\n",
      "Epoch 10: ReduceLROnPlateau reducing learning rate to 1.5999999959603884e-06.\n",
      "23/23 [==============================] - 25s 1s/step - loss: 1.4604 - categorical_accuracy: 0.4344 - val_loss: 1.9561 - val_categorical_accuracy: 0.1400 - lr: 8.0000e-06\n",
      "Epoch 11/20\n",
      "22/23 [===========================>..] - ETA: 0s - loss: 1.4317 - categorical_accuracy: 0.4379\n",
      "Epoch 11: saving model to model_init_2022-07-1206_13_14.476565/model-00011-1.43105-0.43741-1.95752-0.16000.h5\n",
      "23/23 [==============================] - 24s 1s/step - loss: 1.4311 - categorical_accuracy: 0.4374 - val_loss: 1.9575 - val_categorical_accuracy: 0.1600 - lr: 1.6000e-06\n",
      "Epoch 12/20\n",
      "23/23 [==============================] - ETA: 0s - loss: 1.3987 - categorical_accuracy: 0.4419\n",
      "Epoch 12: saving model to model_init_2022-07-1206_13_14.476565/model-00012-1.39866-0.44193-1.92766-0.17000.h5\n",
      "23/23 [==============================] - 24s 1s/step - loss: 1.3987 - categorical_accuracy: 0.4419 - val_loss: 1.9277 - val_categorical_accuracy: 0.1700 - lr: 1.6000e-06\n",
      "Epoch 13/20\n",
      "22/23 [===========================>..] - ETA: 0s - loss: 1.4587 - categorical_accuracy: 0.4394\n",
      "Epoch 13: saving model to model_init_2022-07-1206_13_14.476565/model-00013-1.45845-0.44042-1.87736-0.21000.h5\n",
      "\n",
      "Epoch 13: ReduceLROnPlateau reducing learning rate to 3.200000037395512e-07.\n",
      "23/23 [==============================] - 24s 1s/step - loss: 1.4585 - categorical_accuracy: 0.4404 - val_loss: 1.8774 - val_categorical_accuracy: 0.2100 - lr: 1.6000e-06\n",
      "Epoch 14/20\n",
      "23/23 [==============================] - ETA: 0s - loss: 1.4152 - categorical_accuracy: 0.4706\n",
      "Epoch 14: saving model to model_init_2022-07-1206_13_14.476565/model-00014-1.41524-0.47059-1.77163-0.27000.h5\n",
      "23/23 [==============================] - 26s 1s/step - loss: 1.4152 - categorical_accuracy: 0.4706 - val_loss: 1.7716 - val_categorical_accuracy: 0.2700 - lr: 3.2000e-07\n",
      "Epoch 15/20\n",
      "23/23 [==============================] - ETA: 0s - loss: 1.4188 - categorical_accuracy: 0.4404\n",
      "Epoch 15: saving model to model_init_2022-07-1206_13_14.476565/model-00015-1.41880-0.44042-1.83795-0.20000.h5\n",
      "23/23 [==============================] - 24s 1s/step - loss: 1.4188 - categorical_accuracy: 0.4404 - val_loss: 1.8379 - val_categorical_accuracy: 0.2000 - lr: 3.2000e-07\n",
      "Epoch 16/20\n",
      "22/23 [===========================>..] - ETA: 0s - loss: 1.5038 - categorical_accuracy: 0.4030\n",
      "Epoch 16: saving model to model_init_2022-07-1206_13_14.476565/model-00016-1.50876-0.40271-1.68924-0.25000.h5\n",
      "\n",
      "Epoch 16: ReduceLROnPlateau reducing learning rate to 6.399999961104187e-08.\n",
      "23/23 [==============================] - 24s 1s/step - loss: 1.5088 - categorical_accuracy: 0.4027 - val_loss: 1.6892 - val_categorical_accuracy: 0.2500 - lr: 3.2000e-07\n",
      "Epoch 17/20\n",
      "22/23 [===========================>..] - ETA: 0s - loss: 1.4928 - categorical_accuracy: 0.3970\n",
      "Epoch 17: saving model to model_init_2022-07-1206_13_14.476565/model-00017-1.49711-0.39668-1.64911-0.25000.h5\n",
      "23/23 [==============================] - 25s 1s/step - loss: 1.4971 - categorical_accuracy: 0.3967 - val_loss: 1.6491 - val_categorical_accuracy: 0.2500 - lr: 6.4000e-08\n",
      "Epoch 18/20\n",
      "22/23 [===========================>..] - ETA: 0s - loss: 1.4873 - categorical_accuracy: 0.4152\n",
      "Epoch 18: saving model to model_init_2022-07-1206_13_14.476565/model-00018-1.48542-0.41478-1.56526-0.30000.h5\n",
      "23/23 [==============================] - 24s 1s/step - loss: 1.4854 - categorical_accuracy: 0.4148 - val_loss: 1.5653 - val_categorical_accuracy: 0.3000 - lr: 6.4000e-08\n",
      "Epoch 19/20\n",
      "22/23 [===========================>..] - ETA: 0s - loss: 1.4767 - categorical_accuracy: 0.4121\n",
      "Epoch 19: saving model to model_init_2022-07-1206_13_14.476565/model-00019-1.47317-0.41327-1.71401-0.27000.h5\n",
      "23/23 [==============================] - 25s 1s/step - loss: 1.4732 - categorical_accuracy: 0.4133 - val_loss: 1.7140 - val_categorical_accuracy: 0.2700 - lr: 6.4000e-08\n",
      "Epoch 20/20\n",
      "22/23 [===========================>..] - ETA: 0s - loss: 1.4910 - categorical_accuracy: 0.4227\n",
      "Epoch 20: saving model to model_init_2022-07-1206_13_14.476565/model-00020-1.48921-0.42383-1.58295-0.33000.h5\n",
      "23/23 [==============================] - 24s 1s/step - loss: 1.4892 - categorical_accuracy: 0.4238 - val_loss: 1.5830 - val_categorical_accuracy: 0.3300 - lr: 6.4000e-08\n"
     ]
    }
   ],
   "source": [
    "history = modelConv3D_3.fit_generator(train_generator, steps_per_epoch=steps_per_epoch, epochs=num_epochs, verbose=1, \n",
    "                    callbacks=callbacks_list, validation_data=val_generator, \n",
    "                    validation_steps=validation_steps, class_weight=None,\n",
    "                    workers=1, initial_epoch=0)"
   ]
  },
  {
   "cell_type": "code",
   "execution_count": null,
   "metadata": {
    "colab": {
     "base_uri": "https://localhost:8080/",
     "height": 421
    },
    "id": "_ZqLjoT2BlOq",
    "outputId": "d6f4d3c4-1eac-45a2-fb1f-c5957e2ab220"
   },
   "outputs": [
    {
     "data": {
      "text/plain": [
       "<matplotlib.legend.Legend at 0x7f97420d2750>"
      ]
     },
     "execution_count": 35,
     "metadata": {},
     "output_type": "execute_result"
    },
    {
     "data": {
      "image/png": "[encoded data removed]",
      "text/plain": [
       "<Figure size 1440x432 with 2 Axes>"
      ]
     },
     "metadata": {
      "needs_background": "light"
     },
     "output_type": "display_data"
    }
   ],
   "source": [
    "# Plotting the result of Model 3 :\n",
    "\n",
    "# summarize history for accuracy\n",
    "\n",
    "\n",
    "plt.figure(figsize=(20,6))\n",
    "ax1 = plt.subplot(121)\n",
    "ax1 = plt.plot(history.history['loss'])\n",
    "ax1 = plt.plot(history.history['val_loss'])\n",
    "plt.title('model loss')\n",
    "plt.ylabel('loss')\n",
    "plt.xlabel('epoch')\n",
    "plt.legend(['train', 'validation'], loc='lower left')\n",
    "ax2 = plt.subplot(122)\n",
    "ax2 = plt.plot(history.history['categorical_accuracy'])\n",
    "ax2 = plt.plot(history.history['val_categorical_accuracy'])\n",
    "plt.title('model accuracy')\n",
    "plt.ylabel('categorical_accuracy')\n",
    "plt.xlabel('epoch')\n",
    "plt.legend(['train', 'validation'], loc='lower left')"
   ]
  },
  {
   "cell_type": "markdown",
   "metadata": {
    "id": "_Z2Vck_xBlcy"
   },
   "source": [
    "# Model 4"
   ]
  },
  {
   "cell_type": "code",
   "execution_count": 101,
   "metadata": {
    "id": "o4o-alS1B8NK"
   },
   "outputs": [],
   "source": [
    "batch_size = 30"
   ]
  },
  {
   "cell_type": "code",
   "execution_count": 102,
   "metadata": {
    "id": "8HGy_zRRF7C3"
   },
   "outputs": [],
   "source": [
    "def generator(source_path, folder_list, batch_size):\n",
    "    print( 'Source path = ', source_path, '; batch size =', batch_size)\n",
    "    \n",
    "    #create a list of image numbers you want to use for a particular video\n",
    "    img_idx = [x for x in range(0, 30)] \n",
    "    #list(range(0,29,2))\n",
    "    \n",
    "    while True:\n",
    "        t = np.random.permutation(folder_list)\n",
    "        \n",
    "# calculate the number of batches\n",
    "        num_batches = int(len(t)/batch_size)\n",
    "        \n",
    "# we iterate over the number of batches\n",
    "        for batch in range(num_batches): \n",
    "            \n",
    "# x is the number of images you use for each video, (y,z) is the final size of the input images and 3 is the number of channels RGB          \n",
    "            batch_data = np.zeros((batch_size,30,84,84,3))\n",
    "# batch_labels is the one hot representation of the output\n",
    "            batch_labels = np.zeros((batch_size,5))\n",
    "\n",
    "# iterate over the batch_size    \n",
    "            for folder in range(batch_size): \n",
    "# read all the images in the folder        \n",
    "                imgs = os.listdir(source_path+'/'+ t[folder + (batch*batch_size)].split(';')[0]) \n",
    "#  Iterate over the frames/images of a folder to read them in    \n",
    "                for idx,item in enumerate(img_idx):\n",
    "                    image = cv2.imread(source_path+'/'+ t[folder + (batch*batch_size)].strip().split(';')[0]+'/'+imgs[item],cv2.IMREAD_UNCHANGED).astype(np.float32)\n",
    "                    \n",
    "#crop the images and resize them. Note that the images are of 2 different shape \n",
    "#and the conv3D will throw error if the inputs in a batch have different shapes\n",
    "                    if image.shape[1] == 160:\n",
    "                        image = cv2.resize(image[:,20:140,:],(84,84),interpolation = cv2.INTER_AREA).astype(np.float32)\n",
    "                    else:\n",
    "                        image = cv2.resize(image,(84,84),interpolation = cv2.INTER_AREA).astype(np.float32)\n",
    "                                \n",
    "#normalise and feed in the image\n",
    "\n",
    "                    batch_data[folder,idx,:,:,0] = (image[:,:,0])/255\n",
    "                    batch_data[folder,idx,:,:,1] = (image[:,:,1])/255\n",
    "                    batch_data[folder,idx,:,:,2] = (image[:,:,2])/255\n",
    "                    \n",
    "                batch_labels[folder, int(t[folder + (batch*batch_size)].strip().split(';')[2])] = 1\n",
    "#you yield the batch_data and the batch_labels, remember what does yield do                \n",
    "            yield batch_data, batch_labels \n",
    "\n",
    "        \n",
    "# write the code for the remaining data points which are left after full batches\n",
    "        if (len(t)%batch_size) != 0:\n",
    "            batch_data = np.zeros((len(t)%batch_size,30,84,84,3))\n",
    "            batch_labels = np.zeros((len(t)%batch_size,5))\n",
    "            for folder in range(len(t)%batch_size):\n",
    "                imgs = os.listdir(source_path+'/'+ t[folder + (num_batches*batch_size)].split(';')[0])\n",
    "                for idx,item in enumerate(img_idx):\n",
    "                    image = cv2.imread(source_path+'/'+ t[folder + (num_batches*batch_size)].strip().split(';')[0]+'/'+imgs[item],cv2.IMREAD_UNCHANGED).astype(np.float32)\n",
    "                    if image.shape[1] == 160:\n",
    "                        image = cv2.resize(image[:,20:140,:],(84,84),interpolation = cv2.INTER_AREA).astype(np.float32)\n",
    "                    else:\n",
    "                        image = cv2.resize(image,(84,84),interpolation = cv2.INTER_AREA).astype(np.float32)\n",
    "\n",
    "                    batch_data[folder,idx,:,:,0] = (image[:,:,0])/255\n",
    "                    batch_data[folder,idx,:,:,1] = (image[:,:,1])/255\n",
    "                    batch_data[folder,idx,:,:,2] = (image[:,:,2])/255\n",
    "\n",
    "                batch_labels[folder, int(t[folder + (num_batches*batch_size)].strip().split(';')[2])] = 1\n",
    "\n",
    "            yield batch_data, batch_labels"
   ]
  },
  {
   "cell_type": "code",
   "execution_count": 103,
   "metadata": {
    "colab": {
     "base_uri": "https://localhost:8080/"
    },
    "id": "DO1ud12TF7Fz",
    "outputId": "93d1f73e-6646-41b5-d2a3-513aa3bed1e0"
   },
   "outputs": [
    {
     "name": "stdout",
     "output_type": "stream",
     "text": [
      "# training sequences = 663\n",
      "# validation sequences = 100\n",
      "# epochs = 30\n"
     ]
    }
   ],
   "source": [
    "curr_dt_time = datetime.datetime.now()\n",
    "train_path = '/content/Project_data/train'\n",
    "val_path = '/content/Project_data/val'\n",
    "num_train_sequences = len(train_doc)\n",
    "print('# training sequences =', num_train_sequences)\n",
    "num_val_sequences = len(val_doc)\n",
    "print('# validation sequences =', num_val_sequences)\n",
    "# choose the number of epochs\n",
    "num_epochs = 30\n",
    "print ('# epochs =', num_epochs)"
   ]
  },
  {
   "cell_type": "code",
   "execution_count": 104,
   "metadata": {
    "id": "UuCo8xLUF7Ie"
   },
   "outputs": [],
   "source": [
    "#write your model here\n",
    "\n",
    "modelConv3D_5 = Sequential()\n",
    "\n",
    "modelConv3D_5.add(Conv3D(8, (3,3,3), padding='same', input_shape=(30,84,84,3)))\n",
    "modelConv3D_5.add(Activation('relu'))\n",
    "modelConv3D_5.add(BatchNormalization())\n",
    "modelConv3D_5.add(MaxPooling3D(pool_size=(2,2,2)))\n",
    "\n",
    "#modelConv3D_5.add(Dropout(0.25))\n",
    "\n",
    "modelConv3D_5.add(Conv3D(16, (3,3,3), padding='same'))\n",
    "modelConv3D_5.add(Activation('relu'))\n",
    "modelConv3D_5.add(BatchNormalization())\n",
    "modelConv3D_5.add(MaxPooling3D(pool_size=(2,2,2)))\n",
    "\n",
    "#modelConv3D_5.add(Dropout(0.25))\n",
    "\n",
    "modelConv3D_5.add(Conv3D(32, (3,3,3), padding='same'))\n",
    "modelConv3D_5.add(BatchNormalization())\n",
    "modelConv3D_5.add(Activation('relu'))\n",
    "modelConv3D_5.add(MaxPooling3D(pool_size=(2,2,2)))\n",
    "\n",
    "#modelConv3D_5.add(Dropout(0.25))\n",
    "\n",
    "modelConv3D_5.add(Conv3D(64, (3,3,3), padding='same'))\n",
    "modelConv3D_5.add(Activation('relu'))\n",
    "modelConv3D_5.add(BatchNormalization())\n",
    "modelConv3D_5.add(MaxPooling3D(pool_size=(2,2,2)))\n",
    "\n",
    "#modelConv3D_5.add(Dropout(0.25))\n",
    "\n",
    "modelConv3D_5.add(Flatten())\n",
    "modelConv3D_5.add(Dense(64, activation='relu'))\n",
    "modelConv3D_5.add(BatchNormalization())\n",
    "modelConv3D_5.add(Dropout(0.25))\n",
    "\n",
    "modelConv3D_5.add(Dense(64, activation='relu'))\n",
    "modelConv3D_5.add(BatchNormalization())\n",
    "modelConv3D_5.add(Dropout(0.25))\n",
    "\n",
    "modelConv3D_5.add(Dense(5, activation='softmax'))\n",
    "\n"
   ]
  },
  {
   "cell_type": "code",
   "execution_count": 105,
   "metadata": {
    "colab": {
     "base_uri": "https://localhost:8080/"
    },
    "id": "Am4w4O-OF7LO",
    "outputId": "7ec1a8c0-e26b-409a-aba1-a855a667a7e0"
   },
   "outputs": [
    {
     "name": "stdout",
     "output_type": "stream",
     "text": [
      "Model: \"sequential_14\"\n",
      "_________________________________________________________________\n",
      " Layer (type)                Output Shape              Param #   \n",
      "=================================================================\n",
      " conv3d_44 (Conv3D)          (None, 30, 84, 84, 8)     656       \n",
      "                                                                 \n",
      " activation_44 (Activation)  (None, 30, 84, 84, 8)     0         \n",
      "                                                                 \n",
      " batch_normalization_78 (Bat  (None, 30, 84, 84, 8)    32        \n",
      " chNormalization)                                                \n",
      "                                                                 \n",
      " max_pooling3d_36 (MaxPoolin  (None, 15, 42, 42, 8)    0         \n",
      " g3D)                                                            \n",
      "                                                                 \n",
      " conv3d_45 (Conv3D)          (None, 15, 42, 42, 16)    3472      \n",
      "                                                                 \n",
      " activation_45 (Activation)  (None, 15, 42, 42, 16)    0         \n",
      "                                                                 \n",
      " batch_normalization_79 (Bat  (None, 15, 42, 42, 16)   64        \n",
      " chNormalization)                                                \n",
      "                                                                 \n",
      " max_pooling3d_37 (MaxPoolin  (None, 7, 21, 21, 16)    0         \n",
      " g3D)                                                            \n",
      "                                                                 \n",
      " conv3d_46 (Conv3D)          (None, 7, 21, 21, 32)     13856     \n",
      "                                                                 \n",
      " batch_normalization_80 (Bat  (None, 7, 21, 21, 32)    128       \n",
      " chNormalization)                                                \n",
      "                                                                 \n",
      " activation_46 (Activation)  (None, 7, 21, 21, 32)     0         \n",
      "                                                                 \n",
      " max_pooling3d_38 (MaxPoolin  (None, 3, 10, 10, 32)    0         \n",
      " g3D)                                                            \n",
      "                                                                 \n",
      " conv3d_47 (Conv3D)          (None, 3, 10, 10, 64)     55360     \n",
      "                                                                 \n",
      " activation_47 (Activation)  (None, 3, 10, 10, 64)     0         \n",
      "                                                                 \n",
      " batch_normalization_81 (Bat  (None, 3, 10, 10, 64)    256       \n",
      " chNormalization)                                                \n",
      "                                                                 \n",
      " max_pooling3d_39 (MaxPoolin  (None, 1, 5, 5, 64)      0         \n",
      " g3D)                                                            \n",
      "                                                                 \n",
      " flatten_14 (Flatten)        (None, 1600)              0         \n",
      "                                                                 \n",
      " dense_37 (Dense)            (None, 64)                102464    \n",
      "                                                                 \n",
      " batch_normalization_82 (Bat  (None, 64)               256       \n",
      " chNormalization)                                                \n",
      "                                                                 \n",
      " dropout_28 (Dropout)        (None, 64)                0         \n",
      "                                                                 \n",
      " dense_38 (Dense)            (None, 64)                4160      \n",
      "                                                                 \n",
      " batch_normalization_83 (Bat  (None, 64)               256       \n",
      " chNormalization)                                                \n",
      "                                                                 \n",
      " dropout_29 (Dropout)        (None, 64)                0         \n",
      "                                                                 \n",
      " dense_39 (Dense)            (None, 5)                 325       \n",
      "                                                                 \n",
      "=================================================================\n",
      "Total params: 181,285\n",
      "Trainable params: 180,789\n",
      "Non-trainable params: 496\n",
      "_________________________________________________________________\n",
      "None\n"
     ]
    },
    {
     "name": "stderr",
     "output_type": "stream",
     "text": [
      "/usr/local/lib/python3.7/dist-packages/keras/optimizer_v2/adam.py:105: UserWarning: The `lr` argument is deprecated, use `learning_rate` instead.\n",
      "  super(Adam, self).__init__(name, **kwargs)\n"
     ]
    }
   ],
   "source": [
    "#write your optimizer\n",
    "optimiser = optimizers.Adam(lr=0.0002)\n",
    "\n",
    "# compile model :\n",
    "modelConv3D_5.compile(optimizer=optimiser, loss='categorical_crossentropy', metrics=['categorical_accuracy'])\n",
    "print (modelConv3D_5.summary())"
   ]
  },
  {
   "cell_type": "code",
   "execution_count": 106,
   "metadata": {
    "id": "nds_kH3hF7Nj"
   },
   "outputs": [],
   "source": [
    "train_generator = generator(train_path, train_doc, batch_size)\n",
    "val_generator = generator(val_path, val_doc, batch_size)"
   ]
  },
  {
   "cell_type": "code",
   "execution_count": 107,
   "metadata": {
    "colab": {
     "base_uri": "https://localhost:8080/"
    },
    "id": "UH8BAUnwF7Qu",
    "outputId": "5150d0e0-443b-4754-d567-88d8b2dbd0c8"
   },
   "outputs": [
    {
     "name": "stdout",
     "output_type": "stream",
     "text": [
      "WARNING:tensorflow:`period` argument is deprecated. Please use `save_freq` to specify the frequency in number of batches seen.\n"
     ]
    }
   ],
   "source": [
    "model_name = 'model_init' + '_' + str(curr_dt_time).replace(' ','').replace(':','_') + '/'\n",
    "    \n",
    "if not os.path.exists(model_name):\n",
    "    os.mkdir(model_name)\n",
    "        \n",
    "filepath = model_name + 'model-{epoch:05d}-{loss:.5f}-{categorical_accuracy:.5f}-{val_loss:.5f}-{val_categorical_accuracy:.5f}.h5'\n",
    "\n",
    "checkpoint = ModelCheckpoint(filepath, monitor='val_loss', verbose=1, save_best_only=False, save_weights_only=False, mode='auto', period=1)\n",
    "\n",
    "# write the REducelronplateau code here\n",
    "LR = ReduceLROnPlateau(monitor='val_loss', factor=0.2, patience=4)\n",
    "\n",
    "callbacks_list = [checkpoint, LR]\n"
   ]
  },
  {
   "cell_type": "code",
   "execution_count": 108,
   "metadata": {
    "id": "9rU7wb7fF7VL"
   },
   "outputs": [],
   "source": [
    "if (num_train_sequences%batch_size) == 0:\n",
    "    steps_per_epoch = int(num_train_sequences/batch_size)\n",
    "else:\n",
    "    steps_per_epoch = (num_train_sequences//batch_size) + 1\n",
    "\n",
    "if (num_val_sequences%batch_size) == 0:\n",
    "    validation_steps = int(num_val_sequences/batch_size)\n",
    "else:\n",
    "    validation_steps = (num_val_sequences//batch_size) + 1"
   ]
  },
  {
   "cell_type": "code",
   "execution_count": null,
   "metadata": {
    "colab": {
     "base_uri": "https://localhost:8080/"
    },
    "id": "W7W_XdSsB8QB",
    "outputId": "516d3ea2-d077-4999-8eed-617afe99bfeb"
   },
   "outputs": [
    {
     "name": "stdout",
     "output_type": "stream",
     "text": [
      "Source path =  /content/Project_data/train ; batch size = 30\n",
      "Epoch 1/30\n",
      "23/23 [==============================] - ETA: 0s - loss: 2.0200 - categorical_accuracy: 0.2655Source path =  /content/Project_data/val ; batch size = 30\n",
      "\n",
      "Epoch 1: saving model to model_init_2022-07-1206_41_28.923838/model-00001-2.01997-0.26546-1.64752-0.16000.h5\n",
      "23/23 [==============================] - 58s 3s/step - loss: 2.0200 - categorical_accuracy: 0.2655 - val_loss: 1.6475 - val_categorical_accuracy: 0.1600 - lr: 2.0000e-04\n",
      "Epoch 2/30\n",
      "23/23 [==============================] - ETA: 0s - loss: 1.6421 - categorical_accuracy: 0.3575\n",
      "Epoch 2: saving model to model_init_2022-07-1206_41_28.923838/model-00002-1.64207-0.35747-1.75606-0.18000.h5\n",
      "23/23 [==============================] - 50s 2s/step - loss: 1.6421 - categorical_accuracy: 0.3575 - val_loss: 1.7561 - val_categorical_accuracy: 0.1800 - lr: 2.0000e-04\n",
      "Epoch 3/30\n",
      "23/23 [==============================] - ETA: 0s - loss: 1.4123 - categorical_accuracy: 0.4284\n",
      "Epoch 3: saving model to model_init_2022-07-1206_41_28.923838/model-00003-1.41225-0.42836-1.99354-0.15000.h5\n",
      "23/23 [==============================] - 45s 2s/step - loss: 1.4123 - categorical_accuracy: 0.4284 - val_loss: 1.9935 - val_categorical_accuracy: 0.1500 - lr: 2.0000e-04\n",
      "Epoch 4/30\n",
      "22/23 [===========================>..] - ETA: 1s - loss: 1.2948 - categorical_accuracy: 0.4909\n",
      "Epoch 4: saving model to model_init_2022-07-1206_41_28.923838/model-00004-1.29484-0.48869-2.03723-0.18000.h5\n",
      "23/23 [==============================] - 44s 2s/step - loss: 1.2948 - categorical_accuracy: 0.4887 - val_loss: 2.0372 - val_categorical_accuracy: 0.1800 - lr: 2.0000e-04\n",
      "Epoch 5/30\n",
      "22/23 [===========================>..] - ETA: 1s - loss: 1.2024 - categorical_accuracy: 0.5333\n",
      "Epoch 5: saving model to model_init_2022-07-1206_41_28.923838/model-00005-1.20926-0.53092-2.17888-0.16000.h5\n",
      "23/23 [==============================] - 46s 2s/step - loss: 1.2093 - categorical_accuracy: 0.5309 - val_loss: 2.1789 - val_categorical_accuracy: 0.1600 - lr: 2.0000e-04\n",
      "Epoch 6/30\n",
      "23/23 [==============================] - ETA: 0s - loss: 1.1416 - categorical_accuracy: 0.5520\n",
      "Epoch 6: saving model to model_init_2022-07-1206_41_28.923838/model-00006-1.14164-0.55204-2.32555-0.17000.h5\n",
      "23/23 [==============================] - 48s 2s/step - loss: 1.1416 - categorical_accuracy: 0.5520 - val_loss: 2.3256 - val_categorical_accuracy: 0.1700 - lr: 4.0000e-05\n",
      "Epoch 7/30\n",
      "22/23 [===========================>..] - ETA: 1s - loss: 1.1188 - categorical_accuracy: 0.5727\n",
      "Epoch 7: saving model to model_init_2022-07-1206_41_28.923838/model-00007-1.11800-0.57315-2.36106-0.16000.h5\n",
      "23/23 [==============================] - 46s 2s/step - loss: 1.1180 - categorical_accuracy: 0.5732 - val_loss: 2.3611 - val_categorical_accuracy: 0.1600 - lr: 4.0000e-05\n",
      "Epoch 8/30\n",
      "22/23 [===========================>..] - ETA: 1s - loss: 1.0455 - categorical_accuracy: 0.6015\n",
      "Epoch 8: saving model to model_init_2022-07-1206_41_28.923838/model-00008-1.04755-0.60030-2.58424-0.16000.h5\n",
      "23/23 [==============================] - 44s 2s/step - loss: 1.0475 - categorical_accuracy: 0.6003 - val_loss: 2.5842 - val_categorical_accuracy: 0.1600 - lr: 4.0000e-05\n",
      "Epoch 9/30\n",
      "23/23 [==============================] - ETA: 0s - loss: 0.9935 - categorical_accuracy: 0.6063\n",
      "Epoch 9: saving model to model_init_2022-07-1206_41_28.923838/model-00009-0.99355-0.60633-2.65823-0.16000.h5\n",
      "23/23 [==============================] - 46s 2s/step - loss: 0.9935 - categorical_accuracy: 0.6063 - val_loss: 2.6582 - val_categorical_accuracy: 0.1600 - lr: 4.0000e-05\n",
      "Epoch 10/30\n",
      "23/23 [==============================] - ETA: 0s - loss: 1.0284 - categorical_accuracy: 0.6018\n",
      "Epoch 10: saving model to model_init_2022-07-1206_41_28.923838/model-00010-1.02835-0.60181-2.64990-0.15000.h5\n",
      "23/23 [==============================] - 46s 2s/step - loss: 1.0284 - categorical_accuracy: 0.6018 - val_loss: 2.6499 - val_categorical_accuracy: 0.1500 - lr: 8.0000e-06\n",
      "Epoch 11/30\n",
      "23/23 [==============================] - ETA: 0s - loss: 1.0473 - categorical_accuracy: 0.5943\n",
      "Epoch 11: saving model to model_init_2022-07-1206_41_28.923838/model-00011-1.04732-0.59427-2.61442-0.16000.h5\n",
      "23/23 [==============================] - 45s 2s/step - loss: 1.0473 - categorical_accuracy: 0.5943 - val_loss: 2.6144 - val_categorical_accuracy: 0.1600 - lr: 8.0000e-06\n",
      "Epoch 12/30\n",
      "23/23 [==============================] - ETA: 0s - loss: 0.9884 - categorical_accuracy: 0.6094\n",
      "Epoch 12: saving model to model_init_2022-07-1206_41_28.923838/model-00012-0.98840-0.60935-2.66449-0.14000.h5\n",
      "23/23 [==============================] - 44s 2s/step - loss: 0.9884 - categorical_accuracy: 0.6094 - val_loss: 2.6645 - val_categorical_accuracy: 0.1400 - lr: 8.0000e-06\n",
      "Epoch 13/30\n",
      "22/23 [===========================>..] - ETA: 1s - loss: 0.9745 - categorical_accuracy: 0.6121\n",
      "Epoch 13: saving model to model_init_2022-07-1206_41_28.923838/model-00013-0.97533-0.61237-2.61567-0.16000.h5\n",
      "23/23 [==============================] - 46s 2s/step - loss: 0.9753 - categorical_accuracy: 0.6124 - val_loss: 2.6157 - val_categorical_accuracy: 0.1600 - lr: 8.0000e-06\n",
      "Epoch 14/30\n",
      "23/23 [==============================] - ETA: 0s - loss: 0.9784 - categorical_accuracy: 0.6199\n",
      "Epoch 14: saving model to model_init_2022-07-1206_41_28.923838/model-00014-0.97839-0.61991-2.68389-0.16000.h5\n",
      "23/23 [==============================] - 45s 2s/step - loss: 0.9784 - categorical_accuracy: 0.6199 - val_loss: 2.6839 - val_categorical_accuracy: 0.1600 - lr: 1.6000e-06\n",
      "Epoch 15/30\n",
      "22/23 [===========================>..] - ETA: 1s - loss: 0.9310 - categorical_accuracy: 0.6303\n",
      "Epoch 15: saving model to model_init_2022-07-1206_41_28.923838/model-00015-0.93457-0.62896-2.55147-0.19000.h5\n",
      "23/23 [==============================] - 46s 2s/step - loss: 0.9346 - categorical_accuracy: 0.6290 - val_loss: 2.5515 - val_categorical_accuracy: 0.1900 - lr: 1.6000e-06\n",
      "Epoch 16/30\n",
      "23/23 [==============================] - ETA: 0s - loss: 0.9651 - categorical_accuracy: 0.6184\n",
      "Epoch 16: saving model to model_init_2022-07-1206_41_28.923838/model-00016-0.96515-0.61840-2.42174-0.18000.h5\n",
      "23/23 [==============================] - 44s 2s/step - loss: 0.9651 - categorical_accuracy: 0.6184 - val_loss: 2.4217 - val_categorical_accuracy: 0.1800 - lr: 1.6000e-06\n",
      "Epoch 17/30\n",
      "23/23 [==============================] - ETA: 0s - loss: 1.0183 - categorical_accuracy: 0.6154\n",
      "Epoch 17: saving model to model_init_2022-07-1206_41_28.923838/model-00017-1.01827-0.61538-2.23832-0.18000.h5\n",
      "23/23 [==============================] - 46s 2s/step - loss: 1.0183 - categorical_accuracy: 0.6154 - val_loss: 2.2383 - val_categorical_accuracy: 0.1800 - lr: 1.6000e-06\n",
      "Epoch 18/30\n",
      "23/23 [==============================] - ETA: 0s - loss: 1.0163 - categorical_accuracy: 0.5973\n",
      "Epoch 18: saving model to model_init_2022-07-1206_41_28.923838/model-00018-1.01625-0.59729-1.96485-0.24000.h5\n",
      "23/23 [==============================] - 45s 2s/step - loss: 1.0163 - categorical_accuracy: 0.5973 - val_loss: 1.9649 - val_categorical_accuracy: 0.2400 - lr: 3.2000e-07\n",
      "Epoch 19/30\n",
      "23/23 [==============================] - ETA: 0s - loss: 0.9900 - categorical_accuracy: 0.6229\n",
      "Epoch 19: saving model to model_init_2022-07-1206_41_28.923838/model-00019-0.98996-0.62293-1.92923-0.21000.h5\n",
      "23/23 [==============================] - 47s 2s/step - loss: 0.9900 - categorical_accuracy: 0.6229 - val_loss: 1.9292 - val_categorical_accuracy: 0.2100 - lr: 3.2000e-07\n",
      "Epoch 20/30\n",
      "23/23 [==============================] - ETA: 0s - loss: 0.9791 - categorical_accuracy: 0.6380\n",
      "Epoch 20: saving model to model_init_2022-07-1206_41_28.923838/model-00020-0.97911-0.63801-1.82804-0.26000.h5\n",
      "23/23 [==============================] - 44s 2s/step - loss: 0.9791 - categorical_accuracy: 0.6380 - val_loss: 1.8280 - val_categorical_accuracy: 0.2600 - lr: 3.2000e-07\n",
      "Epoch 21/30\n",
      "23/23 [==============================] - ETA: 0s - loss: 0.9942 - categorical_accuracy: 0.6063\n",
      "Epoch 21: saving model to model_init_2022-07-1206_41_28.923838/model-00021-0.99423-0.60633-1.68442-0.29000.h5\n",
      "23/23 [==============================] - 45s 2s/step - loss: 0.9942 - categorical_accuracy: 0.6063 - val_loss: 1.6844 - val_categorical_accuracy: 0.2900 - lr: 3.2000e-07\n",
      "Epoch 22/30\n",
      "22/23 [===========================>..] - ETA: 1s - loss: 0.9909 - categorical_accuracy: 0.6136\n",
      "Epoch 22: saving model to model_init_2022-07-1206_41_28.923838/model-00022-0.98887-0.61388-1.56330-0.34000.h5\n",
      "23/23 [==============================] - 45s 2s/step - loss: 0.9889 - categorical_accuracy: 0.6139 - val_loss: 1.5633 - val_categorical_accuracy: 0.3400 - lr: 6.4000e-08\n",
      "Epoch 23/30\n",
      "22/23 [===========================>..] - ETA: 1s - loss: 0.9784 - categorical_accuracy: 0.6091\n",
      "Epoch 23: saving model to model_init_2022-07-1206_41_28.923838/model-00023-0.97686-0.61086-1.47991-0.31000.h5\n",
      "23/23 [==============================] - 46s 2s/step - loss: 0.9769 - categorical_accuracy: 0.6109 - val_loss: 1.4799 - val_categorical_accuracy: 0.3100 - lr: 6.4000e-08\n",
      "Epoch 24/30\n",
      "23/23 [==============================] - ETA: 0s - loss: 1.0131 - categorical_accuracy: 0.6063\n",
      "Epoch 24: saving model to model_init_2022-07-1206_41_28.923838/model-00024-1.01306-0.60633-1.38157-0.35000.h5\n",
      "23/23 [==============================] - 44s 2s/step - loss: 1.0131 - categorical_accuracy: 0.6063 - val_loss: 1.3816 - val_categorical_accuracy: 0.3500 - lr: 6.4000e-08\n",
      "Epoch 25/30\n",
      "22/23 [===========================>..] - ETA: 1s - loss: 1.0122 - categorical_accuracy: 0.6000\n",
      "Epoch 25: saving model to model_init_2022-07-1206_41_28.923838/model-00025-1.01067-0.60030-1.29846-0.42000.h5\n",
      "23/23 [==============================] - 45s 2s/step - loss: 1.0107 - categorical_accuracy: 0.6003 - val_loss: 1.2985 - val_categorical_accuracy: 0.4200 - lr: 6.4000e-08\n",
      "Epoch 26/30\n",
      "23/23 [==============================] - ETA: 0s - loss: 0.9708 - categorical_accuracy: 0.6275\n",
      "Epoch 26: saving model to model_init_2022-07-1206_41_28.923838/model-00026-0.97082-0.62745-1.23131-0.47000.h5\n",
      "23/23 [==============================] - 45s 2s/step - loss: 0.9708 - categorical_accuracy: 0.6275 - val_loss: 1.2313 - val_categorical_accuracy: 0.4700 - lr: 6.4000e-08\n",
      "Epoch 27/30\n",
      "23/23 [==============================] - ETA: 0s - loss: 0.9820 - categorical_accuracy: 0.6124\n",
      "Epoch 27: saving model to model_init_2022-07-1206_41_28.923838/model-00027-0.98200-0.61237-1.15798-0.52000.h5\n",
      "23/23 [==============================] - 45s 2s/step - loss: 0.9820 - categorical_accuracy: 0.6124 - val_loss: 1.1580 - val_categorical_accuracy: 0.5200 - lr: 6.4000e-08\n",
      "Epoch 28/30\n",
      "23/23 [==============================] - ETA: 0s - loss: 0.9960 - categorical_accuracy: 0.6214\n",
      "Epoch 28: saving model to model_init_2022-07-1206_41_28.923838/model-00028-0.99605-0.62142-1.12826-0.54000.h5\n",
      "23/23 [==============================] - 43s 2s/step - loss: 0.9960 - categorical_accuracy: 0.6214 - val_loss: 1.1283 - val_categorical_accuracy: 0.5400 - lr: 6.4000e-08\n",
      "Epoch 29/30\n",
      "22/23 [===========================>..] - ETA: 1s - loss: 0.9703 - categorical_accuracy: 0.6242\n",
      "Epoch 29: saving model to model_init_2022-07-1206_41_28.923838/model-00029-0.97504-0.62293-1.15106-0.53000.h5\n",
      "23/23 [==============================] - 45s 2s/step - loss: 0.9750 - categorical_accuracy: 0.6229 - val_loss: 1.1511 - val_categorical_accuracy: 0.5300 - lr: 6.4000e-08\n",
      "Epoch 30/30\n",
      "23/23 [==============================] - ETA: 0s - loss: 0.9382 - categorical_accuracy: 0.6410\n",
      "Epoch 30: saving model to model_init_2022-07-1206_41_28.923838/model-00030-0.93822-0.64103-1.20107-0.48000.h5\n",
      "23/23 [==============================] - 45s 2s/step - loss: 0.9382 - categorical_accuracy: 0.6410 - val_loss: 1.2011 - val_categorical_accuracy: 0.4800 - lr: 6.4000e-08\n"
     ]
    }
   ],
   "source": [
    "history = modelConv3D_5.fit(train_generator, steps_per_epoch=steps_per_epoch, epochs=num_epochs, verbose=1, \n",
    "                    callbacks=callbacks_list, validation_data=val_generator, \n",
    "                    validation_steps=validation_steps, class_weight=None, workers=1, initial_epoch=0)"
   ]
  },
  {
   "cell_type": "code",
   "execution_count": null,
   "metadata": {
    "colab": {
     "base_uri": "https://localhost:8080/",
     "height": 421
    },
    "id": "P5gURVgmGLTt",
    "outputId": "67893d18-03dd-4556-c95e-10d37317a491"
   },
   "outputs": [
    {
     "data": {
      "text/plain": [
       "<matplotlib.legend.Legend at 0x7f96a40abc50>"
      ]
     },
     "execution_count": 56,
     "metadata": {},
     "output_type": "execute_result"
    },
    {
     "data": {
      "image/png": "[encoded data removed]",
      "text/plain": [
       "<Figure size 1440x432 with 2 Axes>"
      ]
     },
     "metadata": {
      "needs_background": "light"
     },
     "output_type": "display_data"
    }
   ],
   "source": [
    "# Plotting the result of Model 4 :\n",
    "\n",
    "# summarize history for accuracy\n",
    "\n",
    "\n",
    "plt.figure(figsize=(20,6))\n",
    "ax1 = plt.subplot(121)\n",
    "ax1 = plt.plot(history.history['loss'])\n",
    "ax1 = plt.plot(history.history['val_loss'])\n",
    "plt.title('model loss')\n",
    "plt.ylabel('loss')\n",
    "plt.xlabel('epoch')\n",
    "plt.legend(['train', 'validation'], loc='lower left')\n",
    "ax2 = plt.subplot(122)\n",
    "ax2 = plt.plot(history.history['categorical_accuracy'])\n",
    "ax2 = plt.plot(history.history['val_categorical_accuracy'])\n",
    "plt.title('model accuracy')\n",
    "plt.ylabel('categorical_accuracy')\n",
    "plt.xlabel('epoch')\n",
    "plt.legend(['train', 'validation'], loc='lower left')"
   ]
  },
  {
   "cell_type": "markdown",
   "metadata": {
    "id": "MpH5mmoWQlrP"
   },
   "source": [
    "# Model 5"
   ]
  },
  {
   "cell_type": "code",
   "execution_count": 109,
   "metadata": {
    "id": "0z-ZTmOZQ7_z"
   },
   "outputs": [],
   "source": [
    "# Doing the required imports :\n",
    "\n",
    "from keras.models import Sequential, Model\n",
    "from keras.layers import Dense, GRU, Flatten, TimeDistributed, Flatten, BatchNormalization, Activation, Dropout\n",
    "from keras.layers.convolutional import Conv3D, MaxPooling3D\n",
    "from keras.callbacks import ModelCheckpoint, ReduceLROnPlateau\n",
    "from keras import optimizers\n",
    "from keras.losses import categorical_crossentropy\n",
    "from keras.layers.convolutional import Conv2D, MaxPooling3D, Conv3D, MaxPooling2D\n",
    "from keras.layers.recurrent import GRU\n",
    "from keras.layers import Activation, Dropout, ZeroPadding3D\n",
    "from keras.layers.recurrent import LSTM\n",
    "\n",
    "from tensorflow.keras.models import Sequential\n",
    "from tensorflow.keras.layers import Dense, GRU, Dropout, Flatten, BatchNormalization, Activation, Conv3D, MaxPooling3D\n",
    "from tensorflow.keras.callbacks import ModelCheckpoint, ReduceLROnPlateau\n",
    "from tensorflow.keras import optimizers"
   ]
  },
  {
   "cell_type": "code",
   "execution_count": 110,
   "metadata": {
    "id": "CebKwKAoP1wH"
   },
   "outputs": [],
   "source": [
    "# Input\n",
    "input_shape=(30,120,120,3)"
   ]
  },
  {
   "cell_type": "code",
   "execution_count": 111,
   "metadata": {
    "id": "NNRNfcxOQsML"
   },
   "outputs": [],
   "source": [
    "#write your model here\n",
    "CNNlstm_1 = Sequential()\n",
    "\n",
    "CNNlstm_1.add(TimeDistributed(Conv2D(16, (3, 3) , padding='same', activation='relu'),\n",
    "                          input_shape=input_shape))\n",
    "CNNlstm_1.add(TimeDistributed(BatchNormalization()))\n",
    "CNNlstm_1.add(TimeDistributed(MaxPooling2D((2, 2))))\n",
    "\n",
    "CNNlstm_1.add(TimeDistributed(Conv2D(32, (3, 3) , padding='same', activation='relu')))\n",
    "CNNlstm_1.add(TimeDistributed(BatchNormalization()))\n",
    "CNNlstm_1.add(TimeDistributed(MaxPooling2D((2, 2))))\n",
    "\n",
    "CNNlstm_1.add(TimeDistributed(Conv2D(64, (3, 3) , padding='same', activation='relu')))\n",
    "CNNlstm_1.add(TimeDistributed(BatchNormalization()))\n",
    "CNNlstm_1.add(TimeDistributed(MaxPooling2D((2, 2))))\n",
    "\n",
    "CNNlstm_1.add(TimeDistributed(Conv2D(128, (3, 3) , padding='same', activation='relu')))\n",
    "CNNlstm_1.add(TimeDistributed(BatchNormalization()))\n",
    "CNNlstm_1.add(TimeDistributed(MaxPooling2D((2, 2))))\n",
    "\n",
    "CNNlstm_1.add(TimeDistributed(Conv2D(256, (3, 3) , padding='same', activation='relu')))\n",
    "CNNlstm_1.add(TimeDistributed(BatchNormalization()))\n",
    "CNNlstm_1.add(TimeDistributed(MaxPooling2D((2, 2))))\n",
    "\n",
    "CNNlstm_1.add(TimeDistributed(Flatten()))\n",
    "\n",
    "\n",
    "CNNlstm_1.add(LSTM(128))\n",
    "CNNlstm_1.add(Dropout(0.25))\n",
    "\n",
    "CNNlstm_1.add(Dense(128,activation='relu'))\n",
    "CNNlstm_1.add(Dropout(0.25))\n",
    "\n",
    "CNNlstm_1.add(Dense(5, activation='softmax'))\n",
    "\n"
   ]
  },
  {
   "cell_type": "code",
   "execution_count": 112,
   "metadata": {
    "colab": {
     "base_uri": "https://localhost:8080/"
    },
    "id": "75O-rHcPQt23",
    "outputId": "98e59450-1fbd-4fcd-ade6-8d5b889c64ed"
   },
   "outputs": [
    {
     "name": "stdout",
     "output_type": "stream",
     "text": [
      "Model: \"sequential_15\"\n",
      "_________________________________________________________________\n",
      " Layer (type)                Output Shape              Param #   \n",
      "=================================================================\n",
      " time_distributed_53 (TimeDi  (None, 30, 120, 120, 16)  448      \n",
      " stributed)                                                      \n",
      "                                                                 \n",
      " time_distributed_54 (TimeDi  (None, 30, 120, 120, 16)  64       \n",
      " stributed)                                                      \n",
      "                                                                 \n",
      " time_distributed_55 (TimeDi  (None, 30, 60, 60, 16)   0         \n",
      " stributed)                                                      \n",
      "                                                                 \n",
      " time_distributed_56 (TimeDi  (None, 30, 60, 60, 32)   4640      \n",
      " stributed)                                                      \n",
      "                                                                 \n",
      " time_distributed_57 (TimeDi  (None, 30, 60, 60, 32)   128       \n",
      " stributed)                                                      \n",
      "                                                                 \n",
      " time_distributed_58 (TimeDi  (None, 30, 30, 30, 32)   0         \n",
      " stributed)                                                      \n",
      "                                                                 \n",
      " time_distributed_59 (TimeDi  (None, 30, 30, 30, 64)   18496     \n",
      " stributed)                                                      \n",
      "                                                                 \n",
      " time_distributed_60 (TimeDi  (None, 30, 30, 30, 64)   256       \n",
      " stributed)                                                      \n",
      "                                                                 \n",
      " time_distributed_61 (TimeDi  (None, 30, 15, 15, 64)   0         \n",
      " stributed)                                                      \n",
      "                                                                 \n",
      " time_distributed_62 (TimeDi  (None, 30, 15, 15, 128)  73856     \n",
      " stributed)                                                      \n",
      "                                                                 \n",
      " time_distributed_63 (TimeDi  (None, 30, 15, 15, 128)  512       \n",
      " stributed)                                                      \n",
      "                                                                 \n",
      " time_distributed_64 (TimeDi  (None, 30, 7, 7, 128)    0         \n",
      " stributed)                                                      \n",
      "                                                                 \n",
      " time_distributed_65 (TimeDi  (None, 30, 7, 7, 256)    295168    \n",
      " stributed)                                                      \n",
      "                                                                 \n",
      " time_distributed_66 (TimeDi  (None, 30, 7, 7, 256)    1024      \n",
      " stributed)                                                      \n",
      "                                                                 \n",
      " time_distributed_67 (TimeDi  (None, 30, 3, 3, 256)    0         \n",
      " stributed)                                                      \n",
      "                                                                 \n",
      " time_distributed_68 (TimeDi  (None, 30, 2304)         0         \n",
      " stributed)                                                      \n",
      "                                                                 \n",
      " lstm_3 (LSTM)               (None, 128)               1245696   \n",
      "                                                                 \n",
      " dropout_30 (Dropout)        (None, 128)               0         \n",
      "                                                                 \n",
      " dense_40 (Dense)            (None, 128)               16512     \n",
      "                                                                 \n",
      " dropout_31 (Dropout)        (None, 128)               0         \n",
      "                                                                 \n",
      " dense_41 (Dense)            (None, 5)                 645       \n",
      "                                                                 \n",
      "=================================================================\n",
      "Total params: 1,657,445\n",
      "Trainable params: 1,656,453\n",
      "Non-trainable params: 992\n",
      "_________________________________________________________________\n",
      "None\n"
     ]
    }
   ],
   "source": [
    "#write your optimizer\n",
    "optimiser = optimizers.Adam(learning_rate=0.0002)\n",
    "\n",
    "# compile model :\n",
    "CNNlstm_1.compile(optimizer=optimiser, loss='categorical_crossentropy', metrics=['categorical_accuracy'])\n",
    "print (CNNlstm_1.summary())"
   ]
  },
  {
   "cell_type": "code",
   "execution_count": 113,
   "metadata": {
    "colab": {
     "base_uri": "https://localhost:8080/"
    },
    "id": "sv1yWVoFRBso",
    "outputId": "e3b34fb3-a4d9-4e1e-8c08-a3783285aa02"
   },
   "outputs": [
    {
     "name": "stdout",
     "output_type": "stream",
     "text": [
      "# training sequences = 663\n",
      "# validation sequences = 100\n",
      "# epochs = 20\n"
     ]
    }
   ],
   "source": [
    "batch_size = 20\n",
    "curr_dt_time = datetime.datetime.now()\n",
    "train_path = '/content/Project_data/train'\n",
    "val_path = '/content/Project_data/val'\n",
    "num_train_sequences = len(train_doc)\n",
    "print('# training sequences =', num_train_sequences)\n",
    "num_val_sequences = len(val_doc)\n",
    "print('# validation sequences =', num_val_sequences)\n",
    "# choose the number of epochs\n",
    "num_epochs = 20\n",
    "print ('# epochs =', num_epochs)"
   ]
  },
  {
   "cell_type": "code",
   "execution_count": 114,
   "metadata": {
    "id": "P7QOIY8oRf3M"
   },
   "outputs": [],
   "source": [
    "def generatorLSTM(source_path, folder_list, batch_size):\n",
    "    print( 'Source path = ', source_path, '; batch size =', batch_size)\n",
    "    \n",
    "    #create a list of image numbers you want to use for a particular video\n",
    "    img_idx = [x for x in range(0, 30)]\n",
    "    #list(range(0,29,2))\n",
    "    \n",
    "    while True:\n",
    "        t = np.random.permutation(folder_list)\n",
    "        \n",
    "# calculate the number of batches\n",
    "        num_batches = int(len(t)/batch_size)\n",
    "        \n",
    "# we iterate over the number of batches\n",
    "        for batch in range(num_batches): \n",
    "            \n",
    "# x is the number of images you use for each video, (y,z) is the final size of the input images and 3 is the number of channels RGB          \n",
    "            batch_data = np.zeros((batch_size,30,120,120,3))\n",
    "# batch_labels is the one hot representation of the output\n",
    "            batch_labels = np.zeros((batch_size,5))\n",
    "\n",
    "# iterate over the batch_size    \n",
    "            for folder in range(batch_size): \n",
    "# read all the images in the folder        \n",
    "                imgs = os.listdir(source_path+'/'+ t[folder + (batch*batch_size)].split(';')[0]) \n",
    "#  Iterate over the frames/images of a folder to read them in    \n",
    "                for idx,item in enumerate(img_idx):\n",
    "                    image = cv2.imread(source_path+'/'+ t[folder + (batch*batch_size)].strip().split(';')[0]+'/'+imgs[item],cv2.IMREAD_UNCHANGED).astype(np.float32)\n",
    "                    \n",
    "#crop the images and resize them. Note that the images are of 2 different shape \n",
    "#and the conv3D will throw error if the inputs in a batch have different shapes\n",
    "                    if image.shape[1] == 160:\n",
    "                        image = cv2.resize(image[:,20:140,:],(120,120),interpolation = cv2.INTER_AREA).astype(np.float32)\n",
    "                    else:\n",
    "                        image = cv2.resize(image,(120,120),interpolation = cv2.INTER_AREA).astype(np.float32)\n",
    "                                \n",
    "#normalise and feed in the image\n",
    "\n",
    "                    batch_data[folder,idx,:,:,0] = (image[:,:,0])/255\n",
    "                    batch_data[folder,idx,:,:,1] = (image[:,:,1])/255\n",
    "                    batch_data[folder,idx,:,:,2] = (image[:,:,2])/255\n",
    "                    \n",
    "                batch_labels[folder, int(t[folder + (batch*batch_size)].strip().split(';')[2])] = 1\n",
    "#you yield the batch_data and the batch_labels, remember what does yield do                \n",
    "            yield batch_data, batch_labels \n",
    "\n",
    "        \n",
    "# write the code for the remaining data points which are left after full batches\n",
    "        if (len(t)%batch_size) != 0:\n",
    "            batch_data = np.zeros((len(t)%batch_size,30,120,120,3))\n",
    "            batch_labels = np.zeros((len(t)%batch_size,5))\n",
    "            for folder in range(len(t)%batch_size):\n",
    "                imgs = os.listdir(source_path+'/'+ t[folder + (num_batches*batch_size)].split(';')[0])\n",
    "                for idx,item in enumerate(img_idx):\n",
    "                    image = cv2.imread(source_path+'/'+ t[folder + (num_batches*batch_size)].strip().split(';')[0]+'/'+imgs[item],cv2.IMREAD_UNCHANGED).astype(np.float32)\n",
    "                    if image.shape[1] == 160:\n",
    "                        image = cv2.resize(image[:,20:140,:],(120,120),interpolation = cv2.INTER_AREA).astype(np.float32)\n",
    "                    else:\n",
    "                        image = cv2.resize(image,(120,120),interpolation = cv2.INTER_AREA).astype(np.float32)\n",
    "\n",
    "                    batch_data[folder,idx,:,:,0] = (image[:,:,0])/255\n",
    "                    batch_data[folder,idx,:,:,1] = (image[:,:,1])/255\n",
    "                    batch_data[folder,idx,:,:,2] = (image[:,:,2])/255\n",
    "\n",
    "                batch_labels[folder, int(t[folder + (num_batches*batch_size)].strip().split(';')[2])] = 1\n",
    "\n",
    "            yield batch_data, batch_labels"
   ]
  },
  {
   "cell_type": "code",
   "execution_count": 115,
   "metadata": {
    "id": "YHSE-N8uRiY6"
   },
   "outputs": [],
   "source": [
    "train_generator = generatorLSTM(train_path, train_doc, batch_size)\n",
    "val_generator = generatorLSTM(val_path, val_doc, batch_size)\n"
   ]
  },
  {
   "cell_type": "code",
   "execution_count": 116,
   "metadata": {
    "colab": {
     "base_uri": "https://localhost:8080/"
    },
    "id": "jYsOr578RlJB",
    "outputId": "c0e54ad9-7f59-4b0b-adae-70ffb4b16ae9"
   },
   "outputs": [
    {
     "name": "stdout",
     "output_type": "stream",
     "text": [
      "WARNING:tensorflow:`period` argument is deprecated. Please use `save_freq` to specify the frequency in number of batches seen.\n"
     ]
    }
   ],
   "source": [
    "model_name = 'model_init' + '_' + str(curr_dt_time).replace(' ','').replace(':','_') + '/'\n",
    "    \n",
    "if not os.path.exists(model_name):\n",
    "    os.mkdir(model_name)\n",
    "        \n",
    "filepath = model_name + 'model-{epoch:05d}-{loss:.5f}-{categorical_accuracy:.5f}-{val_loss:.5f}-{val_categorical_accuracy:.5f}.h5'\n",
    "\n",
    "checkpoint = ModelCheckpoint(filepath, monitor='val_loss', verbose=1, save_best_only=False, save_weights_only=False, mode='auto', period=1)\n",
    "\n",
    "# write the REducelronplateau code here\n",
    "LR = ReduceLROnPlateau(monitor='val_loss', factor=0.2, patience=4)\n",
    "\n",
    "callbacks_list = [checkpoint, LR]\n"
   ]
  },
  {
   "cell_type": "code",
   "execution_count": 117,
   "metadata": {
    "id": "Ao7E3Lw8RnpO"
   },
   "outputs": [],
   "source": [
    "if (num_train_sequences%batch_size) == 0:\n",
    "    steps_per_epoch = int(num_train_sequences/batch_size)\n",
    "else:\n",
    "    steps_per_epoch = (num_train_sequences//batch_size) + 1\n",
    "\n",
    "if (num_val_sequences%batch_size) == 0:\n",
    "    validation_steps = int(num_val_sequences/batch_size)\n",
    "else:\n",
    "    validation_steps = (num_val_sequences//batch_size) + 1"
   ]
  },
  {
   "cell_type": "code",
   "execution_count": null,
   "metadata": {
    "colab": {
     "base_uri": "https://localhost:8080/"
    },
    "id": "MQ83JrRoRprZ",
    "outputId": "9a8740fb-d059-484a-da34-656e43c80c65"
   },
   "outputs": [
    {
     "name": "stdout",
     "output_type": "stream",
     "text": [
      "Source path =  /content/Project_data/train ; batch size = 20\n",
      "Epoch 1/20\n",
      "34/34 [==============================] - ETA: 0s - loss: 1.4205 - categorical_accuracy: 0.3876Source path =  /content/Project_data/val ; batch size = 20\n",
      "\n",
      "Epoch 1: saving model to model_init_2022-07-1207_18_27.951270/model-00001-1.42051-0.38763-1.67120-0.21000.h5\n",
      "34/34 [==============================] - 59s 2s/step - loss: 1.4205 - categorical_accuracy: 0.3876 - val_loss: 1.6712 - val_categorical_accuracy: 0.2100 - lr: 2.0000e-04\n",
      "Epoch 2/20\n",
      "34/34 [==============================] - ETA: 0s - loss: 1.1308 - categorical_accuracy: 0.5370\n",
      "Epoch 2: saving model to model_init_2022-07-1207_18_27.951270/model-00002-1.13077-0.53695-1.72872-0.24000.h5\n",
      "34/34 [==============================] - 53s 2s/step - loss: 1.1308 - categorical_accuracy: 0.5370 - val_loss: 1.7287 - val_categorical_accuracy: 0.2400 - lr: 2.0000e-04\n",
      "Epoch 3/20\n",
      "34/34 [==============================] - ETA: 0s - loss: 0.9908 - categorical_accuracy: 0.6380\n",
      "Epoch 3: saving model to model_init_2022-07-1207_18_27.951270/model-00003-0.99083-0.63801-1.70829-0.25000.h5\n",
      "34/34 [==============================] - 55s 2s/step - loss: 0.9908 - categorical_accuracy: 0.6380 - val_loss: 1.7083 - val_categorical_accuracy: 0.2500 - lr: 2.0000e-04\n",
      "Epoch 4/20\n",
      "34/34 [==============================] - ETA: 0s - loss: 0.8809 - categorical_accuracy: 0.6667\n",
      "Epoch 4: saving model to model_init_2022-07-1207_18_27.951270/model-00004-0.88089-0.66667-1.78704-0.17000.h5\n",
      "34/34 [==============================] - 51s 2s/step - loss: 0.8809 - categorical_accuracy: 0.6667 - val_loss: 1.7870 - val_categorical_accuracy: 0.1700 - lr: 2.0000e-04\n",
      "Epoch 5/20\n",
      "34/34 [==============================] - ETA: 0s - loss: 0.7961 - categorical_accuracy: 0.7074\n",
      "Epoch 5: saving model to model_init_2022-07-1207_18_27.951270/model-00005-0.79609-0.70739-1.91796-0.23000.h5\n",
      "34/34 [==============================] - 60s 2s/step - loss: 0.7961 - categorical_accuracy: 0.7074 - val_loss: 1.9180 - val_categorical_accuracy: 0.2300 - lr: 2.0000e-04\n",
      "Epoch 6/20\n",
      "34/34 [==============================] - ETA: 0s - loss: 0.7154 - categorical_accuracy: 0.7391\n",
      "Epoch 6: saving model to model_init_2022-07-1207_18_27.951270/model-00006-0.71538-0.73906-1.95559-0.21000.h5\n",
      "34/34 [==============================] - 50s 2s/step - loss: 0.7154 - categorical_accuracy: 0.7391 - val_loss: 1.9556 - val_categorical_accuracy: 0.2100 - lr: 4.0000e-05\n",
      "Epoch 7/20\n",
      "34/34 [==============================] - ETA: 0s - loss: 0.6412 - categorical_accuracy: 0.7843\n",
      "Epoch 7: saving model to model_init_2022-07-1207_18_27.951270/model-00007-0.64121-0.78431-1.90825-0.20000.h5\n",
      "34/34 [==============================] - 51s 2s/step - loss: 0.6412 - categorical_accuracy: 0.7843 - val_loss: 1.9083 - val_categorical_accuracy: 0.2000 - lr: 4.0000e-05\n",
      "Epoch 8/20\n",
      "34/34 [==============================] - ETA: 0s - loss: 0.5540 - categorical_accuracy: 0.8311\n",
      "Epoch 8: saving model to model_init_2022-07-1207_18_27.951270/model-00008-0.55396-0.83107-1.98632-0.26000.h5\n",
      "34/34 [==============================] - 50s 2s/step - loss: 0.5540 - categorical_accuracy: 0.8311 - val_loss: 1.9863 - val_categorical_accuracy: 0.2600 - lr: 4.0000e-05\n",
      "Epoch 9/20\n",
      "34/34 [==============================] - ETA: 0s - loss: 0.5338 - categorical_accuracy: 0.8507\n",
      "Epoch 9: saving model to model_init_2022-07-1207_18_27.951270/model-00009-0.53378-0.85068-1.89924-0.21000.h5\n",
      "34/34 [==============================] - 52s 2s/step - loss: 0.5338 - categorical_accuracy: 0.8507 - val_loss: 1.8992 - val_categorical_accuracy: 0.2100 - lr: 4.0000e-05\n",
      "Epoch 10/20\n",
      "34/34 [==============================] - ETA: 0s - loss: 0.4798 - categorical_accuracy: 0.8778\n",
      "Epoch 10: saving model to model_init_2022-07-1207_18_27.951270/model-00010-0.47977-0.87783-2.02691-0.19000.h5\n",
      "34/34 [==============================] - 50s 1s/step - loss: 0.4798 - categorical_accuracy: 0.8778 - val_loss: 2.0269 - val_categorical_accuracy: 0.1900 - lr: 8.0000e-06\n",
      "Epoch 11/20\n",
      "34/34 [==============================] - ETA: 0s - loss: 0.4865 - categorical_accuracy: 0.8462\n",
      "Epoch 11: saving model to model_init_2022-07-1207_18_27.951270/model-00011-0.48647-0.84615-1.93158-0.28000.h5\n",
      "34/34 [==============================] - 50s 1s/step - loss: 0.4865 - categorical_accuracy: 0.8462 - val_loss: 1.9316 - val_categorical_accuracy: 0.2800 - lr: 8.0000e-06\n",
      "Epoch 12/20\n",
      "34/34 [==============================] - ETA: 0s - loss: 0.4689 - categorical_accuracy: 0.8793\n",
      "Epoch 12: saving model to model_init_2022-07-1207_18_27.951270/model-00012-0.46887-0.87934-1.74395-0.37000.h5\n",
      "34/34 [==============================] - 50s 2s/step - loss: 0.4689 - categorical_accuracy: 0.8793 - val_loss: 1.7439 - val_categorical_accuracy: 0.3700 - lr: 8.0000e-06\n",
      "Epoch 13/20\n",
      "34/34 [==============================] - ETA: 0s - loss: 0.4618 - categorical_accuracy: 0.8763\n",
      "Epoch 13: saving model to model_init_2022-07-1207_18_27.951270/model-00013-0.46177-0.87632-1.76988-0.34000.h5\n",
      "34/34 [==============================] - 51s 2s/step - loss: 0.4618 - categorical_accuracy: 0.8763 - val_loss: 1.7699 - val_categorical_accuracy: 0.3400 - lr: 8.0000e-06\n",
      "Epoch 14/20\n",
      "34/34 [==============================] - ETA: 0s - loss: 0.4552 - categorical_accuracy: 0.8688\n",
      "Epoch 14: saving model to model_init_2022-07-1207_18_27.951270/model-00014-0.45517-0.86878-1.59413-0.40000.h5\n",
      "34/34 [==============================] - 50s 1s/step - loss: 0.4552 - categorical_accuracy: 0.8688 - val_loss: 1.5941 - val_categorical_accuracy: 0.4000 - lr: 1.6000e-06\n",
      "Epoch 15/20\n",
      "34/34 [==============================] - ETA: 0s - loss: 0.4475 - categorical_accuracy: 0.8869\n",
      "Epoch 15: saving model to model_init_2022-07-1207_18_27.951270/model-00015-0.44747-0.88688-1.52550-0.42000.h5\n",
      "34/34 [==============================] - 51s 2s/step - loss: 0.4475 - categorical_accuracy: 0.8869 - val_loss: 1.5255 - val_categorical_accuracy: 0.4200 - lr: 1.6000e-06\n",
      "Epoch 16/20\n",
      "34/34 [==============================] - ETA: 0s - loss: 0.4368 - categorical_accuracy: 0.8989\n",
      "Epoch 16: saving model to model_init_2022-07-1207_18_27.951270/model-00016-0.43684-0.89894-1.33932-0.49000.h5\n",
      "34/34 [==============================] - 50s 2s/step - loss: 0.4368 - categorical_accuracy: 0.8989 - val_loss: 1.3393 - val_categorical_accuracy: 0.4900 - lr: 1.6000e-06\n",
      "Epoch 17/20\n",
      "34/34 [==============================] - ETA: 0s - loss: 0.4631 - categorical_accuracy: 0.8552\n",
      "Epoch 17: saving model to model_init_2022-07-1207_18_27.951270/model-00017-0.46310-0.85520-1.13383-0.55000.h5\n",
      "34/34 [==============================] - 50s 1s/step - loss: 0.4631 - categorical_accuracy: 0.8552 - val_loss: 1.1338 - val_categorical_accuracy: 0.5500 - lr: 1.6000e-06\n",
      "Epoch 18/20\n",
      "34/34 [==============================] - ETA: 0s - loss: 0.4363 - categorical_accuracy: 0.8808\n",
      "Epoch 18: saving model to model_init_2022-07-1207_18_27.951270/model-00018-0.43625-0.88084-0.96185-0.61000.h5\n",
      "34/34 [==============================] - 50s 1s/step - loss: 0.4363 - categorical_accuracy: 0.8808 - val_loss: 0.9618 - val_categorical_accuracy: 0.6100 - lr: 1.6000e-06\n",
      "Epoch 19/20\n",
      "34/34 [==============================] - ETA: 0s - loss: 0.4536 - categorical_accuracy: 0.8763\n",
      "Epoch 19: saving model to model_init_2022-07-1207_18_27.951270/model-00019-0.45364-0.87632-1.07588-0.59000.h5\n",
      "34/34 [==============================] - 51s 2s/step - loss: 0.4536 - categorical_accuracy: 0.8763 - val_loss: 1.0759 - val_categorical_accuracy: 0.5900 - lr: 1.6000e-06\n",
      "Epoch 20/20\n",
      "34/34 [==============================] - ETA: 0s - loss: 0.4590 - categorical_accuracy: 0.8748\n",
      "Epoch 20: saving model to model_init_2022-07-1207_18_27.951270/model-00020-0.45898-0.87481-1.01355-0.63000.h5\n",
      "34/34 [==============================] - 50s 1s/step - loss: 0.4590 - categorical_accuracy: 0.8748 - val_loss: 1.0135 - val_categorical_accuracy: 0.6300 - lr: 1.6000e-06\n"
     ]
    }
   ],
   "source": [
    "\n",
    "history = CNNlstm_1.fit(train_generator, steps_per_epoch=steps_per_epoch, epochs=num_epochs, verbose=1, \n",
    "                    callbacks=callbacks_list, validation_data=val_generator, \n",
    "                    validation_steps=validation_steps, class_weight=None, workers=1, initial_epoch=0)"
   ]
  },
  {
   "cell_type": "code",
   "execution_count": null,
   "metadata": {
    "colab": {
     "base_uri": "https://localhost:8080/",
     "height": 421
    },
    "id": "yUoxNN-PRrwX",
    "outputId": "638d0b5d-e80c-4f35-dfda-e418aa4f6f2e"
   },
   "outputs": [
    {
     "data": {
      "text/plain": [
       "<matplotlib.legend.Legend at 0x7f96bcc45210>"
      ]
     },
     "execution_count": 74,
     "metadata": {},
     "output_type": "execute_result"
    },
    {
     "data": {
      "image/png": "[encoded data removed]",
      "text/plain": [
       "<Figure size 1440x432 with 2 Axes>"
      ]
     },
     "metadata": {
      "needs_background": "light"
     },
     "output_type": "display_data"
    }
   ],
   "source": [
    "# Plotting the result of Model 5 :\n",
    "\n",
    "# summarize history for accuracy\n",
    "\n",
    "\n",
    "plt.figure(figsize=(20,6))\n",
    "ax1 = plt.subplot(121)\n",
    "ax1 = plt.plot(history.history['loss'])\n",
    "ax1 = plt.plot(history.history['val_loss'])\n",
    "plt.title('model loss')\n",
    "plt.ylabel('loss')\n",
    "plt.xlabel('epoch')\n",
    "plt.legend(['train', 'validation'], loc='lower left')\n",
    "ax2 = plt.subplot(122)\n",
    "ax2 = plt.plot(history.history['categorical_accuracy'])\n",
    "ax2 = plt.plot(history.history['val_categorical_accuracy'])\n",
    "plt.title('model accuracy')\n",
    "plt.ylabel('categorical_accuracy')\n",
    "plt.xlabel('epoch')\n",
    "plt.legend(['train', 'validation'], loc='lower left')"
   ]
  },
  {
   "cell_type": "markdown",
   "metadata": {
    "id": "lmYqJi0NRxWZ"
   },
   "source": [
    "# Model 6\n",
    "\n",
    "CNN - LSTM Model , increase input image size to 160x160"
   ]
  },
  {
   "cell_type": "code",
   "execution_count": 118,
   "metadata": {
    "id": "Kl0OK22ZR3Z_"
   },
   "outputs": [],
   "source": [
    "# Input\n",
    "input_shape=(30,160,160,3)\n",
    "\n",
    "\n",
    "#write your model here\n",
    "CNNlstm_2 = Sequential()\n",
    "\n",
    "CNNlstm_2.add(TimeDistributed(Conv2D(16, (3, 3) , padding='same', activation='relu'),\n",
    "                          input_shape=input_shape))\n",
    "CNNlstm_2.add(TimeDistributed(BatchNormalization()))\n",
    "CNNlstm_2.add(TimeDistributed(MaxPooling2D((2, 2))))\n",
    "\n",
    "CNNlstm_2.add(TimeDistributed(Conv2D(32, (3, 3) , padding='same', activation='relu')))\n",
    "CNNlstm_2.add(TimeDistributed(BatchNormalization()))\n",
    "CNNlstm_2.add(TimeDistributed(MaxPooling2D((2, 2))))\n",
    "\n",
    "CNNlstm_2.add(TimeDistributed(Conv2D(64, (3, 3) , padding='same', activation='relu')))\n",
    "CNNlstm_2.add(TimeDistributed(BatchNormalization()))\n",
    "CNNlstm_2.add(TimeDistributed(MaxPooling2D((2, 2))))\n",
    "\n",
    "CNNlstm_2.add(TimeDistributed(Conv2D(128, (3, 3) , padding='same', activation='relu')))\n",
    "CNNlstm_2.add(TimeDistributed(BatchNormalization()))\n",
    "CNNlstm_2.add(TimeDistributed(MaxPooling2D((2, 2))))\n",
    "\n",
    "CNNlstm_2.add(TimeDistributed(Conv2D(256, (3, 3) , padding='same', activation='relu')))\n",
    "CNNlstm_2.add(TimeDistributed(BatchNormalization()))\n",
    "CNNlstm_2.add(TimeDistributed(MaxPooling2D((2, 2))))\n",
    "\n",
    "CNNlstm_2.add(TimeDistributed(Flatten()))\n",
    "\n",
    "\n",
    "CNNlstm_2.add(LSTM(128))\n",
    "CNNlstm_2.add(Dropout(0.25))\n",
    "\n",
    "CNNlstm_2.add(Dense(128,activation='relu'))\n",
    "CNNlstm_2.add(Dropout(0.25))\n",
    "\n",
    "CNNlstm_2.add(Dense(5, activation='softmax'))"
   ]
  },
  {
   "cell_type": "code",
   "execution_count": 119,
   "metadata": {
    "colab": {
     "base_uri": "https://localhost:8080/"
    },
    "id": "XZiP2AZrR8Qu",
    "outputId": "1a91f3a4-b056-4bd8-d550-bd512aa80a40"
   },
   "outputs": [
    {
     "name": "stdout",
     "output_type": "stream",
     "text": [
      "Model: \"sequential_16\"\n",
      "_________________________________________________________________\n",
      " Layer (type)                Output Shape              Param #   \n",
      "=================================================================\n",
      " time_distributed_69 (TimeDi  (None, 30, 160, 160, 16)  448      \n",
      " stributed)                                                      \n",
      "                                                                 \n",
      " time_distributed_70 (TimeDi  (None, 30, 160, 160, 16)  64       \n",
      " stributed)                                                      \n",
      "                                                                 \n",
      " time_distributed_71 (TimeDi  (None, 30, 80, 80, 16)   0         \n",
      " stributed)                                                      \n",
      "                                                                 \n",
      " time_distributed_72 (TimeDi  (None, 30, 80, 80, 32)   4640      \n",
      " stributed)                                                      \n",
      "                                                                 \n",
      " time_distributed_73 (TimeDi  (None, 30, 80, 80, 32)   128       \n",
      " stributed)                                                      \n",
      "                                                                 \n",
      " time_distributed_74 (TimeDi  (None, 30, 40, 40, 32)   0         \n",
      " stributed)                                                      \n",
      "                                                                 \n",
      " time_distributed_75 (TimeDi  (None, 30, 40, 40, 64)   18496     \n",
      " stributed)                                                      \n",
      "                                                                 \n",
      " time_distributed_76 (TimeDi  (None, 30, 40, 40, 64)   256       \n",
      " stributed)                                                      \n",
      "                                                                 \n",
      " time_distributed_77 (TimeDi  (None, 30, 20, 20, 64)   0         \n",
      " stributed)                                                      \n",
      "                                                                 \n",
      " time_distributed_78 (TimeDi  (None, 30, 20, 20, 128)  73856     \n",
      " stributed)                                                      \n",
      "                                                                 \n",
      " time_distributed_79 (TimeDi  (None, 30, 20, 20, 128)  512       \n",
      " stributed)                                                      \n",
      "                                                                 \n",
      " time_distributed_80 (TimeDi  (None, 30, 10, 10, 128)  0         \n",
      " stributed)                                                      \n",
      "                                                                 \n",
      " time_distributed_81 (TimeDi  (None, 30, 10, 10, 256)  295168    \n",
      " stributed)                                                      \n",
      "                                                                 \n",
      " time_distributed_82 (TimeDi  (None, 30, 10, 10, 256)  1024      \n",
      " stributed)                                                      \n",
      "                                                                 \n",
      " time_distributed_83 (TimeDi  (None, 30, 5, 5, 256)    0         \n",
      " stributed)                                                      \n",
      "                                                                 \n",
      " time_distributed_84 (TimeDi  (None, 30, 6400)         0         \n",
      " stributed)                                                      \n",
      "                                                                 \n",
      " lstm_4 (LSTM)               (None, 128)               3342848   \n",
      "                                                                 \n",
      " dropout_32 (Dropout)        (None, 128)               0         \n",
      "                                                                 \n",
      " dense_42 (Dense)            (None, 128)               16512     \n",
      "                                                                 \n",
      " dropout_33 (Dropout)        (None, 128)               0         \n",
      "                                                                 \n",
      " dense_43 (Dense)            (None, 5)                 645       \n",
      "                                                                 \n",
      "=================================================================\n",
      "Total params: 3,754,597\n",
      "Trainable params: 3,753,605\n",
      "Non-trainable params: 992\n",
      "_________________________________________________________________\n",
      "None\n"
     ]
    }
   ],
   "source": [
    "#write your optimizer\n",
    "optimiser = optimizers.Adam()\n",
    "\n",
    "\n",
    "# compile model :\n",
    "CNNlstm_2.compile(optimizer=optimiser, loss='categorical_crossentropy', metrics=['categorical_accuracy'])\n",
    "print (CNNlstm_2.summary())"
   ]
  },
  {
   "cell_type": "code",
   "execution_count": 120,
   "metadata": {
    "id": "3fNDeekHR8Tf"
   },
   "outputs": [],
   "source": [
    "def generatorLSTM1(source_path, folder_list, batch_size):\n",
    "    print( 'Source path = ', source_path, '; batch size =', batch_size)\n",
    "    \n",
    "    #create a list of image numbers you want to use for a particular video\n",
    "    img_idx = [x for x in range(0, 30)]\n",
    "    #list(range(0,29,2))\n",
    "    \n",
    "    while True:\n",
    "        t = np.random.permutation(folder_list)\n",
    "        \n",
    "# calculate the number of batches\n",
    "        num_batches = int(len(t)/batch_size)\n",
    "        \n",
    "# we iterate over the number of batches\n",
    "        for batch in range(num_batches): \n",
    "            \n",
    "# x is the number of images you use for each video, (y,z) is the final size of the input images and 3 is the number of channels RGB          \n",
    "            batch_data = np.zeros((batch_size,30,160,160,3))\n",
    "# batch_labels is the one hot representation of the output\n",
    "            batch_labels = np.zeros((batch_size,5))\n",
    "\n",
    "# iterate over the batch_size    \n",
    "            for folder in range(batch_size): \n",
    "# read all the images in the folder        \n",
    "                imgs = os.listdir(source_path+'/'+ t[folder + (batch*batch_size)].split(';')[0]) \n",
    "#  Iterate over the frames/images of a folder to read them in    \n",
    "                for idx,item in enumerate(img_idx):\n",
    "                    image = cv2.imread(source_path+'/'+ t[folder + (batch*batch_size)].strip().split(';')[0]+'/'+imgs[item],cv2.IMREAD_UNCHANGED).astype(np.float32)\n",
    "                    \n",
    "#crop the images and resize them. Note that the images are of 2 different shape \n",
    "#and the conv3D will throw error if the inputs in a batch have different shapes\n",
    "                    if image.shape[1] == 160:\n",
    "                        image = cv2.resize(image[:,20:140,:],(160,160),interpolation = cv2.INTER_AREA).astype(np.float32)\n",
    "                    else:\n",
    "                        image = cv2.resize(image,(160,160),interpolation = cv2.INTER_AREA).astype(np.float32)\n",
    "                                \n",
    "#normalise and feed in the image\n",
    "\n",
    "                    batch_data[folder,idx,:,:,0] = (image[:,:,0])/255\n",
    "                    batch_data[folder,idx,:,:,1] = (image[:,:,1])/255\n",
    "                    batch_data[folder,idx,:,:,2] = (image[:,:,2])/255\n",
    "                    \n",
    "                batch_labels[folder, int(t[folder + (batch*batch_size)].strip().split(';')[2])] = 1\n",
    "#you yield the batch_data and the batch_labels, remember what does yield do                \n",
    "            yield batch_data, batch_labels \n",
    "\n",
    "        \n",
    "# write the code for the remaining data points which are left after full batches\n",
    "        if (len(t)%batch_size) != 0:\n",
    "            batch_data = np.zeros((len(t)%batch_size,30,160,160,3))\n",
    "            batch_labels = np.zeros((len(t)%batch_size,5))\n",
    "            for folder in range(len(t)%batch_size):\n",
    "                imgs = os.listdir(source_path+'/'+ t[folder + (num_batches*batch_size)].split(';')[0])\n",
    "                for idx,item in enumerate(img_idx):\n",
    "                    image = cv2.imread(source_path+'/'+ t[folder + (num_batches*batch_size)].strip().split(';')[0]+'/'+imgs[item],cv2.IMREAD_UNCHANGED).astype(np.float32)\n",
    "                    if image.shape[1] == 160:\n",
    "                        image = cv2.resize(image[:,20:140,:],(160,160),interpolation = cv2.INTER_AREA).astype(np.float32)\n",
    "                    else:\n",
    "                        image = cv2.resize(image,(160,160),interpolation = cv2.INTER_AREA).astype(np.float32)\n",
    "\n",
    "                    batch_data[folder,idx,:,:,0] = (image[:,:,0])/255\n",
    "                    batch_data[folder,idx,:,:,1] = (image[:,:,1])/255\n",
    "                    batch_data[folder,idx,:,:,2] = (image[:,:,2])/255\n",
    "\n",
    "                batch_labels[folder, int(t[folder + (num_batches*batch_size)].strip().split(';')[2])] = 1\n",
    "\n",
    "            yield batch_data, batch_labels"
   ]
  },
  {
   "cell_type": "code",
   "execution_count": 121,
   "metadata": {
    "id": "bAWae6TeR8WX"
   },
   "outputs": [],
   "source": [
    "train_generator = generatorLSTM1(train_path, train_doc, batch_size)\n",
    "val_generator = generatorLSTM1(val_path, val_doc, batch_size)\n"
   ]
  },
  {
   "cell_type": "code",
   "execution_count": 122,
   "metadata": {
    "colab": {
     "base_uri": "https://localhost:8080/"
    },
    "id": "NtNalGyKR8Z1",
    "outputId": "ed7c24a8-3719-486d-a94a-d0fc3beb8284"
   },
   "outputs": [
    {
     "name": "stdout",
     "output_type": "stream",
     "text": [
      "WARNING:tensorflow:`period` argument is deprecated. Please use `save_freq` to specify the frequency in number of batches seen.\n"
     ]
    }
   ],
   "source": [
    "\n",
    "model_name = 'model_init' + '_' + str(curr_dt_time).replace(' ','').replace(':','_') + '/'\n",
    "    \n",
    "if not os.path.exists(model_name):\n",
    "    os.mkdir(model_name)\n",
    "        \n",
    "filepath = model_name + 'model-{epoch:05d}-{loss:.5f}-{categorical_accuracy:.5f}-{val_loss:.5f}-{val_categorical_accuracy:.5f}.h5'\n",
    "\n",
    "checkpoint = ModelCheckpoint(filepath, monitor='val_loss', verbose=1, save_best_only=False, save_weights_only=False, mode='auto', period=1)\n",
    "\n",
    "# write the REducelronplateau code here\n",
    "LR = ReduceLROnPlateau(monitor='val_loss', factor=0.2, patience=4)\n",
    "\n",
    "callbacks_list = [checkpoint, LR]\n"
   ]
  },
  {
   "cell_type": "code",
   "execution_count": 123,
   "metadata": {
    "id": "unnxJ-XRR8cP"
   },
   "outputs": [],
   "source": [
    "\n",
    "if (num_train_sequences%batch_size) == 0:\n",
    "    steps_per_epoch = int(num_train_sequences/batch_size)\n",
    "else:\n",
    "    steps_per_epoch = (num_train_sequences//batch_size) + 1\n",
    "\n",
    "if (num_val_sequences%batch_size) == 0:\n",
    "    validation_steps = int(num_val_sequences/batch_size)\n",
    "else:\n",
    "    validation_steps = (num_val_sequences//batch_size) + 1"
   ]
  },
  {
   "cell_type": "code",
   "execution_count": null,
   "metadata": {
    "colab": {
     "base_uri": "https://localhost:8080/"
    },
    "id": "qE8oECsxR8fI",
    "outputId": "25c59f40-907d-44d7-ffad-aa6eab4ecabf"
   },
   "outputs": [
    {
     "name": "stdout",
     "output_type": "stream",
     "text": [
      "Source path =  /content/Project_data/train ; batch size = 20\n",
      "Epoch 1/20\n",
      "34/34 [==============================] - ETA: 0s - loss: 1.5556 - categorical_accuracy: 0.3137Source path =  /content/Project_data/val ; batch size = 20\n",
      "\n",
      "Epoch 1: saving model to model_init_2022-07-1207_18_27.951270/model-00001-1.55556-0.31373-1.62746-0.18000.h5\n",
      "34/34 [==============================] - 75s 2s/step - loss: 1.5556 - categorical_accuracy: 0.3137 - val_loss: 1.6275 - val_categorical_accuracy: 0.1800 - lr: 0.0010\n",
      "Epoch 2/20\n",
      "34/34 [==============================] - ETA: 0s - loss: 1.3043 - categorical_accuracy: 0.4661\n",
      "Epoch 2: saving model to model_init_2022-07-1207_18_27.951270/model-00002-1.30434-0.46606-1.64277-0.21000.h5\n",
      "34/34 [==============================] - 71s 2s/step - loss: 1.3043 - categorical_accuracy: 0.4661 - val_loss: 1.6428 - val_categorical_accuracy: 0.2100 - lr: 0.0010\n",
      "Epoch 3/20\n",
      "34/34 [==============================] - ETA: 0s - loss: 1.1262 - categorical_accuracy: 0.5430\n",
      "Epoch 3: saving model to model_init_2022-07-1207_18_27.951270/model-00003-1.12618-0.54299-1.81188-0.25000.h5\n",
      "34/34 [==============================] - 66s 2s/step - loss: 1.1262 - categorical_accuracy: 0.5430 - val_loss: 1.8119 - val_categorical_accuracy: 0.2500 - lr: 0.0010\n",
      "Epoch 4/20\n",
      "34/34 [==============================] - ETA: 0s - loss: 1.0526 - categorical_accuracy: 0.5913\n",
      "Epoch 4: saving model to model_init_2022-07-1207_18_27.951270/model-00004-1.05265-0.59125-2.80358-0.13000.h5\n",
      "34/34 [==============================] - 64s 2s/step - loss: 1.0526 - categorical_accuracy: 0.5913 - val_loss: 2.8036 - val_categorical_accuracy: 0.1300 - lr: 0.0010\n",
      "Epoch 5/20\n",
      "34/34 [==============================] - ETA: 0s - loss: 1.0842 - categorical_accuracy: 0.5490\n",
      "Epoch 5: saving model to model_init_2022-07-1207_18_27.951270/model-00005-1.08423-0.54902-1.64191-0.35000.h5\n",
      "34/34 [==============================] - 64s 2s/step - loss: 1.0842 - categorical_accuracy: 0.5490 - val_loss: 1.6419 - val_categorical_accuracy: 0.3500 - lr: 0.0010\n",
      "Epoch 6/20\n",
      "34/34 [==============================] - ETA: 0s - loss: 1.0177 - categorical_accuracy: 0.5807\n",
      "Epoch 6: saving model to model_init_2022-07-1207_18_27.951270/model-00006-1.01765-0.58069-1.74070-0.35000.h5\n",
      "34/34 [==============================] - 64s 2s/step - loss: 1.0177 - categorical_accuracy: 0.5807 - val_loss: 1.7407 - val_categorical_accuracy: 0.3500 - lr: 2.0000e-04\n",
      "Epoch 7/20\n",
      "34/34 [==============================] - ETA: 0s - loss: 0.9113 - categorical_accuracy: 0.6365\n",
      "Epoch 7: saving model to model_init_2022-07-1207_18_27.951270/model-00007-0.91128-0.63650-1.96144-0.31000.h5\n",
      "34/34 [==============================] - 67s 2s/step - loss: 0.9113 - categorical_accuracy: 0.6365 - val_loss: 1.9614 - val_categorical_accuracy: 0.3100 - lr: 2.0000e-04\n",
      "Epoch 8/20\n",
      "34/34 [==============================] - ETA: 0s - loss: 0.8882 - categorical_accuracy: 0.6501\n",
      "Epoch 8: saving model to model_init_2022-07-1207_18_27.951270/model-00008-0.88820-0.65008-1.93512-0.31000.h5\n",
      "34/34 [==============================] - 74s 2s/step - loss: 0.8882 - categorical_accuracy: 0.6501 - val_loss: 1.9351 - val_categorical_accuracy: 0.3100 - lr: 2.0000e-04\n",
      "Epoch 9/20\n",
      "34/34 [==============================] - ETA: 0s - loss: 0.8123 - categorical_accuracy: 0.6712\n",
      "Epoch 9: saving model to model_init_2022-07-1207_18_27.951270/model-00009-0.81231-0.67119-2.25468-0.25000.h5\n",
      "34/34 [==============================] - 66s 2s/step - loss: 0.8123 - categorical_accuracy: 0.6712 - val_loss: 2.2547 - val_categorical_accuracy: 0.2500 - lr: 2.0000e-04\n",
      "Epoch 10/20\n",
      "34/34 [==============================] - ETA: 0s - loss: 0.7378 - categorical_accuracy: 0.7074\n",
      "Epoch 10: saving model to model_init_2022-07-1207_18_27.951270/model-00010-0.73780-0.70739-2.22784-0.31000.h5\n",
      "34/34 [==============================] - 67s 2s/step - loss: 0.7378 - categorical_accuracy: 0.7074 - val_loss: 2.2278 - val_categorical_accuracy: 0.3100 - lr: 4.0000e-05\n",
      "Epoch 11/20\n",
      "34/34 [==============================] - ETA: 0s - loss: 0.7250 - categorical_accuracy: 0.7270\n",
      "Epoch 11: saving model to model_init_2022-07-1207_18_27.951270/model-00011-0.72496-0.72700-2.03437-0.35000.h5\n",
      "34/34 [==============================] - 64s 2s/step - loss: 0.7250 - categorical_accuracy: 0.7270 - val_loss: 2.0344 - val_categorical_accuracy: 0.3500 - lr: 4.0000e-05\n",
      "Epoch 12/20\n",
      "34/34 [==============================] - ETA: 0s - loss: 0.7069 - categorical_accuracy: 0.7391\n",
      "Epoch 12: saving model to model_init_2022-07-1207_18_27.951270/model-00012-0.70694-0.73906-1.83918-0.38000.h5\n",
      "34/34 [==============================] - 64s 2s/step - loss: 0.7069 - categorical_accuracy: 0.7391 - val_loss: 1.8392 - val_categorical_accuracy: 0.3800 - lr: 4.0000e-05\n",
      "Epoch 13/20\n",
      "34/34 [==============================] - ETA: 0s - loss: 0.6799 - categorical_accuracy: 0.7481\n",
      "Epoch 13: saving model to model_init_2022-07-1207_18_27.951270/model-00013-0.67993-0.74811-1.74606-0.40000.h5\n",
      "34/34 [==============================] - 64s 2s/step - loss: 0.6799 - categorical_accuracy: 0.7481 - val_loss: 1.7461 - val_categorical_accuracy: 0.4000 - lr: 4.0000e-05\n",
      "Epoch 14/20\n",
      "34/34 [==============================] - ETA: 0s - loss: 0.6553 - categorical_accuracy: 0.7572\n",
      "Epoch 14: saving model to model_init_2022-07-1207_18_27.951270/model-00014-0.65535-0.75716-1.53951-0.42000.h5\n",
      "34/34 [==============================] - 63s 2s/step - loss: 0.6553 - categorical_accuracy: 0.7572 - val_loss: 1.5395 - val_categorical_accuracy: 0.4200 - lr: 8.0000e-06\n",
      "Epoch 15/20\n",
      "34/34 [==============================] - ETA: 0s - loss: 0.6396 - categorical_accuracy: 0.7798\n",
      "Epoch 15: saving model to model_init_2022-07-1207_18_27.951270/model-00015-0.63957-0.77979-1.24481-0.50000.h5\n",
      "34/34 [==============================] - 64s 2s/step - loss: 0.6396 - categorical_accuracy: 0.7798 - val_loss: 1.2448 - val_categorical_accuracy: 0.5000 - lr: 8.0000e-06\n",
      "Epoch 16/20\n",
      "34/34 [==============================] - ETA: 0s - loss: 0.6387 - categorical_accuracy: 0.7798\n",
      "Epoch 16: saving model to model_init_2022-07-1207_18_27.951270/model-00016-0.63866-0.77979-1.18195-0.52000.h5\n",
      "34/34 [==============================] - 62s 2s/step - loss: 0.6387 - categorical_accuracy: 0.7798 - val_loss: 1.1820 - val_categorical_accuracy: 0.5200 - lr: 8.0000e-06\n",
      "Epoch 17/20\n",
      "34/34 [==============================] - ETA: 0s - loss: 0.6648 - categorical_accuracy: 0.7587\n",
      "Epoch 17: saving model to model_init_2022-07-1207_18_27.951270/model-00017-0.66476-0.75867-1.11554-0.49000.h5\n",
      "34/34 [==============================] - 66s 2s/step - loss: 0.6648 - categorical_accuracy: 0.7587 - val_loss: 1.1155 - val_categorical_accuracy: 0.4900 - lr: 8.0000e-06\n",
      "Epoch 18/20\n",
      "34/34 [==============================] - ETA: 0s - loss: 0.6607 - categorical_accuracy: 0.7647\n",
      "Epoch 18: saving model to model_init_2022-07-1207_18_27.951270/model-00018-0.66072-0.76471-0.94299-0.56000.h5\n",
      "34/34 [==============================] - 80s 2s/step - loss: 0.6607 - categorical_accuracy: 0.7647 - val_loss: 0.9430 - val_categorical_accuracy: 0.5600 - lr: 8.0000e-06\n",
      "Epoch 19/20\n",
      "34/34 [==============================] - ETA: 0s - loss: 0.6449 - categorical_accuracy: 0.7617\n",
      "Epoch 19: saving model to model_init_2022-07-1207_18_27.951270/model-00019-0.64494-0.76169-0.80465-0.68000.h5\n",
      "34/34 [==============================] - 75s 2s/step - loss: 0.6449 - categorical_accuracy: 0.7617 - val_loss: 0.8047 - val_categorical_accuracy: 0.6800 - lr: 8.0000e-06\n",
      "Epoch 20/20\n",
      "34/34 [==============================] - ETA: 0s - loss: 0.6695 - categorical_accuracy: 0.7617\n",
      "Epoch 20: saving model to model_init_2022-07-1207_18_27.951270/model-00020-0.66948-0.76169-0.79910-0.66000.h5\n",
      "34/34 [==============================] - 66s 2s/step - loss: 0.6695 - categorical_accuracy: 0.7617 - val_loss: 0.7991 - val_categorical_accuracy: 0.6600 - lr: 8.0000e-06\n"
     ]
    }
   ],
   "source": [
    "history = CNNlstm_2.fit(train_generator, steps_per_epoch=steps_per_epoch, epochs=num_epochs, verbose=1, \n",
    "                    callbacks=callbacks_list, validation_data=val_generator, \n",
    "                    validation_steps=validation_steps, class_weight=None, workers=1, initial_epoch=0)"
   ]
  },
  {
   "cell_type": "code",
   "execution_count": null,
   "metadata": {
    "colab": {
     "base_uri": "https://localhost:8080/",
     "height": 421
    },
    "id": "gPU31d33R8ht",
    "outputId": "96a34ee4-7f93-4c9f-c9f0-684f75fa7267"
   },
   "outputs": [
    {
     "data": {
      "text/plain": [
       "<matplotlib.legend.Legend at 0x7f9743f35310>"
      ]
     },
     "execution_count": 82,
     "metadata": {},
     "output_type": "execute_result"
    },
    {
     "data": {
      "image/png": "[encoded data removed]",
      "text/plain": [
       "<Figure size 1440x432 with 2 Axes>"
      ]
     },
     "metadata": {
      "needs_background": "light"
     },
     "output_type": "display_data"
    }
   ],
   "source": [
    "# Plotting the result of Model 6 :\n",
    "\n",
    "# summarize history for accuracy\n",
    "\n",
    "\n",
    "plt.figure(figsize=(20,6))\n",
    "ax1 = plt.subplot(121)\n",
    "ax1 = plt.plot(history.history['loss'])\n",
    "ax1 = plt.plot(history.history['val_loss'])\n",
    "plt.title('model loss')\n",
    "plt.ylabel('loss')\n",
    "plt.xlabel('epoch')\n",
    "plt.legend(['train', 'validation'], loc='lower left')\n",
    "ax2 = plt.subplot(122)\n",
    "ax2 = plt.plot(history.history['categorical_accuracy'])\n",
    "ax2 = plt.plot(history.history['val_categorical_accuracy'])\n",
    "plt.title('model accuracy')\n",
    "plt.ylabel('categorical_accuracy')\n",
    "plt.xlabel('epoch')\n",
    "plt.legend(['train', 'validation'], loc='lower left')"
   ]
  },
  {
   "cell_type": "markdown",
   "metadata": {
    "id": "OiBqW_S4SOsY"
   },
   "source": [
    "# Model 7 :\n",
    "\n",
    "CNN - LSTM Model , Increase layers , increase epoch to 25"
   ]
  },
  {
   "cell_type": "code",
   "execution_count": 124,
   "metadata": {
    "id": "LXLRDE8MR8kX"
   },
   "outputs": [],
   "source": [
    "input_shape=(30,120,120,3)\n",
    "\n",
    "CNNlstm_3 = Sequential()\n",
    "CNNlstm_3.add(Conv3D(16, (3,3,3), padding='same',\n",
    "         input_shape=(input_shape)))\n",
    "CNNlstm_3.add(Activation('relu'))\n",
    "CNNlstm_3.add(BatchNormalization())\n",
    "\n",
    "CNNlstm_3.add(Conv3D(16, (3,3,3), padding='same',\n",
    "         input_shape=(input_shape)))\n",
    "CNNlstm_3.add(Activation('relu'))\n",
    "CNNlstm_3.add(BatchNormalization())\n",
    "\n",
    "CNNlstm_3.add(MaxPooling3D(pool_size=(2, 2, 2)))\n",
    "\n",
    "CNNlstm_3.add(Conv3D(32, (3,3,3), padding='same'))\n",
    "CNNlstm_3.add(Activation('relu'))\n",
    "CNNlstm_3.add(BatchNormalization())\n",
    "\n",
    "CNNlstm_3.add(Conv3D(32, (3,3,3), padding='same'))\n",
    "CNNlstm_3.add(Activation('relu'))\n",
    "CNNlstm_3.add(BatchNormalization())\n",
    "\n",
    "CNNlstm_3.add(MaxPooling3D(pool_size=(2, 2, 2)))\n",
    "\n",
    "CNNlstm_3.add(Conv3D(64, (3,3,3), padding='same'))\n",
    "CNNlstm_3.add(Activation('relu'))\n",
    "CNNlstm_3.add(BatchNormalization())\n",
    "\n",
    "CNNlstm_3.add(Conv3D(64, (3,3,3), padding='same'))\n",
    "CNNlstm_3.add(Activation('relu'))\n",
    "CNNlstm_3.add(BatchNormalization())\n",
    "\n",
    "CNNlstm_3.add(MaxPooling3D(pool_size=(2, 2, 2)))\n",
    "\n",
    "CNNlstm_3.add(Conv3D(128, (3,3,3), padding='same'))\n",
    "CNNlstm_3.add(Activation('relu'))\n",
    "CNNlstm_3.add(BatchNormalization())\n",
    "\n",
    "CNNlstm_3.add(Conv3D(128, (3,3,3), padding='same'))\n",
    "CNNlstm_3.add(Activation('relu'))\n",
    "CNNlstm_3.add(BatchNormalization())\n",
    "CNNlstm_3.add(MaxPooling3D(pool_size=(2, 2, 2)))\n",
    "\n",
    "\n",
    "CNNlstm_3.add(Flatten())\n",
    "CNNlstm_3.add(Dense(64,activation='relu'))\n",
    "CNNlstm_3.add(BatchNormalization())\n",
    "CNNlstm_3.add(Dropout(0.25))\n",
    "\n",
    "CNNlstm_3.add(Dense(64,activation='relu'))\n",
    "CNNlstm_3.add(BatchNormalization())\n",
    "CNNlstm_3.add(Dropout(0.25))\n",
    "\n",
    "\n",
    "CNNlstm_3.add(Dense(5,activation='softmax'))\n",
    "\n"
   ]
  },
  {
   "cell_type": "code",
   "execution_count": 125,
   "metadata": {
    "colab": {
     "base_uri": "https://localhost:8080/"
    },
    "id": "H1utZqKoR8nk",
    "outputId": "02a8e94f-880a-4231-b3dd-e452aad05b06"
   },
   "outputs": [
    {
     "name": "stdout",
     "output_type": "stream",
     "text": [
      "Model: \"sequential_17\"\n",
      "_________________________________________________________________\n",
      " Layer (type)                Output Shape              Param #   \n",
      "=================================================================\n",
      " conv3d_48 (Conv3D)          (None, 30, 120, 120, 16)  1312      \n",
      "                                                                 \n",
      " activation_48 (Activation)  (None, 30, 120, 120, 16)  0         \n",
      "                                                                 \n",
      " batch_normalization_94 (Bat  (None, 30, 120, 120, 16)  64       \n",
      " chNormalization)                                                \n",
      "                                                                 \n",
      " conv3d_49 (Conv3D)          (None, 30, 120, 120, 16)  6928      \n",
      "                                                                 \n",
      " activation_49 (Activation)  (None, 30, 120, 120, 16)  0         \n",
      "                                                                 \n",
      " batch_normalization_95 (Bat  (None, 30, 120, 120, 16)  64       \n",
      " chNormalization)                                                \n",
      "                                                                 \n",
      " max_pooling3d_40 (MaxPoolin  (None, 15, 60, 60, 16)   0         \n",
      " g3D)                                                            \n",
      "                                                                 \n",
      " conv3d_50 (Conv3D)          (None, 15, 60, 60, 32)    13856     \n",
      "                                                                 \n",
      " activation_50 (Activation)  (None, 15, 60, 60, 32)    0         \n",
      "                                                                 \n",
      " batch_normalization_96 (Bat  (None, 15, 60, 60, 32)   128       \n",
      " chNormalization)                                                \n",
      "                                                                 \n",
      " conv3d_51 (Conv3D)          (None, 15, 60, 60, 32)    27680     \n",
      "                                                                 \n",
      " activation_51 (Activation)  (None, 15, 60, 60, 32)    0         \n",
      "                                                                 \n",
      " batch_normalization_97 (Bat  (None, 15, 60, 60, 32)   128       \n",
      " chNormalization)                                                \n",
      "                                                                 \n",
      " max_pooling3d_41 (MaxPoolin  (None, 7, 30, 30, 32)    0         \n",
      " g3D)                                                            \n",
      "                                                                 \n",
      " conv3d_52 (Conv3D)          (None, 7, 30, 30, 64)     55360     \n",
      "                                                                 \n",
      " activation_52 (Activation)  (None, 7, 30, 30, 64)     0         \n",
      "                                                                 \n",
      " batch_normalization_98 (Bat  (None, 7, 30, 30, 64)    256       \n",
      " chNormalization)                                                \n",
      "                                                                 \n",
      " conv3d_53 (Conv3D)          (None, 7, 30, 30, 64)     110656    \n",
      "                                                                 \n",
      " activation_53 (Activation)  (None, 7, 30, 30, 64)     0         \n",
      "                                                                 \n",
      " batch_normalization_99 (Bat  (None, 7, 30, 30, 64)    256       \n",
      " chNormalization)                                                \n",
      "                                                                 \n",
      " max_pooling3d_42 (MaxPoolin  (None, 3, 15, 15, 64)    0         \n",
      " g3D)                                                            \n",
      "                                                                 \n",
      " conv3d_54 (Conv3D)          (None, 3, 15, 15, 128)    221312    \n",
      "                                                                 \n",
      " activation_54 (Activation)  (None, 3, 15, 15, 128)    0         \n",
      "                                                                 \n",
      " batch_normalization_100 (Ba  (None, 3, 15, 15, 128)   512       \n",
      " tchNormalization)                                               \n",
      "                                                                 \n",
      " conv3d_55 (Conv3D)          (None, 3, 15, 15, 128)    442496    \n",
      "                                                                 \n",
      " activation_55 (Activation)  (None, 3, 15, 15, 128)    0         \n",
      "                                                                 \n",
      " batch_normalization_101 (Ba  (None, 3, 15, 15, 128)   512       \n",
      " tchNormalization)                                               \n",
      "                                                                 \n",
      " max_pooling3d_43 (MaxPoolin  (None, 1, 7, 7, 128)     0         \n",
      " g3D)                                                            \n",
      "                                                                 \n",
      " flatten_17 (Flatten)        (None, 6272)              0         \n",
      "                                                                 \n",
      " dense_44 (Dense)            (None, 64)                401472    \n",
      "                                                                 \n",
      " batch_normalization_102 (Ba  (None, 64)               256       \n",
      " tchNormalization)                                               \n",
      "                                                                 \n",
      " dropout_34 (Dropout)        (None, 64)                0         \n",
      "                                                                 \n",
      " dense_45 (Dense)            (None, 64)                4160      \n",
      "                                                                 \n",
      " batch_normalization_103 (Ba  (None, 64)               256       \n",
      " tchNormalization)                                               \n",
      "                                                                 \n",
      " dropout_35 (Dropout)        (None, 64)                0         \n",
      "                                                                 \n",
      " dense_46 (Dense)            (None, 5)                 325       \n",
      "                                                                 \n",
      "=================================================================\n",
      "Total params: 1,287,989\n",
      "Trainable params: 1,286,773\n",
      "Non-trainable params: 1,216\n",
      "_________________________________________________________________\n",
      "None\n"
     ]
    }
   ],
   "source": [
    "optimiser = optimizers.Adam()\n",
    "CNNlstm_3.compile(optimizer=optimiser, loss='categorical_crossentropy', metrics=['categorical_accuracy'])\n",
    "print (CNNlstm_3.summary())"
   ]
  },
  {
   "cell_type": "code",
   "execution_count": 126,
   "metadata": {
    "colab": {
     "base_uri": "https://localhost:8080/"
    },
    "id": "9rI7Ewp8SkUW",
    "outputId": "fa2fd149-1a55-4810-8ba3-29b2b06182a8"
   },
   "outputs": [
    {
     "name": "stdout",
     "output_type": "stream",
     "text": [
      "# training sequences = 663\n",
      "# validation sequences = 100\n",
      "# epochs = 25\n"
     ]
    }
   ],
   "source": [
    "batch_size = 20\n",
    "curr_dt_time = datetime.datetime.now()\n",
    "train_path = '/content/Project_data/train'\n",
    "val_path = '/content/Project_data/val'\n",
    "num_train_sequences = len(train_doc)\n",
    "print('# training sequences =', num_train_sequences)\n",
    "num_val_sequences = len(val_doc)\n",
    "print('# validation sequences =', num_val_sequences)\n",
    "# choose the number of epochs\n",
    "num_epochs = 25\n",
    "print ('# epochs =', num_epochs)"
   ]
  },
  {
   "cell_type": "code",
   "execution_count": 127,
   "metadata": {
    "colab": {
     "base_uri": "https://localhost:8080/"
    },
    "id": "RHBZ5AZ8SmeF",
    "outputId": "7b0ea2f9-901b-40ee-ebdc-61dca533a781"
   },
   "outputs": [
    {
     "name": "stdout",
     "output_type": "stream",
     "text": [
      "WARNING:tensorflow:`period` argument is deprecated. Please use `save_freq` to specify the frequency in number of batches seen.\n"
     ]
    }
   ],
   "source": [
    "train_generator = generatorLSTM(train_path, train_doc, batch_size)\n",
    "val_generator = generatorLSTM(val_path, val_doc, batch_size)\n",
    "\n",
    "model_name = 'model_init' + '_' + str(curr_dt_time).replace(' ','').replace(':','_') + '/'\n",
    "    \n",
    "if not os.path.exists(model_name):\n",
    "    os.mkdir(model_name)\n",
    "        \n",
    "filepath = model_name + 'model-{epoch:05d}-{loss:.5f}-{categorical_accuracy:.5f}-{val_loss:.5f}-{val_categorical_accuracy:.5f}.h5'\n",
    "\n",
    "checkpoint = ModelCheckpoint(filepath, monitor='val_loss', verbose=1, save_best_only=False, save_weights_only=False, mode='auto', period=1)\n",
    "\n",
    "# write the REducelronplateau code here\n",
    "LR = ReduceLROnPlateau(monitor='val_loss', factor=0.2, patience=4)\n",
    "\n",
    "callbacks_list = [checkpoint, LR]\n",
    "\n",
    "if (num_train_sequences%batch_size) == 0:\n",
    "    steps_per_epoch = int(num_train_sequences/batch_size)\n",
    "else:\n",
    "    steps_per_epoch = (num_train_sequences//batch_size) + 1\n",
    "\n",
    "if (num_val_sequences%batch_size) == 0:\n",
    "    validation_steps = int(num_val_sequences/batch_size)\n",
    "else:\n",
    "    validation_steps = (num_val_sequences//batch_size) + 1"
   ]
  },
  {
   "cell_type": "code",
   "execution_count": null,
   "metadata": {
    "colab": {
     "base_uri": "https://localhost:8080/"
    },
    "id": "sFhgGVclSomm",
    "outputId": "17b00c5e-e718-4265-a7dc-b7b4197330e9"
   },
   "outputs": [
    {
     "name": "stdout",
     "output_type": "stream",
     "text": [
      "Source path =  /content/Project_data/train ; batch size = 20\n",
      "Epoch 1/25\n",
      "34/34 [==============================] - ETA: 0s - loss: 1.5609 - categorical_accuracy: 0.3756Source path =  /content/Project_data/val ; batch size = 20\n",
      "\n",
      "Epoch 1: saving model to model_init_2022-07-1208_05_45.424010/model-00001-1.56092-0.37557-1.66217-0.27000.h5\n",
      "34/34 [==============================] - 61s 2s/step - loss: 1.5609 - categorical_accuracy: 0.3756 - val_loss: 1.6622 - val_categorical_accuracy: 0.2700 - lr: 0.0010\n",
      "Epoch 2/25\n",
      "34/34 [==============================] - ETA: 0s - loss: 1.3254 - categorical_accuracy: 0.4721\n",
      "Epoch 2: saving model to model_init_2022-07-1208_05_45.424010/model-00002-1.32539-0.47210-1.98897-0.32000.h5\n",
      "34/34 [==============================] - 54s 2s/step - loss: 1.3254 - categorical_accuracy: 0.4721 - val_loss: 1.9890 - val_categorical_accuracy: 0.3200 - lr: 0.0010\n",
      "Epoch 3/25\n",
      "34/34 [==============================] - ETA: 0s - loss: 1.2765 - categorical_accuracy: 0.5068\n",
      "Epoch 3: saving model to model_init_2022-07-1208_05_45.424010/model-00003-1.27651-0.50679-3.30761-0.15000.h5\n",
      "34/34 [==============================] - 58s 2s/step - loss: 1.2765 - categorical_accuracy: 0.5068 - val_loss: 3.3076 - val_categorical_accuracy: 0.1500 - lr: 0.0010\n",
      "Epoch 4/25\n",
      "34/34 [==============================] - ETA: 0s - loss: 1.1676 - categorical_accuracy: 0.5294\n",
      "Epoch 4: saving model to model_init_2022-07-1208_05_45.424010/model-00004-1.16760-0.52941-6.74497-0.19000.h5\n",
      "34/34 [==============================] - 62s 2s/step - loss: 1.1676 - categorical_accuracy: 0.5294 - val_loss: 6.7450 - val_categorical_accuracy: 0.1900 - lr: 0.0010\n",
      "Epoch 5/25\n",
      "34/34 [==============================] - ETA: 0s - loss: 1.2997 - categorical_accuracy: 0.4827\n",
      "Epoch 5: saving model to model_init_2022-07-1208_05_45.424010/model-00005-1.29965-0.48265-2.78738-0.21000.h5\n",
      "34/34 [==============================] - 55s 2s/step - loss: 1.2997 - categorical_accuracy: 0.4827 - val_loss: 2.7874 - val_categorical_accuracy: 0.2100 - lr: 0.0010\n",
      "Epoch 6/25\n",
      "34/34 [==============================] - ETA: 0s - loss: 0.8903 - categorical_accuracy: 0.6471\n",
      "Epoch 6: saving model to model_init_2022-07-1208_05_45.424010/model-00006-0.89033-0.64706-2.83198-0.21000.h5\n",
      "34/34 [==============================] - 64s 2s/step - loss: 0.8903 - categorical_accuracy: 0.6471 - val_loss: 2.8320 - val_categorical_accuracy: 0.2100 - lr: 2.0000e-04\n",
      "Epoch 7/25\n",
      "34/34 [==============================] - ETA: 0s - loss: 0.8475 - categorical_accuracy: 0.6682\n",
      "Epoch 7: saving model to model_init_2022-07-1208_05_45.424010/model-00007-0.84750-0.66817-3.25249-0.19000.h5\n",
      "34/34 [==============================] - 58s 2s/step - loss: 0.8475 - categorical_accuracy: 0.6682 - val_loss: 3.2525 - val_categorical_accuracy: 0.1900 - lr: 2.0000e-04\n",
      "Epoch 8/25\n",
      "34/34 [==============================] - ETA: 0s - loss: 0.8605 - categorical_accuracy: 0.6697\n",
      "Epoch 8: saving model to model_init_2022-07-1208_05_45.424010/model-00008-0.86049-0.66968-2.13603-0.39000.h5\n",
      "34/34 [==============================] - 54s 2s/step - loss: 0.8605 - categorical_accuracy: 0.6697 - val_loss: 2.1360 - val_categorical_accuracy: 0.3900 - lr: 2.0000e-04\n",
      "Epoch 9/25\n",
      "34/34 [==============================] - ETA: 0s - loss: 0.8101 - categorical_accuracy: 0.6742\n",
      "Epoch 9: saving model to model_init_2022-07-1208_05_45.424010/model-00009-0.81006-0.67421-2.57102-0.25000.h5\n",
      "34/34 [==============================] - 53s 2s/step - loss: 0.8101 - categorical_accuracy: 0.6742 - val_loss: 2.5710 - val_categorical_accuracy: 0.2500 - lr: 2.0000e-04\n",
      "Epoch 10/25\n",
      "34/34 [==============================] - ETA: 0s - loss: 0.7943 - categorical_accuracy: 0.6787\n",
      "Epoch 10: saving model to model_init_2022-07-1208_05_45.424010/model-00010-0.79435-0.67873-2.54557-0.26000.h5\n",
      "34/34 [==============================] - 55s 2s/step - loss: 0.7943 - categorical_accuracy: 0.6787 - val_loss: 2.5456 - val_categorical_accuracy: 0.2600 - lr: 4.0000e-05\n",
      "Epoch 11/25\n",
      "34/34 [==============================] - ETA: 0s - loss: 0.7225 - categorical_accuracy: 0.7029\n",
      "Epoch 11: saving model to model_init_2022-07-1208_05_45.424010/model-00011-0.72249-0.70287-2.27934-0.28000.h5\n",
      "34/34 [==============================] - 54s 2s/step - loss: 0.7225 - categorical_accuracy: 0.7029 - val_loss: 2.2793 - val_categorical_accuracy: 0.2800 - lr: 4.0000e-05\n",
      "Epoch 12/25\n",
      "34/34 [==============================] - ETA: 0s - loss: 0.7235 - categorical_accuracy: 0.7089\n",
      "Epoch 12: saving model to model_init_2022-07-1208_05_45.424010/model-00012-0.72352-0.70890-1.88895-0.32000.h5\n",
      "34/34 [==============================] - 56s 2s/step - loss: 0.7235 - categorical_accuracy: 0.7089 - val_loss: 1.8889 - val_categorical_accuracy: 0.3200 - lr: 4.0000e-05\n",
      "Epoch 13/25\n",
      "34/34 [==============================] - ETA: 0s - loss: 0.6791 - categorical_accuracy: 0.7360\n",
      "Epoch 13: saving model to model_init_2022-07-1208_05_45.424010/model-00013-0.67915-0.73605-1.64780-0.36000.h5\n",
      "34/34 [==============================] - 54s 2s/step - loss: 0.6791 - categorical_accuracy: 0.7360 - val_loss: 1.6478 - val_categorical_accuracy: 0.3600 - lr: 4.0000e-05\n",
      "Epoch 14/25\n",
      "34/34 [==============================] - ETA: 0s - loss: 0.7078 - categorical_accuracy: 0.7315\n",
      "Epoch 14: saving model to model_init_2022-07-1208_05_45.424010/model-00014-0.70779-0.73152-1.46632-0.42000.h5\n",
      "34/34 [==============================] - 55s 2s/step - loss: 0.7078 - categorical_accuracy: 0.7315 - val_loss: 1.4663 - val_categorical_accuracy: 0.4200 - lr: 4.0000e-05\n",
      "Epoch 15/25\n",
      "34/34 [==============================] - ETA: 0s - loss: 0.6381 - categorical_accuracy: 0.7602\n",
      "Epoch 15: saving model to model_init_2022-07-1208_05_45.424010/model-00015-0.63808-0.76018-1.25166-0.56000.h5\n",
      "34/34 [==============================] - 54s 2s/step - loss: 0.6381 - categorical_accuracy: 0.7602 - val_loss: 1.2517 - val_categorical_accuracy: 0.5600 - lr: 4.0000e-05\n",
      "Epoch 16/25\n",
      "34/34 [==============================] - ETA: 0s - loss: 0.6639 - categorical_accuracy: 0.7315\n",
      "Epoch 16: saving model to model_init_2022-07-1208_05_45.424010/model-00016-0.66386-0.73152-1.02361-0.63000.h5\n",
      "34/34 [==============================] - 53s 2s/step - loss: 0.6639 - categorical_accuracy: 0.7315 - val_loss: 1.0236 - val_categorical_accuracy: 0.6300 - lr: 4.0000e-05\n",
      "Epoch 17/25\n",
      "34/34 [==============================] - ETA: 0s - loss: 0.6812 - categorical_accuracy: 0.7376\n",
      "Epoch 17: saving model to model_init_2022-07-1208_05_45.424010/model-00017-0.68117-0.73756-1.01698-0.63000.h5\n",
      "34/34 [==============================] - 54s 2s/step - loss: 0.6812 - categorical_accuracy: 0.7376 - val_loss: 1.0170 - val_categorical_accuracy: 0.6300 - lr: 4.0000e-05\n",
      "Epoch 18/25\n",
      "34/34 [==============================] - ETA: 0s - loss: 0.6314 - categorical_accuracy: 0.7632\n",
      "Epoch 18: saving model to model_init_2022-07-1208_05_45.424010/model-00018-0.63140-0.76320-0.83887-0.73000.h5\n",
      "34/34 [==============================] - 52s 2s/step - loss: 0.6314 - categorical_accuracy: 0.7632 - val_loss: 0.8389 - val_categorical_accuracy: 0.7300 - lr: 4.0000e-05\n",
      "Epoch 19/25\n",
      "34/34 [==============================] - ETA: 0s - loss: 0.6266 - categorical_accuracy: 0.7873\n",
      "Epoch 19: saving model to model_init_2022-07-1208_05_45.424010/model-00019-0.62659-0.78733-0.80882-0.71000.h5\n",
      "34/34 [==============================] - 54s 2s/step - loss: 0.6266 - categorical_accuracy: 0.7873 - val_loss: 0.8088 - val_categorical_accuracy: 0.7100 - lr: 4.0000e-05\n",
      "Epoch 20/25\n",
      "34/34 [==============================] - ETA: 0s - loss: 0.6231 - categorical_accuracy: 0.7677\n",
      "Epoch 20: saving model to model_init_2022-07-1208_05_45.424010/model-00020-0.62307-0.76772-0.71516-0.76000.h5\n",
      "34/34 [==============================] - 52s 2s/step - loss: 0.6231 - categorical_accuracy: 0.7677 - val_loss: 0.7152 - val_categorical_accuracy: 0.7600 - lr: 4.0000e-05\n",
      "Epoch 21/25\n",
      "34/34 [==============================] - ETA: 0s - loss: 0.6595 - categorical_accuracy: 0.7632\n",
      "Epoch 21: saving model to model_init_2022-07-1208_05_45.424010/model-00021-0.65951-0.76320-0.70950-0.77000.h5\n",
      "34/34 [==============================] - 54s 2s/step - loss: 0.6595 - categorical_accuracy: 0.7632 - val_loss: 0.7095 - val_categorical_accuracy: 0.7700 - lr: 4.0000e-05\n",
      "Epoch 22/25\n",
      "34/34 [==============================] - ETA: 0s - loss: 0.5888 - categorical_accuracy: 0.7662\n",
      "Epoch 22: saving model to model_init_2022-07-1208_05_45.424010/model-00022-0.58879-0.76621-0.66883-0.78000.h5\n",
      "34/34 [==============================] - 51s 2s/step - loss: 0.5888 - categorical_accuracy: 0.7662 - val_loss: 0.6688 - val_categorical_accuracy: 0.7800 - lr: 4.0000e-05\n",
      "Epoch 23/25\n",
      "34/34 [==============================] - ETA: 0s - loss: 0.5855 - categorical_accuracy: 0.7873\n",
      "Epoch 23: saving model to model_init_2022-07-1208_05_45.424010/model-00023-0.58551-0.78733-0.63396-0.80000.h5\n",
      "34/34 [==============================] - 51s 2s/step - loss: 0.5855 - categorical_accuracy: 0.7873 - val_loss: 0.6340 - val_categorical_accuracy: 0.8000 - lr: 4.0000e-05\n",
      "Epoch 24/25\n",
      "34/34 [==============================] - ETA: 0s - loss: 0.5801 - categorical_accuracy: 0.7873\n",
      "Epoch 24: saving model to model_init_2022-07-1208_05_45.424010/model-00024-0.58012-0.78733-0.66176-0.77000.h5\n",
      "34/34 [==============================] - 50s 2s/step - loss: 0.5801 - categorical_accuracy: 0.7873 - val_loss: 0.6618 - val_categorical_accuracy: 0.7700 - lr: 4.0000e-05\n",
      "Epoch 25/25\n",
      "34/34 [==============================] - ETA: 0s - loss: 0.6052 - categorical_accuracy: 0.7828\n",
      "Epoch 25: saving model to model_init_2022-07-1208_05_45.424010/model-00025-0.60520-0.78281-0.68141-0.75000.h5\n",
      "34/34 [==============================] - 51s 2s/step - loss: 0.6052 - categorical_accuracy: 0.7828 - val_loss: 0.6814 - val_categorical_accuracy: 0.7500 - lr: 4.0000e-05\n"
     ]
    }
   ],
   "source": [
    "history = CNNlstm_3.fit(train_generator, steps_per_epoch=steps_per_epoch, epochs=num_epochs, verbose=1, \n",
    "                    callbacks=callbacks_list, validation_data=val_generator, \n",
    "                    validation_steps=validation_steps, class_weight=None, workers=1, initial_epoch=0)"
   ]
  },
  {
   "cell_type": "code",
   "execution_count": null,
   "metadata": {
    "colab": {
     "base_uri": "https://localhost:8080/",
     "height": 421
    },
    "id": "c8Q-OPbWSqYk",
    "outputId": "a0592e48-158f-4ca3-d754-4be626c81670"
   },
   "outputs": [
    {
     "data": {
      "text/plain": [
       "<matplotlib.legend.Legend at 0x7f95a8474650>"
      ]
     },
     "execution_count": 88,
     "metadata": {},
     "output_type": "execute_result"
    },
    {
     "data": {
      "image/png": "[encoded data removed]",
      "text/plain": [
       "<Figure size 1440x432 with 2 Axes>"
      ]
     },
     "metadata": {
      "needs_background": "light"
     },
     "output_type": "display_data"
    }
   ],
   "source": [
    "# Plotting the result of Model 7 :\n",
    "\n",
    "# summarize history for accuracy\n",
    "\n",
    "\n",
    "plt.figure(figsize=(20,6))\n",
    "ax1 = plt.subplot(121)\n",
    "ax1 = plt.plot(history.history['loss'])\n",
    "ax1 = plt.plot(history.history['val_loss'])\n",
    "plt.title('model loss')\n",
    "plt.ylabel('loss')\n",
    "plt.xlabel('epoch')\n",
    "plt.legend(['train', 'validation'], loc='lower left')\n",
    "ax2 = plt.subplot(122)\n",
    "ax2 = plt.plot(history.history['categorical_accuracy'])\n",
    "ax2 = plt.plot(history.history['val_categorical_accuracy'])\n",
    "plt.title('model accuracy')\n",
    "plt.ylabel('categorical_accuracy')\n",
    "plt.xlabel('epoch')\n",
    "plt.legend(['train', 'validation'], loc='lower left')"
   ]
  },
  {
   "cell_type": "markdown",
   "metadata": {
    "id": "rguIwW7XYAAT"
   },
   "source": [
    "# Model 8\n",
    "\n",
    "CNN - LSTM Model, Increase network paramaters"
   ]
  },
  {
   "cell_type": "code",
   "execution_count": 128,
   "metadata": {
    "id": "d8yn-W9pYNcC"
   },
   "outputs": [],
   "source": [
    "input_shape=(30,120,120,3)\n",
    "\n",
    "CNNlstm_4 = Sequential()\n",
    "CNNlstm_4.add(Conv3D(16, (3,3,3), padding='same',\n",
    "         input_shape=(input_shape)))\n",
    "CNNlstm_4.add(Activation('relu'))\n",
    "CNNlstm_4.add(BatchNormalization())\n",
    "\n",
    "CNNlstm_4.add(Conv3D(16, (3,3,3), padding='same',\n",
    "         input_shape=(input_shape)))\n",
    "CNNlstm_4.add(Activation('relu'))\n",
    "CNNlstm_4.add(BatchNormalization())\n",
    "\n",
    "CNNlstm_4.add(MaxPooling3D(pool_size=(2, 2, 2)))\n",
    "\n",
    "CNNlstm_4.add(Conv3D(32, (3,3,3), padding='same'))\n",
    "CNNlstm_4.add(Activation('relu'))\n",
    "CNNlstm_4.add(BatchNormalization())\n",
    "\n",
    "CNNlstm_4.add(Conv3D(32, (3,3,3), padding='same'))\n",
    "CNNlstm_4.add(Activation('relu'))\n",
    "CNNlstm_4.add(BatchNormalization())\n",
    "\n",
    "CNNlstm_4.add(MaxPooling3D(pool_size=(2, 2, 2)))\n",
    "\n",
    "CNNlstm_4.add(Conv3D(64, (3,3,3), padding='same'))\n",
    "CNNlstm_4.add(Activation('relu'))\n",
    "CNNlstm_4.add(BatchNormalization())\n",
    "\n",
    "CNNlstm_4.add(Conv3D(64, (3,3,3), padding='same'))\n",
    "CNNlstm_4.add(Activation('relu'))\n",
    "CNNlstm_4.add(BatchNormalization())\n",
    "\n",
    "CNNlstm_4.add(MaxPooling3D(pool_size=(2, 2, 2)))\n",
    "\n",
    "CNNlstm_4.add(Conv3D(128, (3,3,3), padding='same'))\n",
    "CNNlstm_4.add(Activation('relu'))\n",
    "CNNlstm_4.add(BatchNormalization())\n",
    "\n",
    "CNNlstm_4.add(Conv3D(128, (3,3,3), padding='same'))\n",
    "CNNlstm_4.add(Activation('relu'))\n",
    "CNNlstm_4.add(BatchNormalization())\n",
    "CNNlstm_4.add(MaxPooling3D(pool_size=(2, 2, 2)))\n",
    "\n",
    "\n",
    "CNNlstm_4.add(Flatten())\n",
    "CNNlstm_4.add(Dense(128,activation='relu'))\n",
    "CNNlstm_4.add(BatchNormalization())\n",
    "CNNlstm_4.add(Dropout(0.25))\n",
    "\n",
    "CNNlstm_4.add(Dense(128,activation='relu'))\n",
    "CNNlstm_4.add(BatchNormalization())\n",
    "CNNlstm_4.add(Dropout(0.25))\n",
    "\n",
    "\n",
    "CNNlstm_4.add(Dense(5,activation='softmax'))\n",
    "\n"
   ]
  },
  {
   "cell_type": "code",
   "execution_count": 129,
   "metadata": {
    "colab": {
     "base_uri": "https://localhost:8080/"
    },
    "id": "wVxalS2TYNfi",
    "outputId": "35f66c7b-b89f-4b2e-963d-8fa10f5ca9da"
   },
   "outputs": [
    {
     "name": "stdout",
     "output_type": "stream",
     "text": [
      "Model: \"sequential_18\"\n",
      "_________________________________________________________________\n",
      " Layer (type)                Output Shape              Param #   \n",
      "=================================================================\n",
      " conv3d_56 (Conv3D)          (None, 30, 120, 120, 16)  1312      \n",
      "                                                                 \n",
      " activation_56 (Activation)  (None, 30, 120, 120, 16)  0         \n",
      "                                                                 \n",
      " batch_normalization_104 (Ba  (None, 30, 120, 120, 16)  64       \n",
      " tchNormalization)                                               \n",
      "                                                                 \n",
      " conv3d_57 (Conv3D)          (None, 30, 120, 120, 16)  6928      \n",
      "                                                                 \n",
      " activation_57 (Activation)  (None, 30, 120, 120, 16)  0         \n",
      "                                                                 \n",
      " batch_normalization_105 (Ba  (None, 30, 120, 120, 16)  64       \n",
      " tchNormalization)                                               \n",
      "                                                                 \n",
      " max_pooling3d_44 (MaxPoolin  (None, 15, 60, 60, 16)   0         \n",
      " g3D)                                                            \n",
      "                                                                 \n",
      " conv3d_58 (Conv3D)          (None, 15, 60, 60, 32)    13856     \n",
      "                                                                 \n",
      " activation_58 (Activation)  (None, 15, 60, 60, 32)    0         \n",
      "                                                                 \n",
      " batch_normalization_106 (Ba  (None, 15, 60, 60, 32)   128       \n",
      " tchNormalization)                                               \n",
      "                                                                 \n",
      " conv3d_59 (Conv3D)          (None, 15, 60, 60, 32)    27680     \n",
      "                                                                 \n",
      " activation_59 (Activation)  (None, 15, 60, 60, 32)    0         \n",
      "                                                                 \n",
      " batch_normalization_107 (Ba  (None, 15, 60, 60, 32)   128       \n",
      " tchNormalization)                                               \n",
      "                                                                 \n",
      " max_pooling3d_45 (MaxPoolin  (None, 7, 30, 30, 32)    0         \n",
      " g3D)                                                            \n",
      "                                                                 \n",
      " conv3d_60 (Conv3D)          (None, 7, 30, 30, 64)     55360     \n",
      "                                                                 \n",
      " activation_60 (Activation)  (None, 7, 30, 30, 64)     0         \n",
      "                                                                 \n",
      " batch_normalization_108 (Ba  (None, 7, 30, 30, 64)    256       \n",
      " tchNormalization)                                               \n",
      "                                                                 \n",
      " conv3d_61 (Conv3D)          (None, 7, 30, 30, 64)     110656    \n",
      "                                                                 \n",
      " activation_61 (Activation)  (None, 7, 30, 30, 64)     0         \n",
      "                                                                 \n",
      " batch_normalization_109 (Ba  (None, 7, 30, 30, 64)    256       \n",
      " tchNormalization)                                               \n",
      "                                                                 \n",
      " max_pooling3d_46 (MaxPoolin  (None, 3, 15, 15, 64)    0         \n",
      " g3D)                                                            \n",
      "                                                                 \n",
      " conv3d_62 (Conv3D)          (None, 3, 15, 15, 128)    221312    \n",
      "                                                                 \n",
      " activation_62 (Activation)  (None, 3, 15, 15, 128)    0         \n",
      "                                                                 \n",
      " batch_normalization_110 (Ba  (None, 3, 15, 15, 128)   512       \n",
      " tchNormalization)                                               \n",
      "                                                                 \n",
      " conv3d_63 (Conv3D)          (None, 3, 15, 15, 128)    442496    \n",
      "                                                                 \n",
      " activation_63 (Activation)  (None, 3, 15, 15, 128)    0         \n",
      "                                                                 \n",
      " batch_normalization_111 (Ba  (None, 3, 15, 15, 128)   512       \n",
      " tchNormalization)                                               \n",
      "                                                                 \n",
      " max_pooling3d_47 (MaxPoolin  (None, 1, 7, 7, 128)     0         \n",
      " g3D)                                                            \n",
      "                                                                 \n",
      " flatten_18 (Flatten)        (None, 6272)              0         \n",
      "                                                                 \n",
      " dense_47 (Dense)            (None, 128)               802944    \n",
      "                                                                 \n",
      " batch_normalization_112 (Ba  (None, 128)              512       \n",
      " tchNormalization)                                               \n",
      "                                                                 \n",
      " dropout_36 (Dropout)        (None, 128)               0         \n",
      "                                                                 \n",
      " dense_48 (Dense)            (None, 128)               16512     \n",
      "                                                                 \n",
      " batch_normalization_113 (Ba  (None, 128)              512       \n",
      " tchNormalization)                                               \n",
      "                                                                 \n",
      " dropout_37 (Dropout)        (None, 128)               0         \n",
      "                                                                 \n",
      " dense_49 (Dense)            (None, 5)                 645       \n",
      "                                                                 \n",
      "=================================================================\n",
      "Total params: 1,702,645\n",
      "Trainable params: 1,701,173\n",
      "Non-trainable params: 1,472\n",
      "_________________________________________________________________\n",
      "None\n"
     ]
    }
   ],
   "source": [
    "optimiser = optimizers.Adam()\n",
    "CNNlstm_4.compile(optimizer=optimiser, loss='categorical_crossentropy', metrics=['categorical_accuracy'])\n",
    "\n",
    "print (CNNlstm_4.summary())"
   ]
  },
  {
   "cell_type": "code",
   "execution_count": 130,
   "metadata": {
    "colab": {
     "base_uri": "https://localhost:8080/"
    },
    "id": "558osOwgYNiw",
    "outputId": "f6866cfd-065a-4185-827e-1d0db1947295"
   },
   "outputs": [
    {
     "name": "stdout",
     "output_type": "stream",
     "text": [
      "# training sequences = 663\n",
      "# validation sequences = 100\n",
      "# epochs = 25\n"
     ]
    }
   ],
   "source": [
    "batch_size = 20\n",
    "curr_dt_time = datetime.datetime.now()\n",
    "train_path = '/content/Project_data/train'\n",
    "val_path = '/content/Project_data/val'\n",
    "num_train_sequences = len(train_doc)\n",
    "print('# training sequences =', num_train_sequences)\n",
    "num_val_sequences = len(val_doc)\n",
    "print('# validation sequences =', num_val_sequences)\n",
    "# choose the number of epochs\n",
    "num_epochs = 25\n",
    "print ('# epochs =', num_epochs)"
   ]
  },
  {
   "cell_type": "code",
   "execution_count": 131,
   "metadata": {
    "colab": {
     "base_uri": "https://localhost:8080/"
    },
    "id": "TqsK3TP_YNlq",
    "outputId": "d45ea2f4-405e-4180-d281-20a1e1b8493a"
   },
   "outputs": [
    {
     "name": "stdout",
     "output_type": "stream",
     "text": [
      "WARNING:tensorflow:`period` argument is deprecated. Please use `save_freq` to specify the frequency in number of batches seen.\n"
     ]
    }
   ],
   "source": [
    "train_generator = generatorLSTM(train_path, train_doc, batch_size)\n",
    "val_generator = generatorLSTM(val_path, val_doc, batch_size)\n",
    "\n",
    "model_name = 'model_init' + '_' + str(curr_dt_time).replace(' ','').replace(':','_') + '/'\n",
    "    \n",
    "if not os.path.exists(model_name):\n",
    "    os.mkdir(model_name)\n",
    "        \n",
    "filepath = model_name + 'model-{epoch:05d}-{loss:.5f}-{categorical_accuracy:.5f}-{val_loss:.5f}-{val_categorical_accuracy:.5f}.h5'\n",
    "\n",
    "checkpoint = ModelCheckpoint(filepath, monitor='val_loss', verbose=1, save_best_only=False, save_weights_only=False, mode='auto', period=1)\n",
    "\n",
    "# write the REducelronplateau code here\n",
    "LR = ReduceLROnPlateau(monitor='val_loss', factor=0.2, patience=4)\n",
    "\n",
    "callbacks_list = [checkpoint, LR]\n",
    "\n",
    "if (num_train_sequences%batch_size) == 0:\n",
    "    steps_per_epoch = int(num_train_sequences/batch_size)\n",
    "else:\n",
    "    steps_per_epoch = (num_train_sequences//batch_size) + 1\n",
    "\n",
    "if (num_val_sequences%batch_size) == 0:\n",
    "    validation_steps = int(num_val_sequences/batch_size)\n",
    "else:\n",
    "    validation_steps = (num_val_sequences//batch_size) + 1"
   ]
  },
  {
   "cell_type": "code",
   "execution_count": null,
   "metadata": {
    "colab": {
     "base_uri": "https://localhost:8080/"
    },
    "id": "6x0esVC-YNo0",
    "outputId": "f0916e9e-8db3-46c4-80f6-8dac197c91c6"
   },
   "outputs": [
    {
     "name": "stdout",
     "output_type": "stream",
     "text": [
      "Source path =  /content/Project_data/train ; batch size = 20\n",
      "Epoch 1/25\n",
      "34/34 [==============================] - ETA: 0s - loss: 1.5981 - categorical_accuracy: 0.4238Source path =  /content/Project_data/val ; batch size = 20\n",
      "\n",
      "Epoch 1: saving model to model_init_2022-07-1210_18_30.196101/model-00001-1.59811-0.42383-2.03416-0.19000.h5\n",
      "34/34 [==============================] - 73s 2s/step - loss: 1.5981 - categorical_accuracy: 0.4238 - val_loss: 2.0342 - val_categorical_accuracy: 0.1900 - lr: 0.0010\n",
      "Epoch 2/25\n",
      "34/34 [==============================] - ETA: 0s - loss: 1.2969 - categorical_accuracy: 0.5234\n",
      "Epoch 2: saving model to model_init_2022-07-1210_18_30.196101/model-00002-1.29689-0.52338-3.00226-0.20000.h5\n",
      "34/34 [==============================] - 54s 2s/step - loss: 1.2969 - categorical_accuracy: 0.5234 - val_loss: 3.0023 - val_categorical_accuracy: 0.2000 - lr: 0.0010\n",
      "Epoch 3/25\n",
      "34/34 [==============================] - ETA: 0s - loss: 1.1427 - categorical_accuracy: 0.5626\n",
      "Epoch 3: saving model to model_init_2022-07-1210_18_30.196101/model-00003-1.14270-0.56259-2.02108-0.26000.h5\n",
      "34/34 [==============================] - 51s 2s/step - loss: 1.1427 - categorical_accuracy: 0.5626 - val_loss: 2.0211 - val_categorical_accuracy: 0.2600 - lr: 0.0010\n",
      "Epoch 4/25\n",
      "34/34 [==============================] - ETA: 0s - loss: 1.0241 - categorical_accuracy: 0.6275\n",
      "Epoch 4: saving model to model_init_2022-07-1210_18_30.196101/model-00004-1.02407-0.62745-1.77982-0.25000.h5\n",
      "34/34 [==============================] - 51s 2s/step - loss: 1.0241 - categorical_accuracy: 0.6275 - val_loss: 1.7798 - val_categorical_accuracy: 0.2500 - lr: 0.0010\n",
      "Epoch 5/25\n",
      "34/34 [==============================] - ETA: 0s - loss: 0.9815 - categorical_accuracy: 0.6365\n",
      "Epoch 5: saving model to model_init_2022-07-1210_18_30.196101/model-00005-0.98152-0.63650-3.85865-0.23000.h5\n",
      "34/34 [==============================] - 52s 2s/step - loss: 0.9815 - categorical_accuracy: 0.6365 - val_loss: 3.8587 - val_categorical_accuracy: 0.2300 - lr: 0.0010\n",
      "Epoch 6/25\n",
      "34/34 [==============================] - ETA: 0s - loss: 0.9241 - categorical_accuracy: 0.6561\n",
      "Epoch 6: saving model to model_init_2022-07-1210_18_30.196101/model-00006-0.92405-0.65611-3.60909-0.24000.h5\n",
      "34/34 [==============================] - 51s 2s/step - loss: 0.9241 - categorical_accuracy: 0.6561 - val_loss: 3.6091 - val_categorical_accuracy: 0.2400 - lr: 0.0010\n",
      "Epoch 7/25\n",
      "34/34 [==============================] - ETA: 0s - loss: 0.8728 - categorical_accuracy: 0.6772\n",
      "Epoch 7: saving model to model_init_2022-07-1210_18_30.196101/model-00007-0.87281-0.67722-4.63456-0.25000.h5\n",
      "34/34 [==============================] - 51s 2s/step - loss: 0.8728 - categorical_accuracy: 0.6772 - val_loss: 4.6346 - val_categorical_accuracy: 0.2500 - lr: 0.0010\n",
      "Epoch 8/25\n",
      "34/34 [==============================] - ETA: 0s - loss: 0.7678 - categorical_accuracy: 0.7044\n",
      "Epoch 8: saving model to model_init_2022-07-1210_18_30.196101/model-00008-0.76782-0.70437-3.77969-0.35000.h5\n",
      "34/34 [==============================] - 51s 2s/step - loss: 0.7678 - categorical_accuracy: 0.7044 - val_loss: 3.7797 - val_categorical_accuracy: 0.3500 - lr: 0.0010\n",
      "Epoch 9/25\n",
      "34/34 [==============================] - ETA: 0s - loss: 0.5836 - categorical_accuracy: 0.7738\n",
      "Epoch 9: saving model to model_init_2022-07-1210_18_30.196101/model-00009-0.58364-0.77376-4.08292-0.26000.h5\n",
      "34/34 [==============================] - 51s 2s/step - loss: 0.5836 - categorical_accuracy: 0.7738 - val_loss: 4.0829 - val_categorical_accuracy: 0.2600 - lr: 2.0000e-04\n",
      "Epoch 10/25\n",
      "34/34 [==============================] - ETA: 0s - loss: 0.5354 - categorical_accuracy: 0.8039\n",
      "Epoch 10: saving model to model_init_2022-07-1210_18_30.196101/model-00010-0.53544-0.80392-3.19757-0.37000.h5\n",
      "34/34 [==============================] - 51s 2s/step - loss: 0.5354 - categorical_accuracy: 0.8039 - val_loss: 3.1976 - val_categorical_accuracy: 0.3700 - lr: 2.0000e-04\n",
      "Epoch 11/25\n",
      "34/34 [==============================] - ETA: 0s - loss: 0.5015 - categorical_accuracy: 0.7964\n",
      "Epoch 11: saving model to model_init_2022-07-1210_18_30.196101/model-00011-0.50154-0.79638-2.76474-0.35000.h5\n",
      "34/34 [==============================] - 51s 2s/step - loss: 0.5015 - categorical_accuracy: 0.7964 - val_loss: 2.7647 - val_categorical_accuracy: 0.3500 - lr: 2.0000e-04\n",
      "Epoch 12/25\n",
      "34/34 [==============================] - ETA: 0s - loss: 0.5316 - categorical_accuracy: 0.8069\n",
      "Epoch 12: saving model to model_init_2022-07-1210_18_30.196101/model-00012-0.53156-0.80694-1.69264-0.45000.h5\n",
      "34/34 [==============================] - 51s 2s/step - loss: 0.5316 - categorical_accuracy: 0.8069 - val_loss: 1.6926 - val_categorical_accuracy: 0.4500 - lr: 2.0000e-04\n",
      "Epoch 13/25\n",
      "34/34 [==============================] - ETA: 0s - loss: 0.4423 - categorical_accuracy: 0.8401\n",
      "Epoch 13: saving model to model_init_2022-07-1210_18_30.196101/model-00013-0.44233-0.84012-1.65957-0.52000.h5\n",
      "34/34 [==============================] - 52s 2s/step - loss: 0.4423 - categorical_accuracy: 0.8401 - val_loss: 1.6596 - val_categorical_accuracy: 0.5200 - lr: 2.0000e-04\n",
      "Epoch 14/25\n",
      "34/34 [==============================] - ETA: 0s - loss: 0.4119 - categorical_accuracy: 0.8446\n",
      "Epoch 14: saving model to model_init_2022-07-1210_18_30.196101/model-00014-0.41191-0.84465-1.67114-0.47000.h5\n",
      "34/34 [==============================] - 50s 2s/step - loss: 0.4119 - categorical_accuracy: 0.8446 - val_loss: 1.6711 - val_categorical_accuracy: 0.4700 - lr: 2.0000e-04\n",
      "Epoch 15/25\n",
      "34/34 [==============================] - ETA: 0s - loss: 0.3998 - categorical_accuracy: 0.8477\n",
      "Epoch 15: saving model to model_init_2022-07-1210_18_30.196101/model-00015-0.39985-0.84766-1.26997-0.55000.h5\n",
      "34/34 [==============================] - 51s 2s/step - loss: 0.3998 - categorical_accuracy: 0.8477 - val_loss: 1.2700 - val_categorical_accuracy: 0.5500 - lr: 2.0000e-04\n",
      "Epoch 16/25\n",
      "34/34 [==============================] - ETA: 0s - loss: 0.3958 - categorical_accuracy: 0.8597\n",
      "Epoch 16: saving model to model_init_2022-07-1210_18_30.196101/model-00016-0.39584-0.85973-1.52121-0.51000.h5\n",
      "34/34 [==============================] - 51s 2s/step - loss: 0.3958 - categorical_accuracy: 0.8597 - val_loss: 1.5212 - val_categorical_accuracy: 0.5100 - lr: 2.0000e-04\n",
      "Epoch 17/25\n",
      "34/34 [==============================] - ETA: 0s - loss: 0.4246 - categorical_accuracy: 0.8311\n",
      "Epoch 17: saving model to model_init_2022-07-1210_18_30.196101/model-00017-0.42457-0.83107-1.48933-0.49000.h5\n",
      "34/34 [==============================] - 51s 2s/step - loss: 0.4246 - categorical_accuracy: 0.8311 - val_loss: 1.4893 - val_categorical_accuracy: 0.4900 - lr: 2.0000e-04\n",
      "Epoch 18/25\n",
      "34/34 [==============================] - ETA: 0s - loss: 0.3444 - categorical_accuracy: 0.8733\n",
      "Epoch 18: saving model to model_init_2022-07-1210_18_30.196101/model-00018-0.34436-0.87330-0.88327-0.73000.h5\n",
      "34/34 [==============================] - 52s 2s/step - loss: 0.3444 - categorical_accuracy: 0.8733 - val_loss: 0.8833 - val_categorical_accuracy: 0.7300 - lr: 2.0000e-04\n",
      "Epoch 19/25\n",
      "34/34 [==============================] - ETA: 0s - loss: 0.4024 - categorical_accuracy: 0.8552\n",
      "Epoch 19: saving model to model_init_2022-07-1210_18_30.196101/model-00019-0.40237-0.85520-0.72468-0.77000.h5\n",
      "34/34 [==============================] - 51s 2s/step - loss: 0.4024 - categorical_accuracy: 0.8552 - val_loss: 0.7247 - val_categorical_accuracy: 0.7700 - lr: 2.0000e-04\n",
      "Epoch 20/25\n",
      "34/34 [==============================] - ETA: 0s - loss: 0.3542 - categorical_accuracy: 0.8688\n",
      "Epoch 20: saving model to model_init_2022-07-1210_18_30.196101/model-00020-0.35422-0.86878-0.74358-0.71000.h5\n",
      "34/34 [==============================] - 50s 2s/step - loss: 0.3542 - categorical_accuracy: 0.8688 - val_loss: 0.7436 - val_categorical_accuracy: 0.7100 - lr: 2.0000e-04\n",
      "Epoch 21/25\n",
      "34/34 [==============================] - ETA: 0s - loss: 0.3422 - categorical_accuracy: 0.8748\n",
      "Epoch 21: saving model to model_init_2022-07-1210_18_30.196101/model-00021-0.34222-0.87481-0.64593-0.81000.h5\n",
      "34/34 [==============================] - 51s 2s/step - loss: 0.3422 - categorical_accuracy: 0.8748 - val_loss: 0.6459 - val_categorical_accuracy: 0.8100 - lr: 2.0000e-04\n",
      "Epoch 22/25\n",
      "34/34 [==============================] - ETA: 0s - loss: 0.3372 - categorical_accuracy: 0.8673\n",
      "Epoch 22: saving model to model_init_2022-07-1210_18_30.196101/model-00022-0.33717-0.86727-0.66517-0.81000.h5\n",
      "34/34 [==============================] - 50s 1s/step - loss: 0.3372 - categorical_accuracy: 0.8673 - val_loss: 0.6652 - val_categorical_accuracy: 0.8100 - lr: 2.0000e-04\n",
      "Epoch 23/25\n",
      "34/34 [==============================] - ETA: 0s - loss: 0.2932 - categorical_accuracy: 0.9065\n",
      "Epoch 23: saving model to model_init_2022-07-1210_18_30.196101/model-00023-0.29322-0.90649-0.83615-0.67000.h5\n",
      "34/34 [==============================] - 52s 2s/step - loss: 0.2932 - categorical_accuracy: 0.9065 - val_loss: 0.8362 - val_categorical_accuracy: 0.6700 - lr: 2.0000e-04\n",
      "Epoch 24/25\n",
      "34/34 [==============================] - ETA: 0s - loss: 0.2627 - categorical_accuracy: 0.9080\n",
      "Epoch 24: saving model to model_init_2022-07-1210_18_30.196101/model-00024-0.26266-0.90799-0.62798-0.80000.h5\n",
      "34/34 [==============================] - 51s 2s/step - loss: 0.2627 - categorical_accuracy: 0.9080 - val_loss: 0.6280 - val_categorical_accuracy: 0.8000 - lr: 2.0000e-04\n",
      "Epoch 25/25\n",
      "34/34 [==============================] - ETA: 0s - loss: 0.2367 - categorical_accuracy: 0.9231\n",
      "Epoch 25: saving model to model_init_2022-07-1210_18_30.196101/model-00025-0.23667-0.92308-0.64142-0.79000.h5\n",
      "34/34 [==============================] - 51s 2s/step - loss: 0.2367 - categorical_accuracy: 0.9231 - val_loss: 0.6414 - val_categorical_accuracy: 0.7900 - lr: 2.0000e-04\n"
     ]
    }
   ],
   "source": [
    "history = CNNlstm_4.fit(train_generator, steps_per_epoch=steps_per_epoch, epochs=num_epochs, verbose=1, \n",
    "                    callbacks=callbacks_list, validation_data=val_generator, \n",
    "                    validation_steps=validation_steps, class_weight=None, workers=1, initial_epoch=0)"
   ]
  },
  {
   "cell_type": "code",
   "execution_count": null,
   "metadata": {
    "colab": {
     "base_uri": "https://localhost:8080/",
     "height": 421
    },
    "id": "i0Jd4ZWnaziN",
    "outputId": "ccf29fba-f61b-4cbd-97e9-6da2e70c4b61"
   },
   "outputs": [
    {
     "data": {
      "text/plain": [
       "<matplotlib.legend.Legend at 0x7fc364063c50>"
      ]
     },
     "execution_count": 67,
     "metadata": {},
     "output_type": "execute_result"
    },
    {
     "data": {
      "image/png": "[encoded data removed]",
      "text/plain": [
       "<Figure size 1440x432 with 2 Axes>"
      ]
     },
     "metadata": {
      "needs_background": "light"
     },
     "output_type": "display_data"
    }
   ],
   "source": [
    "# Plotting the result of Model 8 :\n",
    "\n",
    "# summarize history for accuracy\n",
    "\n",
    "\n",
    "plt.figure(figsize=(20,6))\n",
    "ax1 = plt.subplot(121)\n",
    "ax1 = plt.plot(history.history['loss'])\n",
    "ax1 = plt.plot(history.history['val_loss'])\n",
    "plt.title('model loss')\n",
    "plt.ylabel('loss')\n",
    "plt.xlabel('epoch')\n",
    "plt.legend(['train', 'validation'], loc='lower left')\n",
    "ax2 = plt.subplot(122)\n",
    "ax2 = plt.plot(history.history['categorical_accuracy'])\n",
    "ax2 = plt.plot(history.history['val_categorical_accuracy'])\n",
    "plt.title('model accuracy')\n",
    "plt.ylabel('categorical_accuracy')\n",
    "plt.xlabel('epoch')\n",
    "plt.legend(['train', 'validation'], loc='lower left')"
   ]
  },
  {
   "cell_type": "markdown",
   "metadata": {
    "id": "5ZsZSmRGa3y6"
   },
   "source": [
    "\n",
    "# Model 9\n",
    "\n",
    "CNN LSTM with GRU"
   ]
  },
  {
   "cell_type": "code",
   "execution_count": 132,
   "metadata": {
    "colab": {
     "base_uri": "https://localhost:8080/"
    },
    "id": "0_rAx2txa7wF",
    "outputId": "53ad254b-42f4-4637-fdd0-1f26984e92a9"
   },
   "outputs": [
    {
     "name": "stdout",
     "output_type": "stream",
     "text": [
      "Model: \"sequential_19\"\n",
      "_________________________________________________________________\n",
      " Layer (type)                Output Shape              Param #   \n",
      "=================================================================\n",
      " time_distributed_85 (TimeDi  (None, 30, 120, 120, 16)  448      \n",
      " stributed)                                                      \n",
      "                                                                 \n",
      " time_distributed_86 (TimeDi  (None, 30, 120, 120, 16)  64       \n",
      " stributed)                                                      \n",
      "                                                                 \n",
      " time_distributed_87 (TimeDi  (None, 30, 60, 60, 16)   0         \n",
      " stributed)                                                      \n",
      "                                                                 \n",
      " time_distributed_88 (TimeDi  (None, 30, 60, 60, 32)   4640      \n",
      " stributed)                                                      \n",
      "                                                                 \n",
      " time_distributed_89 (TimeDi  (None, 30, 60, 60, 32)   128       \n",
      " stributed)                                                      \n",
      "                                                                 \n",
      " time_distributed_90 (TimeDi  (None, 30, 30, 30, 32)   0         \n",
      " stributed)                                                      \n",
      "                                                                 \n",
      " time_distributed_91 (TimeDi  (None, 30, 30, 30, 64)   18496     \n",
      " stributed)                                                      \n",
      "                                                                 \n",
      " time_distributed_92 (TimeDi  (None, 30, 30, 30, 64)   256       \n",
      " stributed)                                                      \n",
      "                                                                 \n",
      " time_distributed_93 (TimeDi  (None, 30, 15, 15, 64)   0         \n",
      " stributed)                                                      \n",
      "                                                                 \n",
      " time_distributed_94 (TimeDi  (None, 30, 15, 15, 128)  73856     \n",
      " stributed)                                                      \n",
      "                                                                 \n",
      " time_distributed_95 (TimeDi  (None, 30, 15, 15, 128)  512       \n",
      " stributed)                                                      \n",
      "                                                                 \n",
      " time_distributed_96 (TimeDi  (None, 30, 7, 7, 128)    0         \n",
      " stributed)                                                      \n",
      "                                                                 \n",
      " time_distributed_97 (TimeDi  (None, 30, 6272)         0         \n",
      " stributed)                                                      \n",
      "                                                                 \n",
      " gru_2 (GRU)                 (None, 128)               2458368   \n",
      "                                                                 \n",
      " dropout_38 (Dropout)        (None, 128)               0         \n",
      "                                                                 \n",
      " dense_50 (Dense)            (None, 128)               16512     \n",
      "                                                                 \n",
      " dropout_39 (Dropout)        (None, 128)               0         \n",
      "                                                                 \n",
      " dense_51 (Dense)            (None, 5)                 645       \n",
      "                                                                 \n",
      "=================================================================\n",
      "Total params: 2,573,925\n",
      "Trainable params: 2,573,445\n",
      "Non-trainable params: 480\n",
      "_________________________________________________________________\n",
      "None\n"
     ]
    }
   ],
   "source": [
    "input_shape=(30,120,120,3)\n",
    "\n",
    "GRU_lstm = Sequential()\n",
    "\n",
    "GRU_lstm.add(TimeDistributed(Conv2D(16, (3, 3) , padding='same', activation='relu'),\n",
    "                          input_shape=(input_shape)))\n",
    "GRU_lstm.add(TimeDistributed(BatchNormalization()))\n",
    "GRU_lstm.add(TimeDistributed(MaxPooling2D((2, 2))))\n",
    "\n",
    "GRU_lstm.add(TimeDistributed(Conv2D(32, (3, 3) , padding='same', activation='relu')))\n",
    "GRU_lstm.add(TimeDistributed(BatchNormalization()))\n",
    "GRU_lstm.add(TimeDistributed(MaxPooling2D((2, 2))))\n",
    "\n",
    "GRU_lstm.add(TimeDistributed(Conv2D(64, (3, 3) , padding='same', activation='relu')))\n",
    "GRU_lstm.add(TimeDistributed(BatchNormalization()))\n",
    "GRU_lstm.add(TimeDistributed(MaxPooling2D((2, 2))))\n",
    "\n",
    "GRU_lstm.add(TimeDistributed(Conv2D(128, (3, 3) , padding='same', activation='relu')))\n",
    "GRU_lstm.add(TimeDistributed(BatchNormalization()))\n",
    "GRU_lstm.add(TimeDistributed(MaxPooling2D((2, 2))))\n",
    "\n",
    "\n",
    "GRU_lstm.add(TimeDistributed(Flatten()))\n",
    "\n",
    "\n",
    "GRU_lstm.add(GRU(128))\n",
    "GRU_lstm.add(Dropout(0.25))\n",
    "\n",
    "GRU_lstm.add(Dense(128,activation='relu'))\n",
    "GRU_lstm.add(Dropout(0.25))\n",
    "\n",
    "GRU_lstm.add(Dense(5, activation='softmax'))\n",
    "optimiser = optimizers.Adam()\n",
    "GRU_lstm.compile(optimizer=optimiser, loss='categorical_crossentropy', metrics=['categorical_accuracy'])\n",
    "print (GRU_lstm.summary())"
   ]
  },
  {
   "cell_type": "code",
   "execution_count": 133,
   "metadata": {
    "colab": {
     "base_uri": "https://localhost:8080/"
    },
    "id": "GJMZuVX8a_c_",
    "outputId": "79c6ef3a-db42-45a4-a67e-f9bbd4e62149"
   },
   "outputs": [
    {
     "name": "stdout",
     "output_type": "stream",
     "text": [
      "# training sequences = 663\n",
      "# validation sequences = 100\n",
      "# epochs = 20\n"
     ]
    }
   ],
   "source": [
    "batch_size = 20\n",
    "curr_dt_time = datetime.datetime.now()\n",
    "train_path = '/content/Project_data/train'\n",
    "val_path = '/content/Project_data/val'\n",
    "num_train_sequences = len(train_doc)\n",
    "print('# training sequences =', num_train_sequences)\n",
    "num_val_sequences = len(val_doc)\n",
    "print('# validation sequences =', num_val_sequences)\n",
    "# choose the number of epochs\n",
    "num_epochs = 20\n",
    "print ('# epochs =', num_epochs)"
   ]
  },
  {
   "cell_type": "code",
   "execution_count": 134,
   "metadata": {
    "colab": {
     "base_uri": "https://localhost:8080/"
    },
    "id": "Df6aT4gLbBjV",
    "outputId": "1a591a73-a32e-4a82-f604-490b1fde752c"
   },
   "outputs": [
    {
     "name": "stdout",
     "output_type": "stream",
     "text": [
      "WARNING:tensorflow:`period` argument is deprecated. Please use `save_freq` to specify the frequency in number of batches seen.\n"
     ]
    }
   ],
   "source": [
    "train_generator = generatorLSTM(train_path, train_doc, batch_size)\n",
    "val_generator = generatorLSTM(val_path, val_doc, batch_size)\n",
    "\n",
    "model_name = 'model_init' + '_' + str(curr_dt_time).replace(' ','').replace(':','_') + '/'\n",
    "    \n",
    "if not os.path.exists(model_name):\n",
    "    os.mkdir(model_name)\n",
    "        \n",
    "filepath = model_name + 'model-{epoch:05d}-{loss:.5f}-{categorical_accuracy:.5f}-{val_loss:.5f}-{val_categorical_accuracy:.5f}.h5'\n",
    "\n",
    "checkpoint = ModelCheckpoint(filepath, monitor='val_loss', verbose=1, save_best_only=False, save_weights_only=False, mode='auto', period=1)\n",
    "\n",
    "# write the REducelronplateau code here\n",
    "LR = ReduceLROnPlateau(monitor='val_loss', factor=0.2, patience=4)\n",
    "\n",
    "callbacks_list = [checkpoint, LR]\n",
    "\n",
    "if (num_train_sequences%batch_size) == 0:\n",
    "    steps_per_epoch = int(num_train_sequences/batch_size)\n",
    "else:\n",
    "    steps_per_epoch = (num_train_sequences//batch_size) + 1\n",
    "\n",
    "if (num_val_sequences%batch_size) == 0:\n",
    "    validation_steps = int(num_val_sequences/batch_size)\n",
    "else:\n",
    "    validation_steps = (num_val_sequences//batch_size) + 1"
   ]
  },
  {
   "cell_type": "code",
   "execution_count": null,
   "metadata": {
    "colab": {
     "base_uri": "https://localhost:8080/"
    },
    "id": "chM7TRrybEYJ",
    "outputId": "63661839-7bfd-4147-9223-453b0485aca6"
   },
   "outputs": [
    {
     "name": "stderr",
     "output_type": "stream",
     "text": [
      "/usr/local/lib/python3.7/dist-packages/ipykernel_launcher.py:3: UserWarning: `Model.fit_generator` is deprecated and will be removed in a future version. Please use `Model.fit`, which supports generators.\n",
      "  This is separate from the ipykernel package so we can avoid doing imports until\n"
     ]
    },
    {
     "name": "stdout",
     "output_type": "stream",
     "text": [
      "Epoch 1/20\n",
      "34/34 [==============================] - ETA: 0s - loss: 0.0451 - categorical_accuracy: 0.9894\n",
      "Epoch 1: saving model to model_init_2022-07-1210_44_19.521836/model-00001-0.04514-0.98944-0.55076-0.80000.h5\n",
      "34/34 [==============================] - 56s 2s/step - loss: 0.0451 - categorical_accuracy: 0.9894 - val_loss: 0.5508 - val_categorical_accuracy: 0.8000 - lr: 1.6000e-06\n",
      "Epoch 2/20\n",
      "34/34 [==============================] - ETA: 0s - loss: 0.0407 - categorical_accuracy: 0.9925\n",
      "Epoch 2: saving model to model_init_2022-07-1210_44_19.521836/model-00002-0.04067-0.99246-0.58605-0.78000.h5\n",
      "34/34 [==============================] - 50s 1s/step - loss: 0.0407 - categorical_accuracy: 0.9925 - val_loss: 0.5861 - val_categorical_accuracy: 0.7800 - lr: 1.6000e-06\n",
      "Epoch 3/20\n",
      "34/34 [==============================] - ETA: 0s - loss: 0.0441 - categorical_accuracy: 0.9925\n",
      "Epoch 3: saving model to model_init_2022-07-1210_44_19.521836/model-00003-0.04410-0.99246-0.40372-0.84000.h5\n",
      "34/34 [==============================] - 49s 1s/step - loss: 0.0441 - categorical_accuracy: 0.9925 - val_loss: 0.4037 - val_categorical_accuracy: 0.8400 - lr: 1.6000e-06\n",
      "Epoch 4/20\n",
      "34/34 [==============================] - ETA: 0s - loss: 0.0397 - categorical_accuracy: 0.9925\n",
      "Epoch 4: saving model to model_init_2022-07-1210_44_19.521836/model-00004-0.03972-0.99246-0.75222-0.76000.h5\n",
      "34/34 [==============================] - 48s 1s/step - loss: 0.0397 - categorical_accuracy: 0.9925 - val_loss: 0.7522 - val_categorical_accuracy: 0.7600 - lr: 1.6000e-06\n",
      "Epoch 5/20\n",
      "34/34 [==============================] - ETA: 0s - loss: 0.0583 - categorical_accuracy: 0.9864\n",
      "Epoch 5: saving model to model_init_2022-07-1210_44_19.521836/model-00005-0.05832-0.98643-0.46507-0.80000.h5\n",
      "34/34 [==============================] - 48s 1s/step - loss: 0.0583 - categorical_accuracy: 0.9864 - val_loss: 0.4651 - val_categorical_accuracy: 0.8000 - lr: 1.6000e-06\n",
      "Epoch 6/20\n",
      "34/34 [==============================] - ETA: 0s - loss: 0.0504 - categorical_accuracy: 0.9849\n",
      "Epoch 6: saving model to model_init_2022-07-1210_44_19.521836/model-00006-0.05037-0.98492-0.54690-0.80000.h5\n",
      "34/34 [==============================] - 48s 1s/step - loss: 0.0504 - categorical_accuracy: 0.9849 - val_loss: 0.5469 - val_categorical_accuracy: 0.8000 - lr: 1.6000e-06\n",
      "Epoch 7/20\n",
      "34/34 [==============================] - ETA: 0s - loss: 0.0521 - categorical_accuracy: 0.9864\n",
      "Epoch 7: saving model to model_init_2022-07-1210_44_19.521836/model-00007-0.05214-0.98643-0.52208-0.79000.h5\n",
      "34/34 [==============================] - 49s 1s/step - loss: 0.0521 - categorical_accuracy: 0.9864 - val_loss: 0.5221 - val_categorical_accuracy: 0.7900 - lr: 1.6000e-06\n",
      "Epoch 8/20\n",
      "34/34 [==============================] - ETA: 0s - loss: 0.0521 - categorical_accuracy: 0.9864\n",
      "Epoch 8: saving model to model_init_2022-07-1210_44_19.521836/model-00008-0.05215-0.98643-0.57910-0.81000.h5\n",
      "34/34 [==============================] - 48s 1s/step - loss: 0.0521 - categorical_accuracy: 0.9864 - val_loss: 0.5791 - val_categorical_accuracy: 0.8100 - lr: 3.2000e-07\n",
      "Epoch 9/20\n",
      "34/34 [==============================] - ETA: 0s - loss: 0.0550 - categorical_accuracy: 0.9894\n",
      "Epoch 9: saving model to model_init_2022-07-1210_44_19.521836/model-00009-0.05496-0.98944-0.55505-0.78000.h5\n",
      "34/34 [==============================] - 50s 2s/step - loss: 0.0550 - categorical_accuracy: 0.9894 - val_loss: 0.5551 - val_categorical_accuracy: 0.7800 - lr: 3.2000e-07\n",
      "Epoch 10/20\n",
      "34/34 [==============================] - ETA: 0s - loss: 0.0501 - categorical_accuracy: 0.9925\n",
      "Epoch 10: saving model to model_init_2022-07-1210_44_19.521836/model-00010-0.05006-0.99246-0.49229-0.80000.h5\n",
      "34/34 [==============================] - 49s 1s/step - loss: 0.0501 - categorical_accuracy: 0.9925 - val_loss: 0.4923 - val_categorical_accuracy: 0.8000 - lr: 3.2000e-07\n",
      "Epoch 11/20\n",
      "34/34 [==============================] - ETA: 0s - loss: 0.0551 - categorical_accuracy: 0.9834\n",
      "Epoch 11: saving model to model_init_2022-07-1210_44_19.521836/model-00011-0.05510-0.98341-0.54711-0.80000.h5\n",
      "34/34 [==============================] - 48s 1s/step - loss: 0.0551 - categorical_accuracy: 0.9834 - val_loss: 0.5471 - val_categorical_accuracy: 0.8000 - lr: 3.2000e-07\n",
      "Epoch 12/20\n",
      "34/34 [==============================] - ETA: 0s - loss: 0.0442 - categorical_accuracy: 0.9910\n",
      "Epoch 12: saving model to model_init_2022-07-1210_44_19.521836/model-00012-0.04417-0.99095-0.53666-0.81000.h5\n",
      "34/34 [==============================] - 50s 2s/step - loss: 0.0442 - categorical_accuracy: 0.9910 - val_loss: 0.5367 - val_categorical_accuracy: 0.8100 - lr: 6.4000e-08\n",
      "Epoch 13/20\n",
      "34/34 [==============================] - ETA: 0s - loss: 0.0531 - categorical_accuracy: 0.9879\n",
      "Epoch 13: saving model to model_init_2022-07-1210_44_19.521836/model-00013-0.05310-0.98793-0.58723-0.78000.h5\n",
      "34/34 [==============================] - 50s 2s/step - loss: 0.0531 - categorical_accuracy: 0.9879 - val_loss: 0.5872 - val_categorical_accuracy: 0.7800 - lr: 6.4000e-08\n",
      "Epoch 14/20\n",
      "34/34 [==============================] - ETA: 0s - loss: 0.0499 - categorical_accuracy: 0.9819\n",
      "Epoch 14: saving model to model_init_2022-07-1210_44_19.521836/model-00014-0.04994-0.98190-0.59075-0.80000.h5\n",
      "34/34 [==============================] - 49s 1s/step - loss: 0.0499 - categorical_accuracy: 0.9819 - val_loss: 0.5907 - val_categorical_accuracy: 0.8000 - lr: 6.4000e-08\n",
      "Epoch 15/20\n",
      "34/34 [==============================] - ETA: 0s - loss: 0.0499 - categorical_accuracy: 0.9894\n",
      "Epoch 15: saving model to model_init_2022-07-1210_44_19.521836/model-00015-0.04993-0.98944-0.58156-0.78000.h5\n",
      "34/34 [==============================] - 49s 1s/step - loss: 0.0499 - categorical_accuracy: 0.9894 - val_loss: 0.5816 - val_categorical_accuracy: 0.7800 - lr: 6.4000e-08\n",
      "Epoch 16/20\n",
      "34/34 [==============================] - ETA: 0s - loss: 0.0430 - categorical_accuracy: 0.9925\n",
      "Epoch 16: saving model to model_init_2022-07-1210_44_19.521836/model-00016-0.04295-0.99246-0.55084-0.80000.h5\n",
      "34/34 [==============================] - 49s 1s/step - loss: 0.0430 - categorical_accuracy: 0.9925 - val_loss: 0.5508 - val_categorical_accuracy: 0.8000 - lr: 1.2800e-08\n",
      "Epoch 17/20\n",
      "34/34 [==============================] - ETA: 0s - loss: 0.0455 - categorical_accuracy: 0.9925\n",
      "Epoch 17: saving model to model_init_2022-07-1210_44_19.521836/model-00017-0.04553-0.99246-0.60469-0.79000.h5\n",
      "34/34 [==============================] - 51s 2s/step - loss: 0.0455 - categorical_accuracy: 0.9925 - val_loss: 0.6047 - val_categorical_accuracy: 0.7900 - lr: 1.2800e-08\n",
      "Epoch 18/20\n",
      "34/34 [==============================] - ETA: 0s - loss: 0.0358 - categorical_accuracy: 0.9925\n",
      "Epoch 18: saving model to model_init_2022-07-1210_44_19.521836/model-00018-0.03577-0.99246-0.54143-0.80000.h5\n",
      "34/34 [==============================] - 49s 1s/step - loss: 0.0358 - categorical_accuracy: 0.9925 - val_loss: 0.5414 - val_categorical_accuracy: 0.8000 - lr: 1.2800e-08\n",
      "Epoch 19/20\n",
      "34/34 [==============================] - ETA: 0s - loss: 0.0465 - categorical_accuracy: 0.9940\n",
      "Epoch 19: saving model to model_init_2022-07-1210_44_19.521836/model-00019-0.04649-0.99397-0.46001-0.81000.h5\n",
      "34/34 [==============================] - 50s 2s/step - loss: 0.0465 - categorical_accuracy: 0.9940 - val_loss: 0.4600 - val_categorical_accuracy: 0.8100 - lr: 1.2800e-08\n",
      "Epoch 20/20\n",
      "34/34 [==============================] - ETA: 0s - loss: 0.0507 - categorical_accuracy: 0.9894\n",
      "Epoch 20: saving model to model_init_2022-07-1210_44_19.521836/model-00020-0.05075-0.98944-0.58053-0.81000.h5\n",
      "34/34 [==============================] - 49s 1s/step - loss: 0.0507 - categorical_accuracy: 0.9894 - val_loss: 0.5805 - val_categorical_accuracy: 0.8100 - lr: 2.5600e-09\n"
     ]
    }
   ],
   "source": [
    "history = GRU_lstm.fit_generator(train_generator, steps_per_epoch=steps_per_epoch, epochs=num_epochs, verbose=1, \n",
    "                    callbacks=callbacks_list, validation_data=val_generator, \n",
    "                    validation_steps=validation_steps, class_weight=None, workers=1, initial_epoch=0)"
   ]
  },
  {
   "cell_type": "code",
   "execution_count": null,
   "metadata": {
    "colab": {
     "base_uri": "https://localhost:8080/",
     "height": 421
    },
    "id": "e7ufEA0PbH0-",
    "outputId": "9eb8d7d6-3759-49d0-a9dd-9c66f08bfc09"
   },
   "outputs": [
    {
     "data": {
      "text/plain": [
       "<matplotlib.legend.Legend at 0x7fc3f00fbd50>"
      ]
     },
     "execution_count": 74,
     "metadata": {},
     "output_type": "execute_result"
    },
    {
     "data": {
      "image/png": "[encoded data removed]",
      "text/plain": [
       "<Figure size 1440x432 with 2 Axes>"
      ]
     },
     "metadata": {
      "needs_background": "light"
     },
     "output_type": "display_data"
    }
   ],
   "source": [
    "# Plotting the result of Model 9 :\n",
    "\n",
    "# summarize history for accuracy\n",
    "\n",
    "\n",
    "plt.figure(figsize=(20,6))\n",
    "ax1 = plt.subplot(121)\n",
    "ax1 = plt.plot(history.history['loss'])\n",
    "ax1 = plt.plot(history.history['val_loss'])\n",
    "plt.title('model loss')\n",
    "plt.ylabel('loss')\n",
    "plt.xlabel('epoch')\n",
    "plt.legend(['train', 'validation'], loc='lower left')\n",
    "ax2 = plt.subplot(122)\n",
    "ax2 = plt.plot(history.history['categorical_accuracy'])\n",
    "ax2 = plt.plot(history.history['val_categorical_accuracy'])\n",
    "plt.title('model accuracy')\n",
    "plt.ylabel('categorical_accuracy')\n",
    "plt.xlabel('epoch')\n",
    "plt.legend(['train', 'validation'], loc='lower left')"
   ]
  },
  {
   "cell_type": "markdown",
   "metadata": {
    "id": "C47uw-MWc8Nv"
   },
   "source": [
    "Lets use the pre-trained model for the transfer learning.\n"
   ]
  },
  {
   "cell_type": "markdown",
   "metadata": {
    "id": "ySo-lfhbphE2"
   },
   "source": [
    "# Model 10:\n",
    "\n",
    "Model with Transfer Learning"
   ]
  },
  {
   "cell_type": "code",
   "execution_count": 135,
   "metadata": {
    "colab": {
     "base_uri": "https://localhost:8080/"
    },
    "id": "pSyumaoUdF7K",
    "outputId": "129bff1e-1df1-4142-b0d4-c8f36b668f42"
   },
   "outputs": [
    {
     "name": "stdout",
     "output_type": "stream",
     "text": [
      "WARNING:tensorflow:`input_shape` is undefined or non-square, or `rows` is not in [128, 160, 192, 224]. Weights for input shape (224, 224) will be loaded as the default.\n"
     ]
    }
   ],
   "source": [
    "# Importing the transfer learning model:\n",
    "from keras.applications import mobilenet\n",
    "\n",
    "mobilenet_transfer = mobilenet.MobileNet(weights='imagenet', include_top=False)"
   ]
  },
  {
   "cell_type": "code",
   "execution_count": 136,
   "metadata": {
    "colab": {
     "base_uri": "https://localhost:8080/"
    },
    "id": "fmnXx0dldF-j",
    "outputId": "717316c4-e4e1-47de-a53f-74d6e6922008"
   },
   "outputs": [
    {
     "name": "stdout",
     "output_type": "stream",
     "text": [
      "Model: \"sequential_20\"\n",
      "_________________________________________________________________\n",
      " Layer (type)                Output Shape              Param #   \n",
      "=================================================================\n",
      " time_distributed_98 (TimeDi  (None, 18, 3, 3, 1024)   3228864   \n",
      " stributed)                                                      \n",
      "                                                                 \n",
      " time_distributed_99 (TimeDi  (None, 18, 3, 3, 1024)   4096      \n",
      " stributed)                                                      \n",
      "                                                                 \n",
      " time_distributed_100 (TimeD  (None, 18, 1, 1, 1024)   0         \n",
      " istributed)                                                     \n",
      "                                                                 \n",
      " time_distributed_101 (TimeD  (None, 18, 1024)         0         \n",
      " istributed)                                                     \n",
      "                                                                 \n",
      " lstm_5 (LSTM)               (None, 128)               590336    \n",
      "                                                                 \n",
      " dropout_40 (Dropout)        (None, 128)               0         \n",
      "                                                                 \n",
      " dense_52 (Dense)            (None, 128)               16512     \n",
      "                                                                 \n",
      " dropout_41 (Dropout)        (None, 128)               0         \n",
      "                                                                 \n",
      " dense_53 (Dense)            (None, 5)                 645       \n",
      "                                                                 \n",
      "=================================================================\n",
      "Total params: 3,840,453\n",
      "Trainable params: 609,541\n",
      "Non-trainable params: 3,230,912\n",
      "_________________________________________________________________\n",
      "None\n"
     ]
    }
   ],
   "source": [
    "# Building the model :\n",
    "\n",
    "input_shape = (18,120,120,3)\n",
    "        \n",
    "mobileNetModel= Sequential()\n",
    "mobileNetModel.add(TimeDistributed(mobilenet_transfer,input_shape=(input_shape)))\n",
    "\n",
    "\n",
    "for layer in mobileNetModel.layers:\n",
    "    layer.trainable = False\n",
    "\n",
    "\n",
    "mobileNetModel.add(TimeDistributed(BatchNormalization()))\n",
    "mobileNetModel.add(TimeDistributed(MaxPooling2D((2, 2))))\n",
    "mobileNetModel.add(TimeDistributed(Flatten()))\n",
    "\n",
    "mobileNetModel.add(LSTM(128))\n",
    "mobileNetModel.add(Dropout(0.25))\n",
    "\n",
    "mobileNetModel.add(Dense(128,activation='relu'))\n",
    "mobileNetModel.add(Dropout(0.25))\n",
    "\n",
    "mobileNetModel.add(Dense(5, activation='softmax'))\n",
    "\n",
    "\n",
    "optimiser = optimizers.Adam()\n",
    "mobileNetModel.compile(optimizer=optimiser, loss='categorical_crossentropy', metrics=['categorical_accuracy'])\n",
    "print (mobileNetModel.summary())"
   ]
  },
  {
   "cell_type": "code",
   "execution_count": 137,
   "metadata": {
    "id": "sAkwPGFhdGFF"
   },
   "outputs": [],
   "source": [
    "def generatorMobileNet(source_path, folder_list, batch_size):\n",
    "    print( 'Source path = ', source_path, '; batch size =', batch_size)\n",
    "    \n",
    "    #create a list of image numbers you want to use for a particular video\n",
    "    img_idx = [1,2,4,6,7,8,10,12,14,16,18,20,21,22,24,26,27,29]\n",
    "    #list(range(0,29,2))\n",
    "    \n",
    "    while True:\n",
    "        t = np.random.permutation(folder_list)\n",
    "        \n",
    "# calculate the number of batches\n",
    "        num_batches = int(len(t)/batch_size)\n",
    "        \n",
    "# we iterate over the number of batches\n",
    "        for batch in range(num_batches): \n",
    "            \n",
    "# x is the number of images you use for each video, (y,z) is the final size of the input images and 3 is the number of channels RGB          \n",
    "            batch_data = np.zeros((batch_size,18,120,120,3))\n",
    "# batch_labels is the one hot representation of the output\n",
    "            batch_labels = np.zeros((batch_size,5))\n",
    "\n",
    "# iterate over the batch_size    \n",
    "            for folder in range(batch_size): \n",
    "# read all the images in the folder        \n",
    "                imgs = os.listdir(source_path+'/'+ t[folder + (batch*batch_size)].split(';')[0]) \n",
    "#  Iterate over the frames/images of a folder to read them in    \n",
    "                for idx,item in enumerate(img_idx):\n",
    "                    image = cv2.imread(source_path+'/'+ t[folder + (batch*batch_size)].strip().split(';')[0]+'/'+imgs[item],cv2.IMREAD_UNCHANGED).astype(np.float32)\n",
    "                    \n",
    "#crop the images and resize them. Note that the images are of 2 different shape \n",
    "#and the conv3D will throw error if the inputs in a batch have different shapes\n",
    "                    if image.shape[1] == 160:\n",
    "                        image = cv2.resize(image[:,20:140,:],(120,120),interpolation = cv2.INTER_AREA).astype(np.float32)\n",
    "                    else:\n",
    "                        image = cv2.resize(image,(120,120),interpolation = cv2.INTER_AREA).astype(np.float32)\n",
    "                                \n",
    "#normalise and feed in the image\n",
    "\n",
    "                    batch_data[folder,idx,:,:,0] = (image[:,:,0])/255\n",
    "                    batch_data[folder,idx,:,:,1] = (image[:,:,1])/255\n",
    "                    batch_data[folder,idx,:,:,2] = (image[:,:,2])/255\n",
    "                    \n",
    "                batch_labels[folder, int(t[folder + (batch*batch_size)].strip().split(';')[2])] = 1\n",
    "#you yield the batch_data and the batch_labels, remember what does yield do                \n",
    "            yield batch_data, batch_labels \n",
    "\n",
    "        \n",
    "# write the code for the remaining data points which are left after full batches\n",
    "        if (len(t)%batch_size) != 0:\n",
    "            batch_data = np.zeros((len(t)%batch_size,18,120,120,3))\n",
    "            batch_labels = np.zeros((len(t)%batch_size,5))\n",
    "            for folder in range(len(t)%batch_size):\n",
    "                imgs = os.listdir(source_path+'/'+ t[folder + (num_batches*batch_size)].split(';')[0])\n",
    "                for idx,item in enumerate(img_idx):\n",
    "                    image = cv2.imread(source_path+'/'+ t[folder + (num_batches*batch_size)].strip().split(';')[0]+'/'+imgs[item],cv2.IMREAD_UNCHANGED).astype(np.float32)\n",
    "                    if image.shape[1] == 160:\n",
    "                        image = cv2.resize(image[:,20:140,:],(120,120),interpolation = cv2.INTER_AREA).astype(np.float32)\n",
    "                    else:\n",
    "                        image = cv2.resize(image,(120,120),interpolation = cv2.INTER_AREA).astype(np.float32)\n",
    "\n",
    "                    batch_data[folder,idx,:,:,0] = (image[:,:,0])/255\n",
    "                    batch_data[folder,idx,:,:,1] = (image[:,:,1])/255\n",
    "                    batch_data[folder,idx,:,:,2] = (image[:,:,2])/255\n",
    "\n",
    "                batch_labels[folder, int(t[folder + (num_batches*batch_size)].strip().split(';')[2])] = 1\n",
    "\n",
    "            yield batch_data, batch_labels"
   ]
  },
  {
   "cell_type": "code",
   "execution_count": 138,
   "metadata": {
    "colab": {
     "base_uri": "https://localhost:8080/"
    },
    "id": "bim4LrELdGbJ",
    "outputId": "b6f591e3-cefe-4501-ad54-0a2506d61b90"
   },
   "outputs": [
    {
     "name": "stdout",
     "output_type": "stream",
     "text": [
      "# training sequences = 663\n",
      "# validation sequences = 100\n",
      "# epochs = 5\n"
     ]
    }
   ],
   "source": [
    "batch_size = 20\n",
    "curr_dt_time = datetime.datetime.now()\n",
    "train_path = '/content/Project_data/train'\n",
    "val_path = '/content/Project_data/val'\n",
    "num_train_sequences = len(train_doc)\n",
    "print('# training sequences =', num_train_sequences)\n",
    "num_val_sequences = len(val_doc)\n",
    "print('# validation sequences =', num_val_sequences)\n",
    "# choose the number of epochs\n",
    "num_epochs = 5\n",
    "print ('# epochs =', num_epochs)"
   ]
  },
  {
   "cell_type": "code",
   "execution_count": 139,
   "metadata": {
    "colab": {
     "base_uri": "https://localhost:8080/"
    },
    "id": "eiu4rtW3bIBo",
    "outputId": "d653b92a-e8ed-466f-eaa3-e9e168634a25"
   },
   "outputs": [
    {
     "name": "stdout",
     "output_type": "stream",
     "text": [
      "WARNING:tensorflow:`period` argument is deprecated. Please use `save_freq` to specify the frequency in number of batches seen.\n"
     ]
    }
   ],
   "source": [
    "train_generator = generatorMobileNet(train_path, train_doc, batch_size)\n",
    "val_generator = generatorMobileNet(val_path, val_doc, batch_size)\n",
    "\n",
    "model_name = 'model_init' + '_' + str(curr_dt_time).replace(' ','').replace(':','_') + '/'\n",
    "    \n",
    "if not os.path.exists(model_name):\n",
    "    os.mkdir(model_name)\n",
    "        \n",
    "filepath = model_name + 'model-{epoch:05d}-{loss:.5f}-{categorical_accuracy:.5f}-{val_loss:.5f}-{val_categorical_accuracy:.5f}.h5'\n",
    "\n",
    "checkpoint = ModelCheckpoint(filepath, monitor='val_loss', verbose=1, save_best_only=False, save_weights_only=False, mode='auto', period=1)\n",
    "\n",
    "# write the REducelronplateau code here\n",
    "LR = ReduceLROnPlateau(monitor='val_loss', factor=0.2, patience=4)\n",
    "\n",
    "callbacks_list = [checkpoint, LR]\n",
    "\n",
    "if (num_train_sequences%batch_size) == 0:\n",
    "    steps_per_epoch = int(num_train_sequences/batch_size)\n",
    "else:\n",
    "    steps_per_epoch = (num_train_sequences//batch_size) + 1\n",
    "\n",
    "if (num_val_sequences%batch_size) == 0:\n",
    "    validation_steps = int(num_val_sequences/batch_size)\n",
    "else:\n",
    "    validation_steps = (num_val_sequences//batch_size) + 1"
   ]
  },
  {
   "cell_type": "code",
   "execution_count": 140,
   "metadata": {
    "colab": {
     "base_uri": "https://localhost:8080/"
    },
    "id": "A2Yu5DlcdUMI",
    "outputId": "905df536-551d-443d-c13c-29ace1abc3d3"
   },
   "outputs": [
    {
     "name": "stdout",
     "output_type": "stream",
     "text": [
      "Source path =  /content/Project_data/train ; batch size = 20\n",
      "Epoch 1/5\n",
      "34/34 [==============================] - ETA: 0s - loss: 1.4683 - categorical_accuracy: 0.3544Source path =  /content/Project_data/val ; batch size = 20\n",
      "\n",
      "Epoch 1: saving model to model_init_2022-07-1306_43_49.378336/model-00001-1.46829-0.35445-1.17786-0.57000.h5\n",
      "34/34 [==============================] - 33s 877ms/step - loss: 1.4683 - categorical_accuracy: 0.3544 - val_loss: 1.1779 - val_categorical_accuracy: 0.5700 - lr: 0.0010\n",
      "Epoch 2/5\n",
      "34/34 [==============================] - ETA: 0s - loss: 0.8289 - categorical_accuracy: 0.7225\n",
      "Epoch 2: saving model to model_init_2022-07-1306_43_49.378336/model-00002-0.82893-0.72247-0.83294-0.64000.h5\n",
      "34/34 [==============================] - 30s 899ms/step - loss: 0.8289 - categorical_accuracy: 0.7225 - val_loss: 0.8329 - val_categorical_accuracy: 0.6400 - lr: 0.0010\n",
      "Epoch 3/5\n",
      "34/34 [==============================] - ETA: 0s - loss: 0.5259 - categorical_accuracy: 0.8220\n",
      "Epoch 3: saving model to model_init_2022-07-1306_43_49.378336/model-00003-0.52587-0.82202-0.95027-0.64000.h5\n",
      "34/34 [==============================] - 28s 848ms/step - loss: 0.5259 - categorical_accuracy: 0.8220 - val_loss: 0.9503 - val_categorical_accuracy: 0.6400 - lr: 0.0010\n",
      "Epoch 4/5\n",
      "34/34 [==============================] - ETA: 0s - loss: 0.3389 - categorical_accuracy: 0.8974\n",
      "Epoch 4: saving model to model_init_2022-07-1306_43_49.378336/model-00004-0.33895-0.89744-0.67135-0.81000.h5\n",
      "34/34 [==============================] - 29s 859ms/step - loss: 0.3389 - categorical_accuracy: 0.8974 - val_loss: 0.6713 - val_categorical_accuracy: 0.8100 - lr: 0.0010\n",
      "Epoch 5/5\n",
      "34/34 [==============================] - ETA: 0s - loss: 0.1809 - categorical_accuracy: 0.9532\n",
      "Epoch 5: saving model to model_init_2022-07-1306_43_49.378336/model-00005-0.18092-0.95324-0.84460-0.70000.h5\n",
      "34/34 [==============================] - 29s 865ms/step - loss: 0.1809 - categorical_accuracy: 0.9532 - val_loss: 0.8446 - val_categorical_accuracy: 0.7000 - lr: 0.0010\n"
     ]
    }
   ],
   "source": [
    "history = mobileNetModel.fit(train_generator, steps_per_epoch=steps_per_epoch, epochs=num_epochs, verbose=1, \n",
    "                    callbacks=callbacks_list, validation_data=val_generator, \n",
    "                    validation_steps=validation_steps, class_weight=None, workers=1, initial_epoch=0)"
   ]
  },
  {
   "cell_type": "code",
   "execution_count": 141,
   "metadata": {
    "colab": {
     "base_uri": "https://localhost:8080/",
     "height": 399
    },
    "id": "Dk5nN-jQdX1c",
    "outputId": "92ee8231-f41c-4050-91a2-10bd6009594c"
   },
   "outputs": [
    {
     "data": {
      "text/plain": [
       "<matplotlib.legend.Legend at 0x7fdcb066a1d0>"
      ]
     },
     "execution_count": 141,
     "metadata": {},
     "output_type": "execute_result"
    },
    {
     "data": {
      "image/png": "[encoded data removed]",
      "text/plain": [
       "<Figure size 1440x432 with 2 Axes>"
      ]
     },
     "metadata": {
      "needs_background": "light"
     },
     "output_type": "display_data"
    }
   ],
   "source": [
    "# Plotting the result of Model 10 :\n",
    "\n",
    "# summarize history for accuracy\n",
    "\n",
    "\n",
    "plt.figure(figsize=(20,6))\n",
    "ax1 = plt.subplot(121)\n",
    "ax1 = plt.plot(history.history['loss'])\n",
    "ax1 = plt.plot(history.history['val_loss'])\n",
    "plt.title('model loss')\n",
    "plt.ylabel('loss')\n",
    "plt.xlabel('epoch')\n",
    "plt.legend(['train', 'validation'], loc='lower left')\n",
    "ax2 = plt.subplot(122)\n",
    "ax2 = plt.plot(history.history['categorical_accuracy'])\n",
    "ax2 = plt.plot(history.history['val_categorical_accuracy'])\n",
    "plt.title('model accuracy')\n",
    "plt.ylabel('categorical_accuracy')\n",
    "plt.xlabel('epoch')\n",
    "plt.legend(['train', 'validation'], loc='lower left')"
   ]
  },
  {
   "cell_type": "markdown",
   "metadata": {
    "id": "vDsW2kdKdkge"
   },
   "source": [
    "We are not training the mobilenet weights and we see validation accuracy is very poor. Let's train them as well and observe if there is performance improvement.\n"
   ]
  },
  {
   "cell_type": "markdown",
   "metadata": {
    "id": "d7q_CgW0ppSZ"
   },
   "source": [
    "# Model 11:\n",
    "\n",
    "Transfer Learning with GRU and training all weights"
   ]
  },
  {
   "cell_type": "code",
   "execution_count": 69,
   "metadata": {
    "colab": {
     "base_uri": "https://localhost:8080/"
    },
    "id": "5buUA8A4djwS",
    "outputId": "6091d576-b789-4054-f730-3ab8d63f4a0d"
   },
   "outputs": [
    {
     "name": "stdout",
     "output_type": "stream",
     "text": [
      "WARNING:tensorflow:`input_shape` is undefined or non-square, or `rows` is not in [128, 160, 192, 224]. Weights for input shape (224, 224) will be loaded as the default.\n",
      "Model: \"sequential_9\"\n",
      "_________________________________________________________________\n",
      " Layer (type)                Output Shape              Param #   \n",
      "=================================================================\n",
      " time_distributed_45 (TimeDi  (None, 18, 3, 3, 1024)   3228864   \n",
      " stributed)                                                      \n",
      "                                                                 \n",
      " time_distributed_46 (TimeDi  (None, 18, 3, 3, 1024)   4096      \n",
      " stributed)                                                      \n",
      "                                                                 \n",
      " time_distributed_47 (TimeDi  (None, 18, 1, 1, 1024)   0         \n",
      " stributed)                                                      \n",
      "                                                                 \n",
      " time_distributed_48 (TimeDi  (None, 18, 1024)         0         \n",
      " stributed)                                                      \n",
      "                                                                 \n",
      " lstm_2 (LSTM)               (None, 128)               590336    \n",
      "                                                                 \n",
      " dropout_18 (Dropout)        (None, 128)               0         \n",
      "                                                                 \n",
      " dense_24 (Dense)            (None, 128)               16512     \n",
      "                                                                 \n",
      " dropout_19 (Dropout)        (None, 128)               0         \n",
      "                                                                 \n",
      " dense_25 (Dense)            (None, 5)                 645       \n",
      "                                                                 \n",
      "=================================================================\n",
      "Total params: 3,840,453\n",
      "Trainable params: 609,541\n",
      "Non-trainable params: 3,230,912\n",
      "_________________________________________________________________\n",
      "None\n"
     ]
    }
   ],
   "source": [
    "from keras.applications import mobilenet\n",
    "\n",
    "mobilenet_transfer = mobilenet.MobileNet(weights='imagenet', include_top=False)\n",
    "\n",
    "input_shape = (18,120,120,3)\n",
    "        \n",
    "mobileNetModelWeight = Sequential()\n",
    "mobileNetModelWeight.add(TimeDistributed(mobilenet_transfer,input_shape=(input_shape)))\n",
    "\n",
    "\n",
    "mobileNetModelWeight.add(TimeDistributed(BatchNormalization()))\n",
    "mobileNetModelWeight.add(TimeDistributed(MaxPooling2D((2, 2))))\n",
    "mobileNetModelWeight.add(TimeDistributed(Flatten()))\n",
    "\n",
    "mobileNetModelWeight.add(GRU(128))\n",
    "mobileNetModelWeight.add(Dropout(0.25))\n",
    "\n",
    "mobileNetModelWeight.add(Dense(128,activation='relu'))\n",
    "mobileNetModelWeight.add(Dropout(0.25))\n",
    "\n",
    "mobileNetModelWeight.add(Dense(5, activation='softmax'))\n",
    "\n",
    "\n",
    "optimiser = optimizers.Adam()\n",
    "mobileNetModelWeight.compile(optimizer=optimiser, loss='categorical_crossentropy', metrics=['categorical_accuracy'])\n",
    "print (mobileNetModel.summary())"
   ]
  },
  {
   "cell_type": "code",
   "execution_count": 70,
   "metadata": {
    "colab": {
     "base_uri": "https://localhost:8080/"
    },
    "id": "dhpOeblNdzVe",
    "outputId": "f2ebcc56-dc07-4112-c70a-701bcba153a8"
   },
   "outputs": [
    {
     "name": "stdout",
     "output_type": "stream",
     "text": [
      "# training sequences = 663\n",
      "# validation sequences = 100\n",
      "# epochs = 5\n"
     ]
    }
   ],
   "source": [
    "batch_size = 20\n",
    "curr_dt_time = datetime.datetime.now()\n",
    "train_path = '/content/Project_data/train'\n",
    "val_path = '/content/Project_data/val'\n",
    "num_train_sequences = len(train_doc)\n",
    "print('# training sequences =', num_train_sequences)\n",
    "num_val_sequences = len(val_doc)\n",
    "print('# validation sequences =', num_val_sequences)\n",
    "# choose the number of epochs\n",
    "num_epochs = 5\n",
    "print ('# epochs =', num_epochs)"
   ]
  },
  {
   "cell_type": "code",
   "execution_count": 71,
   "metadata": {
    "colab": {
     "base_uri": "https://localhost:8080/"
    },
    "id": "oJck3YGFd1xr",
    "outputId": "c279ea62-b83a-4231-91ca-0c02b5952233"
   },
   "outputs": [
    {
     "name": "stdout",
     "output_type": "stream",
     "text": [
      "WARNING:tensorflow:`period` argument is deprecated. Please use `save_freq` to specify the frequency in number of batches seen.\n"
     ]
    }
   ],
   "source": [
    "train_generator = generatorMobileNet(train_path, train_doc, batch_size)\n",
    "val_generator = generatorMobileNet(val_path, val_doc, batch_size)\n",
    "\n",
    "model_name = 'model_init' + '_' + str(curr_dt_time).replace(' ','').replace(':','_') + '/'\n",
    "    \n",
    "if not os.path.exists(model_name):\n",
    "    os.mkdir(model_name)\n",
    "        \n",
    "filepath = model_name + 'model-{epoch:05d}-{loss:.5f}-{categorical_accuracy:.5f}-{val_loss:.5f}-{val_categorical_accuracy:.5f}.h5'\n",
    "\n",
    "checkpoint = ModelCheckpoint(filepath, monitor='val_loss', verbose=1, save_best_only=False, save_weights_only=False, mode='auto', period=1)\n",
    "\n",
    "# write the REducelronplateau code here\n",
    "LR = ReduceLROnPlateau(monitor='val_loss', factor=0.2, patience=4)\n",
    "\n",
    "callbacks_list = [checkpoint, LR]\n",
    "\n",
    "if (num_train_sequences%batch_size) == 0:\n",
    "    steps_per_epoch = int(num_train_sequences/batch_size)\n",
    "else:\n",
    "    steps_per_epoch = (num_train_sequences//batch_size) + 1\n",
    "\n",
    "if (num_val_sequences%batch_size) == 0:\n",
    "    validation_steps = int(num_val_sequences/batch_size)\n",
    "else:\n",
    "    validation_steps = (num_val_sequences//batch_size) + 1"
   ]
  },
  {
   "cell_type": "code",
   "execution_count": 72,
   "metadata": {
    "colab": {
     "base_uri": "https://localhost:8080/"
    },
    "id": "hMJeWvvMd4DU",
    "outputId": "4aa5b868-8852-4699-a96e-b5f1c74b6aec"
   },
   "outputs": [
    {
     "name": "stdout",
     "output_type": "stream",
     "text": [
      "Source path =  /content/Project_data/train ; batch size = 20\n",
      "Epoch 1/5\n",
      "34/34 [==============================] - ETA: 0s - loss: 1.0735 - categorical_accuracy: 0.5732Source path =  /content/Project_data/val ; batch size = 20\n",
      "\n",
      "Epoch 1: saving model to model_init_2022-07-1306_17_51.703059/model-00001-1.07349-0.57315-1.04512-0.57000.h5\n",
      "34/34 [==============================] - 59s 1s/step - loss: 1.0735 - categorical_accuracy: 0.5732 - val_loss: 1.0451 - val_categorical_accuracy: 0.5700 - lr: 0.0010\n",
      "Epoch 2/5\n",
      "34/34 [==============================] - ETA: 0s - loss: 0.4628 - categorical_accuracy: 0.8039\n",
      "Epoch 2: saving model to model_init_2022-07-1306_17_51.703059/model-00002-0.46276-0.80392-0.73770-0.65000.h5\n",
      "34/34 [==============================] - 34s 1s/step - loss: 0.4628 - categorical_accuracy: 0.8039 - val_loss: 0.7377 - val_categorical_accuracy: 0.6500 - lr: 0.0010\n",
      "Epoch 3/5\n",
      "34/34 [==============================] - ETA: 0s - loss: 0.3283 - categorical_accuracy: 0.8778\n",
      "Epoch 3: saving model to model_init_2022-07-1306_17_51.703059/model-00003-0.32830-0.87783-0.69568-0.73000.h5\n",
      "34/34 [==============================] - 32s 958ms/step - loss: 0.3283 - categorical_accuracy: 0.8778 - val_loss: 0.6957 - val_categorical_accuracy: 0.7300 - lr: 0.0010\n",
      "Epoch 4/5\n",
      "34/34 [==============================] - ETA: 0s - loss: 0.2040 - categorical_accuracy: 0.9231\n",
      "Epoch 4: saving model to model_init_2022-07-1306_17_51.703059/model-00004-0.20399-0.92308-0.22136-0.93000.h5\n",
      "34/34 [==============================] - 33s 966ms/step - loss: 0.2040 - categorical_accuracy: 0.9231 - val_loss: 0.2214 - val_categorical_accuracy: 0.9300 - lr: 0.0010\n",
      "Epoch 5/5\n",
      "34/34 [==============================] - ETA: 0s - loss: 0.1762 - categorical_accuracy: 0.9351\n",
      "Epoch 5: saving model to model_init_2022-07-1306_17_51.703059/model-00005-0.17621-0.93514-0.42471-0.86000.h5\n",
      "34/34 [==============================] - 34s 1s/step - loss: 0.1762 - categorical_accuracy: 0.9351 - val_loss: 0.4247 - val_categorical_accuracy: 0.8600 - lr: 0.0010\n"
     ]
    }
   ],
   "source": [
    "history = mobileNetModelWeight.fit(train_generator, steps_per_epoch=steps_per_epoch, epochs=num_epochs, verbose=1, \n",
    "                    callbacks=callbacks_list, validation_data=val_generator, \n",
    "                    validation_steps=validation_steps, class_weight=None, workers=1, initial_epoch=0)"
   ]
  },
  {
   "cell_type": "code",
   "execution_count": 73,
   "metadata": {
    "colab": {
     "base_uri": "https://localhost:8080/",
     "height": 399
    },
    "id": "VZoJZifTeAPH",
    "outputId": "151c4ea5-5932-4c03-a683-78d232fbcf86"
   },
   "outputs": [
    {
     "data": {
      "text/plain": [
       "<matplotlib.legend.Legend at 0x7fdd7a4c79d0>"
      ]
     },
     "execution_count": 73,
     "metadata": {},
     "output_type": "execute_result"
    },
    {
     "data": {
      "image/png": "[encoded data removed]",
      "text/plain": [
       "<Figure size 1440x432 with 2 Axes>"
      ]
     },
     "metadata": {
      "needs_background": "light"
     },
     "output_type": "display_data"
    }
   ],
   "source": [
    "# Plotting the result of Model 11 :\n",
    "\n",
    "# summarize history for accuracy\n",
    "\n",
    "\n",
    "plt.figure(figsize=(20,6))\n",
    "ax1 = plt.subplot(121)\n",
    "ax1 = plt.plot(history.history['loss'])\n",
    "ax1 = plt.plot(history.history['val_loss'])\n",
    "plt.title('model loss')\n",
    "plt.ylabel('loss')\n",
    "plt.xlabel('epoch')\n",
    "plt.legend(['train', 'validation'], loc='lower left')\n",
    "ax2 = plt.subplot(122)\n",
    "ax2 = plt.plot(history.history['categorical_accuracy'])\n",
    "ax2 = plt.plot(history.history['val_categorical_accuracy'])\n",
    "plt.title('model accuracy')\n",
    "plt.ylabel('categorical_accuracy')\n",
    "plt.xlabel('epoch')\n",
    "plt.legend(['train', 'validation'], loc='lower left')"
   ]
  },
  {
   "cell_type": "code",
   "execution_count": null,
   "metadata": {
    "id": "thQ4s5S9QQuy"
   },
   "outputs": [],
   "source": []
  }
 ],
 "metadata": {
  "accelerator": "GPU",
  "colab": {
   "collapsed_sections": [],
   "name": "Gesture_recognization_asawari_bhosale.ipynb",
   "provenance": []
  },
  "gpuClass": "standard",
  "kernelspec": {
   "display_name": "Python 3 (ipykernel)",
   "language": "python",
   "name": "python3"
  },
  "language_info": {
   "codemirror_mode": {
    "name": "ipython",
    "version": 3
   },
   "file_extension": ".py",
   "mimetype": "text/x-python",
   "name": "python",
   "nbconvert_exporter": "python",
   "pygments_lexer": "ipython3",
   "version": "3.9.7"
  }
 },
 "nbformat": 4,
 "nbformat_minor": 1
}
